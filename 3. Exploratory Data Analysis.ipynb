{
 "cells": [
  {
   "cell_type": "markdown",
   "id": "ac03b457",
   "metadata": {},
   "source": [
    "## Exploratory Data Analysis\n",
    "\n",
    "This exploratory data analysis provided a comprehensive overview of customer behaviors, revenue drivers, and product performance.\n",
    "\n",
    "### Buyer Persona & Customer Insights\n",
    "- The **typical buyer** is a man or woman aged **56+**, from **Germany**, and is a **regular customer**.\n",
    "- The **discount buyer persona** also matches this profile: **German, aged 56–65, regular customer**.\n",
    "- **Age and turnover** are slightly related — older customers tend to contribute more to overall revenue.\n",
    "\n",
    "### Product Performance & Preferences\n",
    "- **Top-selling books** include:\n",
    "  - *Scott Pilgrim's Precious Little Life*\n",
    "  - *Tipping the Velvet*\n",
    "  - *Soumission*\n",
    "  - *A Light in the Attic*\n",
    "  - *The Black Maria*\n",
    "  \n",
    "- **Top-rated books** (average rating):\n",
    "  - *Set Me Free* – 3.61  \n",
    "  - *Shakespeare's Sonnets* – 3.61  \n",
    "  - *A Light in the Attic* – 3.51  \n",
    "  - *The Coming Woman* – 3.46  \n",
    "  - *Rip it Up and Start Again* – 3.44  \n",
    "\n",
    "- **Poetry** is the **most profitable category**, while **Business** is the **least**.\n",
    "- Readers born **before and after 1990** share similar preferences in book categories, especially in **Poetry**, **Young Adult**, and **Default**.\n",
    "\n",
    "### Revenue & Seasonality\n",
    "- **Summer months** consistently stand out as the **strongest in terms of sales**, indicating seasonal purchasing trends.\n",
    "- **Publishing houses** generate **higher basket sizes and overall turnover** compared to individual sellers.\n",
    "- **Top-performing sellers** by revenue include:\n",
    "  - Beth Keller\n",
    "  - Kevin Cox\n",
    "  - Melanie Herrera\n",
    "  - Daniel Adams\n",
    "  - Crystal Johnson\n",
    "\n",
    "### Relationships & Correlations\n",
    "- A **weak negative correlation** exists between **price and rating** — higher-priced books tend to receive slightly lower ratings."
   ]
  },
  {
   "cell_type": "code",
   "execution_count": null,
   "id": "5c8accfe",
   "metadata": {},
   "outputs": [],
   "source": [
    "# importing modules\n",
    "\n",
    "import pandas as pd\n",
    "import matplotlib.pyplot as plt\n",
    "import numpy as np\n",
    "import seaborn as sns\n",
    "\n",
    "# importing files\n",
    "\n",
    "buyers = pd.read_csv(r\"C:\\Users\\Desktop\\results_python\\buyers.csv\")\n",
    "products = pd.read_csv(r\"C:\\Users\\Desktop\\results_python\\products.csv\")\n",
    "reviews = pd.read_csv(r\"C:\\Users\\Desktop\\results_python\\reviews.csv\")\n",
    "sellers = pd.read_csv(r\"C:\\Users\\Desktop\\results_python\\sellers.csv\")\n",
    "transactions = pd.read_csv(r\"C:\\Users\\Desktop\\results_python\\transactions.csv\")\n",
    "\n",
    "# setting a plot style\n",
    "\n",
    "plt.style.use('ggplot')"
   ]
  },
  {
   "cell_type": "code",
   "execution_count": 487,
   "id": "b6cea0dc",
   "metadata": {},
   "outputs": [
    {
     "data": {
      "text/plain": [
       "' basic understanding of the BUYERS '"
      ]
     },
     "execution_count": 487,
     "metadata": {},
     "output_type": "execute_result"
    }
   ],
   "source": [
    "\"\"\" basic understanding of the BUYERS \"\"\""
   ]
  },
  {
   "cell_type": "code",
   "execution_count": 488,
   "id": "478d7f6c",
   "metadata": {},
   "outputs": [
    {
     "data": {
      "text/plain": [
       "(3000, 6)"
      ]
     },
     "execution_count": 488,
     "metadata": {},
     "output_type": "execute_result"
    }
   ],
   "source": [
    "buyers.shape"
   ]
  },
  {
   "cell_type": "code",
   "execution_count": 489,
   "id": "5482b2a2",
   "metadata": {},
   "outputs": [
    {
     "data": {
      "text/html": [
       "<div>\n",
       "<style scoped>\n",
       "    .dataframe tbody tr th:only-of-type {\n",
       "        vertical-align: middle;\n",
       "    }\n",
       "\n",
       "    .dataframe tbody tr th {\n",
       "        vertical-align: top;\n",
       "    }\n",
       "\n",
       "    .dataframe thead th {\n",
       "        text-align: right;\n",
       "    }\n",
       "</style>\n",
       "<table border=\"1\" class=\"dataframe\">\n",
       "  <thead>\n",
       "    <tr style=\"text-align: right;\">\n",
       "      <th></th>\n",
       "      <th>buyer_id</th>\n",
       "      <th>name</th>\n",
       "      <th>gender</th>\n",
       "      <th>birthdate</th>\n",
       "      <th>country</th>\n",
       "      <th>customer_type</th>\n",
       "    </tr>\n",
       "  </thead>\n",
       "  <tbody>\n",
       "    <tr>\n",
       "      <th>0</th>\n",
       "      <td>1</td>\n",
       "      <td>Matthew Lucas</td>\n",
       "      <td>F</td>\n",
       "      <td>1948-08-22</td>\n",
       "      <td>Spain</td>\n",
       "      <td>régulier</td>\n",
       "    </tr>\n",
       "    <tr>\n",
       "      <th>1</th>\n",
       "      <td>2</td>\n",
       "      <td>Gerald Hensley</td>\n",
       "      <td>F</td>\n",
       "      <td>1961-06-09</td>\n",
       "      <td>Germany</td>\n",
       "      <td>nouveau</td>\n",
       "    </tr>\n",
       "    <tr>\n",
       "      <th>2</th>\n",
       "      <td>3</td>\n",
       "      <td>Joshua Taylor</td>\n",
       "      <td>M</td>\n",
       "      <td>1957-01-01</td>\n",
       "      <td>Italy</td>\n",
       "      <td>vip</td>\n",
       "    </tr>\n",
       "    <tr>\n",
       "      <th>3</th>\n",
       "      <td>4</td>\n",
       "      <td>David Leblanc</td>\n",
       "      <td>M</td>\n",
       "      <td>1974-09-03</td>\n",
       "      <td>Netherlands</td>\n",
       "      <td>régulier</td>\n",
       "    </tr>\n",
       "    <tr>\n",
       "      <th>4</th>\n",
       "      <td>5</td>\n",
       "      <td>Savannah Garcia</td>\n",
       "      <td>M</td>\n",
       "      <td>1988-11-23</td>\n",
       "      <td>Belgium</td>\n",
       "      <td>régulier</td>\n",
       "    </tr>\n",
       "    <tr>\n",
       "      <th>5</th>\n",
       "      <td>6</td>\n",
       "      <td>Dr. Tracy House Dvm</td>\n",
       "      <td>M</td>\n",
       "      <td>1955-11-01</td>\n",
       "      <td>Germany</td>\n",
       "      <td>régulier</td>\n",
       "    </tr>\n",
       "    <tr>\n",
       "      <th>6</th>\n",
       "      <td>7</td>\n",
       "      <td>John Hancock</td>\n",
       "      <td>F</td>\n",
       "      <td>2005-12-05</td>\n",
       "      <td>Italy</td>\n",
       "      <td>nouveau</td>\n",
       "    </tr>\n",
       "    <tr>\n",
       "      <th>7</th>\n",
       "      <td>8</td>\n",
       "      <td>James Galloway</td>\n",
       "      <td>M</td>\n",
       "      <td>1962-07-25</td>\n",
       "      <td>Spain</td>\n",
       "      <td>régulier</td>\n",
       "    </tr>\n",
       "    <tr>\n",
       "      <th>8</th>\n",
       "      <td>9</td>\n",
       "      <td>Rachel Mitchell</td>\n",
       "      <td>F</td>\n",
       "      <td>1991-12-02</td>\n",
       "      <td>Belgium</td>\n",
       "      <td>régulier</td>\n",
       "    </tr>\n",
       "    <tr>\n",
       "      <th>9</th>\n",
       "      <td>10</td>\n",
       "      <td>Whitney Peters</td>\n",
       "      <td>F</td>\n",
       "      <td>1993-05-28</td>\n",
       "      <td>Germany</td>\n",
       "      <td>régulier</td>\n",
       "    </tr>\n",
       "  </tbody>\n",
       "</table>\n",
       "</div>"
      ],
      "text/plain": [
       "   buyer_id                 name gender   birthdate      country customer_type\n",
       "0         1        Matthew Lucas      F  1948-08-22        Spain      régulier\n",
       "1         2       Gerald Hensley      F  1961-06-09      Germany       nouveau\n",
       "2         3        Joshua Taylor      M  1957-01-01        Italy           vip\n",
       "3         4        David Leblanc      M  1974-09-03  Netherlands      régulier\n",
       "4         5      Savannah Garcia      M  1988-11-23      Belgium      régulier\n",
       "5         6  Dr. Tracy House Dvm      M  1955-11-01      Germany      régulier\n",
       "6         7         John Hancock      F  2005-12-05        Italy       nouveau\n",
       "7         8       James Galloway      M  1962-07-25        Spain      régulier\n",
       "8         9      Rachel Mitchell      F  1991-12-02      Belgium      régulier\n",
       "9        10       Whitney Peters      F  1993-05-28      Germany      régulier"
      ]
     },
     "execution_count": 489,
     "metadata": {},
     "output_type": "execute_result"
    }
   ],
   "source": [
    "buyers.head(10)"
   ]
  },
  {
   "cell_type": "code",
   "execution_count": 490,
   "id": "455fc389",
   "metadata": {},
   "outputs": [
    {
     "data": {
      "text/plain": [
       "buyer_id          int64\n",
       "name             object\n",
       "gender           object\n",
       "birthdate        object\n",
       "country          object\n",
       "customer_type    object\n",
       "dtype: object"
      ]
     },
     "execution_count": 490,
     "metadata": {},
     "output_type": "execute_result"
    }
   ],
   "source": [
    "buyers.dtypes"
   ]
  },
  {
   "cell_type": "code",
   "execution_count": 491,
   "id": "9588f4ae",
   "metadata": {},
   "outputs": [
    {
     "data": {
      "text/html": [
       "<div>\n",
       "<style scoped>\n",
       "    .dataframe tbody tr th:only-of-type {\n",
       "        vertical-align: middle;\n",
       "    }\n",
       "\n",
       "    .dataframe tbody tr th {\n",
       "        vertical-align: top;\n",
       "    }\n",
       "\n",
       "    .dataframe thead th {\n",
       "        text-align: right;\n",
       "    }\n",
       "</style>\n",
       "<table border=\"1\" class=\"dataframe\">\n",
       "  <thead>\n",
       "    <tr style=\"text-align: right;\">\n",
       "      <th></th>\n",
       "      <th>buyer_id</th>\n",
       "    </tr>\n",
       "  </thead>\n",
       "  <tbody>\n",
       "    <tr>\n",
       "      <th>count</th>\n",
       "      <td>3000.000000</td>\n",
       "    </tr>\n",
       "    <tr>\n",
       "      <th>mean</th>\n",
       "      <td>1500.500000</td>\n",
       "    </tr>\n",
       "    <tr>\n",
       "      <th>std</th>\n",
       "      <td>866.169729</td>\n",
       "    </tr>\n",
       "    <tr>\n",
       "      <th>min</th>\n",
       "      <td>1.000000</td>\n",
       "    </tr>\n",
       "    <tr>\n",
       "      <th>25%</th>\n",
       "      <td>750.750000</td>\n",
       "    </tr>\n",
       "    <tr>\n",
       "      <th>50%</th>\n",
       "      <td>1500.500000</td>\n",
       "    </tr>\n",
       "    <tr>\n",
       "      <th>75%</th>\n",
       "      <td>2250.250000</td>\n",
       "    </tr>\n",
       "    <tr>\n",
       "      <th>max</th>\n",
       "      <td>3000.000000</td>\n",
       "    </tr>\n",
       "  </tbody>\n",
       "</table>\n",
       "</div>"
      ],
      "text/plain": [
       "          buyer_id\n",
       "count  3000.000000\n",
       "mean   1500.500000\n",
       "std     866.169729\n",
       "min       1.000000\n",
       "25%     750.750000\n",
       "50%    1500.500000\n",
       "75%    2250.250000\n",
       "max    3000.000000"
      ]
     },
     "execution_count": 491,
     "metadata": {},
     "output_type": "execute_result"
    }
   ],
   "source": [
    "buyers.describe()"
   ]
  },
  {
   "cell_type": "code",
   "execution_count": 492,
   "id": "4004299f",
   "metadata": {},
   "outputs": [
    {
     "data": {
      "text/plain": [
       "Index(['buyer_id', 'name', 'gender', 'birthdate', 'country', 'customer_type'], dtype='object')"
      ]
     },
     "execution_count": 492,
     "metadata": {},
     "output_type": "execute_result"
    }
   ],
   "source": [
    "buyers.columns"
   ]
  },
  {
   "cell_type": "code",
   "execution_count": 493,
   "id": "c5e770e7",
   "metadata": {},
   "outputs": [
    {
     "data": {
      "text/plain": [
       "' data preperation of the BUYERS '"
      ]
     },
     "execution_count": 493,
     "metadata": {},
     "output_type": "execute_result"
    }
   ],
   "source": [
    "\"\"\" data preperation of the BUYERS \"\"\""
   ]
  },
  {
   "cell_type": "code",
   "execution_count": 494,
   "id": "a5113c1b",
   "metadata": {},
   "outputs": [],
   "source": [
    "# changing data types of the columns\n",
    "\n",
    "def convert_date(df,col):\n",
    "    df[col] = pd.to_datetime(df[col], errors='coerce')\n",
    "    return df.dtypes"
   ]
  },
  {
   "cell_type": "code",
   "execution_count": 495,
   "id": "69b3a2d6",
   "metadata": {},
   "outputs": [
    {
     "data": {
      "text/plain": [
       "buyer_id                  int64\n",
       "name                     object\n",
       "gender                   object\n",
       "birthdate        datetime64[ns]\n",
       "country                  object\n",
       "customer_type            object\n",
       "dtype: object"
      ]
     },
     "execution_count": 495,
     "metadata": {},
     "output_type": "execute_result"
    }
   ],
   "source": [
    "convert_date(buyers,'birthdate')"
   ]
  },
  {
   "cell_type": "code",
   "execution_count": 496,
   "id": "c7b0eb92",
   "metadata": {},
   "outputs": [
    {
     "data": {
      "text/plain": [
       "buyer_id         0\n",
       "name             0\n",
       "gender           0\n",
       "birthdate        0\n",
       "country          0\n",
       "customer_type    0\n",
       "dtype: int64"
      ]
     },
     "execution_count": 496,
     "metadata": {},
     "output_type": "execute_result"
    }
   ],
   "source": [
    "buyers.isnull().sum()"
   ]
  },
  {
   "cell_type": "code",
   "execution_count": 497,
   "id": "732f51d7",
   "metadata": {},
   "outputs": [],
   "source": [
    "def def_duplicated(df):\n",
    "    return df.loc[df.duplicated(keep=False)]"
   ]
  },
  {
   "cell_type": "code",
   "execution_count": 498,
   "id": "5ef6d728",
   "metadata": {},
   "outputs": [
    {
     "data": {
      "text/html": [
       "<div>\n",
       "<style scoped>\n",
       "    .dataframe tbody tr th:only-of-type {\n",
       "        vertical-align: middle;\n",
       "    }\n",
       "\n",
       "    .dataframe tbody tr th {\n",
       "        vertical-align: top;\n",
       "    }\n",
       "\n",
       "    .dataframe thead th {\n",
       "        text-align: right;\n",
       "    }\n",
       "</style>\n",
       "<table border=\"1\" class=\"dataframe\">\n",
       "  <thead>\n",
       "    <tr style=\"text-align: right;\">\n",
       "      <th></th>\n",
       "      <th>buyer_id</th>\n",
       "      <th>name</th>\n",
       "      <th>gender</th>\n",
       "      <th>birthdate</th>\n",
       "      <th>country</th>\n",
       "      <th>customer_type</th>\n",
       "    </tr>\n",
       "  </thead>\n",
       "  <tbody>\n",
       "  </tbody>\n",
       "</table>\n",
       "</div>"
      ],
      "text/plain": [
       "Empty DataFrame\n",
       "Columns: [buyer_id, name, gender, birthdate, country, customer_type]\n",
       "Index: []"
      ]
     },
     "execution_count": 498,
     "metadata": {},
     "output_type": "execute_result"
    }
   ],
   "source": [
    "def_duplicated(buyers)"
   ]
  },
  {
   "cell_type": "code",
   "execution_count": 499,
   "id": "abfd47f9",
   "metadata": {},
   "outputs": [],
   "source": [
    "def del_duplicated(df):\n",
    "    df = df.loc[~df.duplicated()].reset_index(drop=True).copy()"
   ]
  },
  {
   "cell_type": "code",
   "execution_count": 500,
   "id": "278d3d9a",
   "metadata": {},
   "outputs": [],
   "source": [
    "del_duplicated(buyers)"
   ]
  },
  {
   "cell_type": "code",
   "execution_count": 501,
   "id": "21761f3b",
   "metadata": {},
   "outputs": [],
   "source": [
    "from datetime import date\n",
    "\n",
    "days_in_year = 365.2425\n",
    "buyers[\"age\"] = ((pd.Timestamp.today() - buyers[\"birthdate\"]).dt.days / days_in_year).astype(\"int\")"
   ]
  },
  {
   "cell_type": "code",
   "execution_count": 502,
   "id": "84e5391b",
   "metadata": {},
   "outputs": [
    {
     "data": {
      "text/plain": [
       "' BUYERS feature understanding (univariate analysis) '"
      ]
     },
     "execution_count": 502,
     "metadata": {},
     "output_type": "execute_result"
    }
   ],
   "source": [
    "\"\"\" BUYERS feature understanding (univariate analysis) \"\"\""
   ]
  },
  {
   "cell_type": "code",
   "execution_count": 503,
   "id": "5c82d29d",
   "metadata": {},
   "outputs": [
    {
     "data": {
      "text/html": [
       "<div>\n",
       "<style scoped>\n",
       "    .dataframe tbody tr th:only-of-type {\n",
       "        vertical-align: middle;\n",
       "    }\n",
       "\n",
       "    .dataframe tbody tr th {\n",
       "        vertical-align: top;\n",
       "    }\n",
       "\n",
       "    .dataframe thead th {\n",
       "        text-align: right;\n",
       "    }\n",
       "</style>\n",
       "<table border=\"1\" class=\"dataframe\">\n",
       "  <thead>\n",
       "    <tr style=\"text-align: right;\">\n",
       "      <th></th>\n",
       "      <th>buyer_id</th>\n",
       "      <th>name</th>\n",
       "      <th>gender</th>\n",
       "      <th>birthdate</th>\n",
       "      <th>country</th>\n",
       "      <th>customer_type</th>\n",
       "      <th>age</th>\n",
       "    </tr>\n",
       "  </thead>\n",
       "  <tbody>\n",
       "    <tr>\n",
       "      <th>0</th>\n",
       "      <td>1</td>\n",
       "      <td>Matthew Lucas</td>\n",
       "      <td>F</td>\n",
       "      <td>1948-08-22</td>\n",
       "      <td>Spain</td>\n",
       "      <td>régulier</td>\n",
       "      <td>76</td>\n",
       "    </tr>\n",
       "    <tr>\n",
       "      <th>1</th>\n",
       "      <td>2</td>\n",
       "      <td>Gerald Hensley</td>\n",
       "      <td>F</td>\n",
       "      <td>1961-06-09</td>\n",
       "      <td>Germany</td>\n",
       "      <td>nouveau</td>\n",
       "      <td>64</td>\n",
       "    </tr>\n",
       "    <tr>\n",
       "      <th>2</th>\n",
       "      <td>3</td>\n",
       "      <td>Joshua Taylor</td>\n",
       "      <td>M</td>\n",
       "      <td>1957-01-01</td>\n",
       "      <td>Italy</td>\n",
       "      <td>vip</td>\n",
       "      <td>68</td>\n",
       "    </tr>\n",
       "    <tr>\n",
       "      <th>3</th>\n",
       "      <td>4</td>\n",
       "      <td>David Leblanc</td>\n",
       "      <td>M</td>\n",
       "      <td>1974-09-03</td>\n",
       "      <td>Netherlands</td>\n",
       "      <td>régulier</td>\n",
       "      <td>50</td>\n",
       "    </tr>\n",
       "    <tr>\n",
       "      <th>4</th>\n",
       "      <td>5</td>\n",
       "      <td>Savannah Garcia</td>\n",
       "      <td>M</td>\n",
       "      <td>1988-11-23</td>\n",
       "      <td>Belgium</td>\n",
       "      <td>régulier</td>\n",
       "      <td>36</td>\n",
       "    </tr>\n",
       "  </tbody>\n",
       "</table>\n",
       "</div>"
      ],
      "text/plain": [
       "   buyer_id             name gender  birthdate      country customer_type  age\n",
       "0         1    Matthew Lucas      F 1948-08-22        Spain      régulier   76\n",
       "1         2   Gerald Hensley      F 1961-06-09      Germany       nouveau   64\n",
       "2         3    Joshua Taylor      M 1957-01-01        Italy           vip   68\n",
       "3         4    David Leblanc      M 1974-09-03  Netherlands      régulier   50\n",
       "4         5  Savannah Garcia      M 1988-11-23      Belgium      régulier   36"
      ]
     },
     "execution_count": 503,
     "metadata": {},
     "output_type": "execute_result"
    }
   ],
   "source": [
    "buyers.head()"
   ]
  },
  {
   "cell_type": "code",
   "execution_count": 504,
   "id": "fe9a7d62",
   "metadata": {},
   "outputs": [
    {
     "data": {
      "image/png": "[encoded data removed]",
      "text/plain": [
       "<Figure size 640x480 with 1 Axes>"
      ]
     },
     "metadata": {},
     "output_type": "display_data"
    }
   ],
   "source": [
    "\"\"\" buyer persona (gender) \"\"\"\n",
    "\n",
    "ax = buyers['gender'].value_counts().plot(kind='bar', title='Number of Clients by Gender')\n",
    "ax.set_xlabel(\"Gender\")\n",
    "ax.set_ylabel(\"Number of CLients\")\n",
    "\n",
    "for bar in ax.patches: # ax.patches gives access to the list of bars\n",
    "    height = bar.get_height()\n",
    "    ax.annotate(\n",
    "        f'{int(height)}', # text\n",
    "        xy=(bar.get_x() + (bar.get_width() / 2), height), # position tuple (float,float) (x,y)\n",
    "        ha='center', va='bottom', fontsize=10 # alignment\n",
    "    )\n",
    "plt.show()"
   ]
  },
  {
   "cell_type": "code",
   "execution_count": 505,
   "id": "2f8b29d9",
   "metadata": {},
   "outputs": [
    {
     "data": {
      "image/png": "[encoded data removed]",
      "text/plain": [
       "<Figure size 640x480 with 1 Axes>"
      ]
     },
     "metadata": {},
     "output_type": "display_data"
    }
   ],
   "source": [
    "\"\"\" buyer persona (country)\"\"\"\n",
    "\n",
    "ax = buyers['country'].value_counts().plot(kind='barh', title='Client by Country')\n",
    "ax.set_xlabel('Number of Clients')\n",
    "ax.set_ylabel('Country')\n",
    "\n",
    "for bar in ax.patches:\n",
    "    width = bar.get_width()\n",
    "    ax.annotate(\n",
    "        f'{int(width)}',\n",
    "        xy=(width, (bar.get_y() + bar.get_height() / 2)),\n",
    "        ha='left', va='center', fontsize=10\n",
    "    )\n",
    "\n",
    "plt.show()"
   ]
  },
  {
   "cell_type": "code",
   "execution_count": 506,
   "id": "429792b3",
   "metadata": {},
   "outputs": [
    {
     "data": {
      "text/plain": [
       "customer_type\n",
       "regular    1799\n",
       "new         912\n",
       "vip         289\n",
       "Name: count, dtype: int64"
      ]
     },
     "execution_count": 506,
     "metadata": {},
     "output_type": "execute_result"
    }
   ],
   "source": [
    "\"\"\" translating the data from French to English \"\"\"\n",
    "\n",
    "buyers['customer_type'] = buyers['customer_type'].replace('régulier', 'regular')\n",
    "buyers['customer_type'] = buyers['customer_type'].replace('nouveau', 'new')\n",
    "\n",
    "def count_the_values(dfcol):\n",
    "    return dfcol.value_counts()\n",
    "\n",
    "count_the_values(buyers['customer_type'])"
   ]
  },
  {
   "cell_type": "code",
   "execution_count": 507,
   "id": "ff482cf0",
   "metadata": {},
   "outputs": [
    {
     "data": {
      "image/png": "[encoded data removed]",
      "text/plain": [
       "<Figure size 640x480 with 1 Axes>"
      ]
     },
     "metadata": {},
     "output_type": "display_data"
    }
   ],
   "source": [
    "\"\"\" what's the age distribution of the clients \"\"\"\n",
    "\n",
    "ax = buyers['age'].plot(kind='hist', bins=30, title='Age distribution')\n",
    "ax.set_xlabel('Age')\n",
    "ax.set_label('Frequency')\n",
    "plt.show()"
   ]
  },
  {
   "cell_type": "code",
   "execution_count": 508,
   "id": "9da7e595",
   "metadata": {},
   "outputs": [
    {
     "data": {
      "text/plain": [
       "age\n",
       "34    66\n",
       "75    64\n",
       "61    62\n",
       "52    61\n",
       "30    60\n",
       "Name: count, dtype: int64"
      ]
     },
     "execution_count": 508,
     "metadata": {},
     "output_type": "execute_result"
    }
   ],
   "source": [
    "buyers['age'].value_counts().sort_values(ascending=False).head()"
   ]
  },
  {
   "cell_type": "code",
   "execution_count": 509,
   "id": "e6bd27f6",
   "metadata": {},
   "outputs": [
    {
     "data": {
      "text/plain": [
       "' basic understanding of the PRODUCTS '"
      ]
     },
     "execution_count": 509,
     "metadata": {},
     "output_type": "execute_result"
    }
   ],
   "source": [
    "\"\"\" basic understanding of the PRODUCTS \"\"\""
   ]
  },
  {
   "cell_type": "code",
   "execution_count": 510,
   "id": "22ebfcfa",
   "metadata": {},
   "outputs": [
    {
     "data": {
      "text/plain": [
       "(13, 7)"
      ]
     },
     "execution_count": 510,
     "metadata": {},
     "output_type": "execute_result"
    }
   ],
   "source": [
    "products.shape"
   ]
  },
  {
   "cell_type": "code",
   "execution_count": 511,
   "id": "a9712aaf",
   "metadata": {},
   "outputs": [
    {
     "data": {
      "text/html": [
       "<div>\n",
       "<style scoped>\n",
       "    .dataframe tbody tr th:only-of-type {\n",
       "        vertical-align: middle;\n",
       "    }\n",
       "\n",
       "    .dataframe tbody tr th {\n",
       "        vertical-align: top;\n",
       "    }\n",
       "\n",
       "    .dataframe thead th {\n",
       "        text-align: right;\n",
       "    }\n",
       "</style>\n",
       "<table border=\"1\" class=\"dataframe\">\n",
       "  <thead>\n",
       "    <tr style=\"text-align: right;\">\n",
       "      <th></th>\n",
       "      <th>book_id</th>\n",
       "      <th>name</th>\n",
       "      <th>price</th>\n",
       "      <th>category</th>\n",
       "      <th>summary</th>\n",
       "      <th>rating</th>\n",
       "      <th>seller_id</th>\n",
       "    </tr>\n",
       "  </thead>\n",
       "  <tbody>\n",
       "    <tr>\n",
       "      <th>0</th>\n",
       "      <td>a897fe39b1053632</td>\n",
       "      <td>A Light in the Attic</td>\n",
       "      <td>51.77</td>\n",
       "      <td>poetry</td>\n",
       "      <td>It's hard to imagine a world without A Light i...</td>\n",
       "      <td>three</td>\n",
       "      <td>39</td>\n",
       "    </tr>\n",
       "    <tr>\n",
       "      <th>1</th>\n",
       "      <td>90fa61229261140a</td>\n",
       "      <td>Tipping the Velvet</td>\n",
       "      <td>53.74</td>\n",
       "      <td>historical fiction</td>\n",
       "      <td>\"Erotic and absorbing...Written with starling ...</td>\n",
       "      <td>one</td>\n",
       "      <td>29</td>\n",
       "    </tr>\n",
       "    <tr>\n",
       "      <th>2</th>\n",
       "      <td>6957f44c3847a760</td>\n",
       "      <td>Soumission</td>\n",
       "      <td>50.10</td>\n",
       "      <td>fiction</td>\n",
       "      <td>Dans une France assez proche de la nÃ´tre, un ...</td>\n",
       "      <td>one</td>\n",
       "      <td>15</td>\n",
       "    </tr>\n",
       "    <tr>\n",
       "      <th>3</th>\n",
       "      <td>f77dbf2323deb740</td>\n",
       "      <td>The Requiem Red</td>\n",
       "      <td>22.65</td>\n",
       "      <td>young adult</td>\n",
       "      <td>Patient Twenty-nine.A monster roams the halls ...</td>\n",
       "      <td>one</td>\n",
       "      <td>43</td>\n",
       "    </tr>\n",
       "    <tr>\n",
       "      <th>4</th>\n",
       "      <td>2597b5a345f45e1b</td>\n",
       "      <td>The Dirty Little Secrets of Getting Your Dream...</td>\n",
       "      <td>33.34</td>\n",
       "      <td>business</td>\n",
       "      <td>Drawing on his extensive experience evaluating...</td>\n",
       "      <td>four</td>\n",
       "      <td>8</td>\n",
       "    </tr>\n",
       "    <tr>\n",
       "      <th>5</th>\n",
       "      <td>e72a5dfc7e9267b2</td>\n",
       "      <td>The Coming Woman: A Novel Based on the Life of...</td>\n",
       "      <td>17.93</td>\n",
       "      <td>default</td>\n",
       "      <td>\"If you have a heart, if you have a soul, Kare...</td>\n",
       "      <td>three</td>\n",
       "      <td>21</td>\n",
       "    </tr>\n",
       "    <tr>\n",
       "      <th>6</th>\n",
       "      <td>e10e1e165dc8be4a</td>\n",
       "      <td>The Boys in the Boat: Nine Americans and Their...</td>\n",
       "      <td>22.60</td>\n",
       "      <td>default</td>\n",
       "      <td>For readers of Laura Hillenbrand's Seabiscuit ...</td>\n",
       "      <td>four</td>\n",
       "      <td>39</td>\n",
       "    </tr>\n",
       "    <tr>\n",
       "      <th>7</th>\n",
       "      <td>1dfe412b8ac00530</td>\n",
       "      <td>The Black Maria</td>\n",
       "      <td>52.15</td>\n",
       "      <td>poetry</td>\n",
       "      <td>Praise for Aracelis Girmay:\"[Girmay's] every l...</td>\n",
       "      <td>one</td>\n",
       "      <td>19</td>\n",
       "    </tr>\n",
       "    <tr>\n",
       "      <th>8</th>\n",
       "      <td>0312262ecafa5a40</td>\n",
       "      <td>Starving Hearts (Triangular Trade Trilogy, #1)</td>\n",
       "      <td>13.99</td>\n",
       "      <td>default</td>\n",
       "      <td>Since her assault, Miss Annette Chetwynd has b...</td>\n",
       "      <td>two</td>\n",
       "      <td>23</td>\n",
       "    </tr>\n",
       "    <tr>\n",
       "      <th>9</th>\n",
       "      <td>30a7f60cd76ca58c</td>\n",
       "      <td>Shakespeare's Sonnets</td>\n",
       "      <td>20.66</td>\n",
       "      <td>poetry</td>\n",
       "      <td>This book is an important and complete collect...</td>\n",
       "      <td>four</td>\n",
       "      <td>11</td>\n",
       "    </tr>\n",
       "    <tr>\n",
       "      <th>10</th>\n",
       "      <td>ce6396b0f23f6ecc</td>\n",
       "      <td>Set Me Free</td>\n",
       "      <td>17.46</td>\n",
       "      <td>young adult</td>\n",
       "      <td>Aaron Ledbetterâs future had been planned ou...</td>\n",
       "      <td>five</td>\n",
       "      <td>11</td>\n",
       "    </tr>\n",
       "    <tr>\n",
       "      <th>11</th>\n",
       "      <td>3b1c02bac2a429e6</td>\n",
       "      <td>Scott Pilgrim's Precious Little Life (Scott Pi...</td>\n",
       "      <td>52.29</td>\n",
       "      <td>sequential art</td>\n",
       "      <td>Scott Pilgrim's life is totally sweet. He's 23...</td>\n",
       "      <td>five</td>\n",
       "      <td>24</td>\n",
       "    </tr>\n",
       "    <tr>\n",
       "      <th>12</th>\n",
       "      <td>a34ba96d4081e6a4</td>\n",
       "      <td>Rip it Up and Start Again</td>\n",
       "      <td>35.02</td>\n",
       "      <td>music</td>\n",
       "      <td>Punk's raw power rejuvenated rock, but by the ...</td>\n",
       "      <td>five</td>\n",
       "      <td>36</td>\n",
       "    </tr>\n",
       "  </tbody>\n",
       "</table>\n",
       "</div>"
      ],
      "text/plain": [
       "             book_id                                               name  \\\n",
       "0   a897fe39b1053632                               A Light in the Attic   \n",
       "1   90fa61229261140a                                 Tipping the Velvet   \n",
       "2   6957f44c3847a760                                         Soumission   \n",
       "3   f77dbf2323deb740                                    The Requiem Red   \n",
       "4   2597b5a345f45e1b  The Dirty Little Secrets of Getting Your Dream...   \n",
       "5   e72a5dfc7e9267b2  The Coming Woman: A Novel Based on the Life of...   \n",
       "6   e10e1e165dc8be4a  The Boys in the Boat: Nine Americans and Their...   \n",
       "7   1dfe412b8ac00530                                    The Black Maria   \n",
       "8   0312262ecafa5a40     Starving Hearts (Triangular Trade Trilogy, #1)   \n",
       "9   30a7f60cd76ca58c                              Shakespeare's Sonnets   \n",
       "10  ce6396b0f23f6ecc                                        Set Me Free   \n",
       "11  3b1c02bac2a429e6  Scott Pilgrim's Precious Little Life (Scott Pi...   \n",
       "12  a34ba96d4081e6a4                          Rip it Up and Start Again   \n",
       "\n",
       "    price            category  \\\n",
       "0   51.77              poetry   \n",
       "1   53.74  historical fiction   \n",
       "2   50.10             fiction   \n",
       "3   22.65         young adult   \n",
       "4   33.34            business   \n",
       "5   17.93             default   \n",
       "6   22.60             default   \n",
       "7   52.15              poetry   \n",
       "8   13.99             default   \n",
       "9   20.66              poetry   \n",
       "10  17.46         young adult   \n",
       "11  52.29      sequential art   \n",
       "12  35.02               music   \n",
       "\n",
       "                                              summary rating  seller_id  \n",
       "0   It's hard to imagine a world without A Light i...  three         39  \n",
       "1   \"Erotic and absorbing...Written with starling ...    one         29  \n",
       "2   Dans une France assez proche de la nÃ´tre, un ...    one         15  \n",
       "3   Patient Twenty-nine.A monster roams the halls ...    one         43  \n",
       "4   Drawing on his extensive experience evaluating...   four          8  \n",
       "5   \"If you have a heart, if you have a soul, Kare...  three         21  \n",
       "6   For readers of Laura Hillenbrand's Seabiscuit ...   four         39  \n",
       "7   Praise for Aracelis Girmay:\"[Girmay's] every l...    one         19  \n",
       "8   Since her assault, Miss Annette Chetwynd has b...    two         23  \n",
       "9   This book is an important and complete collect...   four         11  \n",
       "10  Aaron Ledbetterâs future had been planned ou...   five         11  \n",
       "11  Scott Pilgrim's life is totally sweet. He's 23...   five         24  \n",
       "12  Punk's raw power rejuvenated rock, but by the ...   five         36  "
      ]
     },
     "execution_count": 511,
     "metadata": {},
     "output_type": "execute_result"
    }
   ],
   "source": [
    "products.head(13)"
   ]
  },
  {
   "cell_type": "code",
   "execution_count": 512,
   "id": "cf1e96c4",
   "metadata": {},
   "outputs": [
    {
     "data": {
      "text/plain": [
       "book_id       object\n",
       "name          object\n",
       "price        float64\n",
       "category      object\n",
       "summary       object\n",
       "rating        object\n",
       "seller_id      int64\n",
       "dtype: object"
      ]
     },
     "execution_count": 512,
     "metadata": {},
     "output_type": "execute_result"
    }
   ],
   "source": [
    "products.dtypes"
   ]
  },
  {
   "cell_type": "code",
   "execution_count": 513,
   "id": "1e41e532",
   "metadata": {},
   "outputs": [
    {
     "data": {
      "text/plain": [
       "count    13.000000\n",
       "mean     34.130769\n",
       "std      15.808240\n",
       "min      13.990000\n",
       "25%      20.660000\n",
       "50%      33.340000\n",
       "75%      51.770000\n",
       "max      53.740000\n",
       "Name: price, dtype: float64"
      ]
     },
     "execution_count": 513,
     "metadata": {},
     "output_type": "execute_result"
    }
   ],
   "source": [
    "products['price'].describe()"
   ]
  },
  {
   "cell_type": "code",
   "execution_count": 514,
   "id": "1af5466c",
   "metadata": {},
   "outputs": [
    {
     "data": {
      "text/plain": [
       "Index(['book_id', 'name', 'price', 'category', 'summary', 'rating',\n",
       "       'seller_id'],\n",
       "      dtype='object')"
      ]
     },
     "execution_count": 514,
     "metadata": {},
     "output_type": "execute_result"
    }
   ],
   "source": [
    "products.columns"
   ]
  },
  {
   "cell_type": "code",
   "execution_count": 515,
   "id": "0c8343aa",
   "metadata": {},
   "outputs": [
    {
     "data": {
      "text/plain": [
       "' data preperation of the PRODUCTS '"
      ]
     },
     "execution_count": 515,
     "metadata": {},
     "output_type": "execute_result"
    }
   ],
   "source": [
    "\"\"\" data preperation of the PRODUCTS \"\"\""
   ]
  },
  {
   "cell_type": "code",
   "execution_count": 516,
   "id": "4d5b9f6a",
   "metadata": {},
   "outputs": [
    {
     "data": {
      "text/html": [
       "<div>\n",
       "<style scoped>\n",
       "    .dataframe tbody tr th:only-of-type {\n",
       "        vertical-align: middle;\n",
       "    }\n",
       "\n",
       "    .dataframe tbody tr th {\n",
       "        vertical-align: top;\n",
       "    }\n",
       "\n",
       "    .dataframe thead th {\n",
       "        text-align: right;\n",
       "    }\n",
       "</style>\n",
       "<table border=\"1\" class=\"dataframe\">\n",
       "  <thead>\n",
       "    <tr style=\"text-align: right;\">\n",
       "      <th></th>\n",
       "      <th>book_id</th>\n",
       "      <th>name</th>\n",
       "      <th>price</th>\n",
       "      <th>category</th>\n",
       "      <th>summary</th>\n",
       "      <th>rating</th>\n",
       "      <th>seller_id</th>\n",
       "    </tr>\n",
       "  </thead>\n",
       "  <tbody>\n",
       "    <tr>\n",
       "      <th>0</th>\n",
       "      <td>a897fe39b1053632</td>\n",
       "      <td>A Light in the Attic</td>\n",
       "      <td>51.77</td>\n",
       "      <td>poetry</td>\n",
       "      <td>It's hard to imagine a world without A Light i...</td>\n",
       "      <td>three</td>\n",
       "      <td>39</td>\n",
       "    </tr>\n",
       "    <tr>\n",
       "      <th>1</th>\n",
       "      <td>90fa61229261140a</td>\n",
       "      <td>Tipping the Velvet</td>\n",
       "      <td>53.74</td>\n",
       "      <td>historical fiction</td>\n",
       "      <td>\"Erotic and absorbing...Written with starling ...</td>\n",
       "      <td>one</td>\n",
       "      <td>29</td>\n",
       "    </tr>\n",
       "    <tr>\n",
       "      <th>2</th>\n",
       "      <td>6957f44c3847a760</td>\n",
       "      <td>Soumission</td>\n",
       "      <td>50.10</td>\n",
       "      <td>fiction</td>\n",
       "      <td>Dans une France assez proche de la nÃ´tre, un ...</td>\n",
       "      <td>one</td>\n",
       "      <td>15</td>\n",
       "    </tr>\n",
       "    <tr>\n",
       "      <th>3</th>\n",
       "      <td>f77dbf2323deb740</td>\n",
       "      <td>The Requiem Red</td>\n",
       "      <td>22.65</td>\n",
       "      <td>young adult</td>\n",
       "      <td>Patient Twenty-nine.A monster roams the halls ...</td>\n",
       "      <td>one</td>\n",
       "      <td>43</td>\n",
       "    </tr>\n",
       "    <tr>\n",
       "      <th>4</th>\n",
       "      <td>2597b5a345f45e1b</td>\n",
       "      <td>The Dirty Little Secrets of Getting Your Dream...</td>\n",
       "      <td>33.34</td>\n",
       "      <td>business</td>\n",
       "      <td>Drawing on his extensive experience evaluating...</td>\n",
       "      <td>four</td>\n",
       "      <td>8</td>\n",
       "    </tr>\n",
       "  </tbody>\n",
       "</table>\n",
       "</div>"
      ],
      "text/plain": [
       "            book_id                                               name  price  \\\n",
       "0  a897fe39b1053632                               A Light in the Attic  51.77   \n",
       "1  90fa61229261140a                                 Tipping the Velvet  53.74   \n",
       "2  6957f44c3847a760                                         Soumission  50.10   \n",
       "3  f77dbf2323deb740                                    The Requiem Red  22.65   \n",
       "4  2597b5a345f45e1b  The Dirty Little Secrets of Getting Your Dream...  33.34   \n",
       "\n",
       "             category                                            summary  \\\n",
       "0              poetry  It's hard to imagine a world without A Light i...   \n",
       "1  historical fiction  \"Erotic and absorbing...Written with starling ...   \n",
       "2             fiction  Dans une France assez proche de la nÃ´tre, un ...   \n",
       "3         young adult  Patient Twenty-nine.A monster roams the halls ...   \n",
       "4            business  Drawing on his extensive experience evaluating...   \n",
       "\n",
       "  rating  seller_id  \n",
       "0  three         39  \n",
       "1    one         29  \n",
       "2    one         15  \n",
       "3    one         43  \n",
       "4   four          8  "
      ]
     },
     "execution_count": 516,
     "metadata": {},
     "output_type": "execute_result"
    }
   ],
   "source": [
    "products.head()"
   ]
  },
  {
   "cell_type": "code",
   "execution_count": 517,
   "id": "66a96539",
   "metadata": {},
   "outputs": [
    {
     "data": {
      "text/plain": [
       "book_id      0\n",
       "name         0\n",
       "price        0\n",
       "category     0\n",
       "summary      0\n",
       "rating       0\n",
       "seller_id    0\n",
       "dtype: int64"
      ]
     },
     "execution_count": 517,
     "metadata": {},
     "output_type": "execute_result"
    }
   ],
   "source": [
    "products.isnull().sum()"
   ]
  },
  {
   "cell_type": "code",
   "execution_count": 518,
   "id": "29fb8c89",
   "metadata": {},
   "outputs": [
    {
     "data": {
      "text/html": [
       "<div>\n",
       "<style scoped>\n",
       "    .dataframe tbody tr th:only-of-type {\n",
       "        vertical-align: middle;\n",
       "    }\n",
       "\n",
       "    .dataframe tbody tr th {\n",
       "        vertical-align: top;\n",
       "    }\n",
       "\n",
       "    .dataframe thead th {\n",
       "        text-align: right;\n",
       "    }\n",
       "</style>\n",
       "<table border=\"1\" class=\"dataframe\">\n",
       "  <thead>\n",
       "    <tr style=\"text-align: right;\">\n",
       "      <th></th>\n",
       "      <th>book_id</th>\n",
       "      <th>name</th>\n",
       "      <th>price</th>\n",
       "      <th>category</th>\n",
       "      <th>summary</th>\n",
       "      <th>rating</th>\n",
       "      <th>seller_id</th>\n",
       "    </tr>\n",
       "  </thead>\n",
       "  <tbody>\n",
       "  </tbody>\n",
       "</table>\n",
       "</div>"
      ],
      "text/plain": [
       "Empty DataFrame\n",
       "Columns: [book_id, name, price, category, summary, rating, seller_id]\n",
       "Index: []"
      ]
     },
     "execution_count": 518,
     "metadata": {},
     "output_type": "execute_result"
    }
   ],
   "source": [
    "def_duplicated(products)"
   ]
  },
  {
   "cell_type": "code",
   "execution_count": 519,
   "id": "08223ea3",
   "metadata": {},
   "outputs": [
    {
     "data": {
      "text/plain": [
       "' PRODUCTS feature understanding (univariate analysis) '"
      ]
     },
     "execution_count": 519,
     "metadata": {},
     "output_type": "execute_result"
    }
   ],
   "source": [
    "\"\"\" PRODUCTS feature understanding (univariate analysis) \"\"\""
   ]
  },
  {
   "cell_type": "code",
   "execution_count": 520,
   "id": "61c48995",
   "metadata": {},
   "outputs": [
    {
     "data": {
      "text/html": [
       "<div>\n",
       "<style scoped>\n",
       "    .dataframe tbody tr th:only-of-type {\n",
       "        vertical-align: middle;\n",
       "    }\n",
       "\n",
       "    .dataframe tbody tr th {\n",
       "        vertical-align: top;\n",
       "    }\n",
       "\n",
       "    .dataframe thead th {\n",
       "        text-align: right;\n",
       "    }\n",
       "</style>\n",
       "<table border=\"1\" class=\"dataframe\">\n",
       "  <thead>\n",
       "    <tr style=\"text-align: right;\">\n",
       "      <th></th>\n",
       "      <th>book_id</th>\n",
       "      <th>name</th>\n",
       "      <th>price</th>\n",
       "      <th>category</th>\n",
       "      <th>summary</th>\n",
       "      <th>rating</th>\n",
       "      <th>seller_id</th>\n",
       "    </tr>\n",
       "  </thead>\n",
       "  <tbody>\n",
       "    <tr>\n",
       "      <th>0</th>\n",
       "      <td>a897fe39b1053632</td>\n",
       "      <td>A Light in the Attic</td>\n",
       "      <td>51.77</td>\n",
       "      <td>poetry</td>\n",
       "      <td>It's hard to imagine a world without A Light i...</td>\n",
       "      <td>three</td>\n",
       "      <td>39</td>\n",
       "    </tr>\n",
       "    <tr>\n",
       "      <th>1</th>\n",
       "      <td>90fa61229261140a</td>\n",
       "      <td>Tipping the Velvet</td>\n",
       "      <td>53.74</td>\n",
       "      <td>historical fiction</td>\n",
       "      <td>\"Erotic and absorbing...Written with starling ...</td>\n",
       "      <td>one</td>\n",
       "      <td>29</td>\n",
       "    </tr>\n",
       "    <tr>\n",
       "      <th>2</th>\n",
       "      <td>6957f44c3847a760</td>\n",
       "      <td>Soumission</td>\n",
       "      <td>50.10</td>\n",
       "      <td>fiction</td>\n",
       "      <td>Dans une France assez proche de la nÃ´tre, un ...</td>\n",
       "      <td>one</td>\n",
       "      <td>15</td>\n",
       "    </tr>\n",
       "    <tr>\n",
       "      <th>3</th>\n",
       "      <td>f77dbf2323deb740</td>\n",
       "      <td>The Requiem Red</td>\n",
       "      <td>22.65</td>\n",
       "      <td>young adult</td>\n",
       "      <td>Patient Twenty-nine.A monster roams the halls ...</td>\n",
       "      <td>one</td>\n",
       "      <td>43</td>\n",
       "    </tr>\n",
       "    <tr>\n",
       "      <th>4</th>\n",
       "      <td>2597b5a345f45e1b</td>\n",
       "      <td>The Dirty Little Secrets of Getting Your Dream...</td>\n",
       "      <td>33.34</td>\n",
       "      <td>business</td>\n",
       "      <td>Drawing on his extensive experience evaluating...</td>\n",
       "      <td>four</td>\n",
       "      <td>8</td>\n",
       "    </tr>\n",
       "  </tbody>\n",
       "</table>\n",
       "</div>"
      ],
      "text/plain": [
       "            book_id                                               name  price  \\\n",
       "0  a897fe39b1053632                               A Light in the Attic  51.77   \n",
       "1  90fa61229261140a                                 Tipping the Velvet  53.74   \n",
       "2  6957f44c3847a760                                         Soumission  50.10   \n",
       "3  f77dbf2323deb740                                    The Requiem Red  22.65   \n",
       "4  2597b5a345f45e1b  The Dirty Little Secrets of Getting Your Dream...  33.34   \n",
       "\n",
       "             category                                            summary  \\\n",
       "0              poetry  It's hard to imagine a world without A Light i...   \n",
       "1  historical fiction  \"Erotic and absorbing...Written with starling ...   \n",
       "2             fiction  Dans une France assez proche de la nÃ´tre, un ...   \n",
       "3         young adult  Patient Twenty-nine.A monster roams the halls ...   \n",
       "4            business  Drawing on his extensive experience evaluating...   \n",
       "\n",
       "  rating  seller_id  \n",
       "0  three         39  \n",
       "1    one         29  \n",
       "2    one         15  \n",
       "3    one         43  \n",
       "4   four          8  "
      ]
     },
     "execution_count": 520,
     "metadata": {},
     "output_type": "execute_result"
    }
   ],
   "source": [
    "products.head()"
   ]
  },
  {
   "cell_type": "code",
   "execution_count": 521,
   "id": "1d4602f5",
   "metadata": {},
   "outputs": [
    {
     "data": {
      "image/png": "[encoded data removed]",
      "text/plain": [
       "<Figure size 640x480 with 1 Axes>"
      ]
     },
     "metadata": {},
     "output_type": "display_data"
    }
   ],
   "source": [
    "\"\"\" distribution of the prices \"\"\"\n",
    "\n",
    "products['price'].plot(kind='hist')\n",
    "plt.show()"
   ]
  },
  {
   "cell_type": "code",
   "execution_count": 522,
   "id": "2c4386a3",
   "metadata": {},
   "outputs": [
    {
     "data": {
      "image/png": "[encoded data removed]",
      "text/plain": [
       "<Figure size 640x480 with 1 Axes>"
      ]
     },
     "metadata": {},
     "output_type": "display_data"
    }
   ],
   "source": [
    "\"\"\" Count of books in each category in the store \"\"\"\n",
    "\n",
    "ax = products['category'].value_counts().plot(kind='bar')\n",
    "ax.set_xlabel('Category')\n",
    "ax.set_ylabel('Number of Books')\n",
    "ax.tick_params(axis='x', labelrotation=45)\n",
    "\n",
    "plt.show()"
   ]
  },
  {
   "cell_type": "code",
   "execution_count": 523,
   "id": "0e0e321c",
   "metadata": {},
   "outputs": [
    {
     "data": {
      "text/plain": [
       "' basic understanding of the REVIEWS '"
      ]
     },
     "execution_count": 523,
     "metadata": {},
     "output_type": "execute_result"
    }
   ],
   "source": [
    "\"\"\" basic understanding of the REVIEWS \"\"\""
   ]
  },
  {
   "cell_type": "code",
   "execution_count": 524,
   "id": "3f8951e7",
   "metadata": {},
   "outputs": [
    {
     "data": {
      "text/plain": [
       "(1173, 6)"
      ]
     },
     "execution_count": 524,
     "metadata": {},
     "output_type": "execute_result"
    }
   ],
   "source": [
    "reviews.shape"
   ]
  },
  {
   "cell_type": "code",
   "execution_count": 525,
   "id": "ff97e59f",
   "metadata": {},
   "outputs": [
    {
     "data": {
      "text/html": [
       "<div>\n",
       "<style scoped>\n",
       "    .dataframe tbody tr th:only-of-type {\n",
       "        vertical-align: middle;\n",
       "    }\n",
       "\n",
       "    .dataframe tbody tr th {\n",
       "        vertical-align: top;\n",
       "    }\n",
       "\n",
       "    .dataframe thead th {\n",
       "        text-align: right;\n",
       "    }\n",
       "</style>\n",
       "<table border=\"1\" class=\"dataframe\">\n",
       "  <thead>\n",
       "    <tr style=\"text-align: right;\">\n",
       "      <th></th>\n",
       "      <th>review_id</th>\n",
       "      <th>book_id</th>\n",
       "      <th>review_text</th>\n",
       "      <th>rating</th>\n",
       "      <th>review_date</th>\n",
       "      <th>author</th>\n",
       "    </tr>\n",
       "  </thead>\n",
       "  <tbody>\n",
       "    <tr>\n",
       "      <th>0</th>\n",
       "      <td>1</td>\n",
       "      <td>2597b5a345f45e1b</td>\n",
       "      <td>Change whether small trip another defense. C'é...</td>\n",
       "      <td>3</td>\n",
       "      <td>2022-10-13</td>\n",
       "      <td>James Shelton</td>\n",
       "    </tr>\n",
       "    <tr>\n",
       "      <th>1</th>\n",
       "      <td>2</td>\n",
       "      <td>1dfe412b8ac00530</td>\n",
       "      <td>Or thank others population admit why group. C'...</td>\n",
       "      <td>3</td>\n",
       "      <td>2019-06-29</td>\n",
       "      <td>Dean Cunningham</td>\n",
       "    </tr>\n",
       "    <tr>\n",
       "      <th>2</th>\n",
       "      <td>3</td>\n",
       "      <td>a897fe39b1053632</td>\n",
       "      <td>Without professor today family large appear se...</td>\n",
       "      <td>3</td>\n",
       "      <td>2018-05-19</td>\n",
       "      <td>Marvin Johnson</td>\n",
       "    </tr>\n",
       "    <tr>\n",
       "      <th>3</th>\n",
       "      <td>4</td>\n",
       "      <td>e10e1e165dc8be4a</td>\n",
       "      <td>Piece daughter head reach answer even fast wea...</td>\n",
       "      <td>4</td>\n",
       "      <td>2019-02-23</td>\n",
       "      <td>Kurt Williams</td>\n",
       "    </tr>\n",
       "    <tr>\n",
       "      <th>4</th>\n",
       "      <td>5</td>\n",
       "      <td>0312262ecafa5a40</td>\n",
       "      <td>Ever garden instead total husband trouble clos...</td>\n",
       "      <td>5</td>\n",
       "      <td>2024-06-02</td>\n",
       "      <td>Ethan Coleman</td>\n",
       "    </tr>\n",
       "    <tr>\n",
       "      <th>5</th>\n",
       "      <td>6</td>\n",
       "      <td>1dfe412b8ac00530</td>\n",
       "      <td>Contain talk by account door use positive far ...</td>\n",
       "      <td>4</td>\n",
       "      <td>2019-03-15</td>\n",
       "      <td>Mr. James Weaver DDS</td>\n",
       "    </tr>\n",
       "    <tr>\n",
       "      <th>6</th>\n",
       "      <td>7</td>\n",
       "      <td>e72a5dfc7e9267b2</td>\n",
       "      <td>Head development join color summer stand move ...</td>\n",
       "      <td>5</td>\n",
       "      <td>2019-12-17</td>\n",
       "      <td>Christopher Poole</td>\n",
       "    </tr>\n",
       "    <tr>\n",
       "      <th>7</th>\n",
       "      <td>8</td>\n",
       "      <td>f77dbf2323deb740</td>\n",
       "      <td>Argue scientist hour probably water us attenti...</td>\n",
       "      <td>3</td>\n",
       "      <td>2018-05-03</td>\n",
       "      <td>Devin Day</td>\n",
       "    </tr>\n",
       "    <tr>\n",
       "      <th>8</th>\n",
       "      <td>9</td>\n",
       "      <td>3b1c02bac2a429e6</td>\n",
       "      <td>Pay new Republican fly foot Congress protect c...</td>\n",
       "      <td>4</td>\n",
       "      <td>2024-04-23</td>\n",
       "      <td>Jared Madden</td>\n",
       "    </tr>\n",
       "    <tr>\n",
       "      <th>9</th>\n",
       "      <td>10</td>\n",
       "      <td>90fa61229261140a</td>\n",
       "      <td>Majority past large area trouble more PM guy o...</td>\n",
       "      <td>5</td>\n",
       "      <td>2018-12-17</td>\n",
       "      <td>Margaret Kelly</td>\n",
       "    </tr>\n",
       "  </tbody>\n",
       "</table>\n",
       "</div>"
      ],
      "text/plain": [
       "   review_id           book_id  \\\n",
       "0          1  2597b5a345f45e1b   \n",
       "1          2  1dfe412b8ac00530   \n",
       "2          3  a897fe39b1053632   \n",
       "3          4  e10e1e165dc8be4a   \n",
       "4          5  0312262ecafa5a40   \n",
       "5          6  1dfe412b8ac00530   \n",
       "6          7  e72a5dfc7e9267b2   \n",
       "7          8  f77dbf2323deb740   \n",
       "8          9  3b1c02bac2a429e6   \n",
       "9         10  90fa61229261140a   \n",
       "\n",
       "                                         review_text  rating review_date  \\\n",
       "0  Change whether small trip another defense. C'é...       3  2022-10-13   \n",
       "1  Or thank others population admit why group. C'...       3  2019-06-29   \n",
       "2  Without professor today family large appear se...       3  2018-05-19   \n",
       "3  Piece daughter head reach answer even fast wea...       4  2019-02-23   \n",
       "4  Ever garden instead total husband trouble clos...       5  2024-06-02   \n",
       "5  Contain talk by account door use positive far ...       4  2019-03-15   \n",
       "6  Head development join color summer stand move ...       5  2019-12-17   \n",
       "7  Argue scientist hour probably water us attenti...       3  2018-05-03   \n",
       "8  Pay new Republican fly foot Congress protect c...       4  2024-04-23   \n",
       "9  Majority past large area trouble more PM guy o...       5  2018-12-17   \n",
       "\n",
       "                 author  \n",
       "0         James Shelton  \n",
       "1       Dean Cunningham  \n",
       "2        Marvin Johnson  \n",
       "3         Kurt Williams  \n",
       "4         Ethan Coleman  \n",
       "5  Mr. James Weaver DDS  \n",
       "6     Christopher Poole  \n",
       "7             Devin Day  \n",
       "8          Jared Madden  \n",
       "9        Margaret Kelly  "
      ]
     },
     "execution_count": 525,
     "metadata": {},
     "output_type": "execute_result"
    }
   ],
   "source": [
    "reviews.head(10)"
   ]
  },
  {
   "cell_type": "code",
   "execution_count": 526,
   "id": "48934757",
   "metadata": {},
   "outputs": [
    {
     "data": {
      "text/plain": [
       "review_id       int64\n",
       "book_id        object\n",
       "review_text    object\n",
       "rating          int64\n",
       "review_date    object\n",
       "author         object\n",
       "dtype: object"
      ]
     },
     "execution_count": 526,
     "metadata": {},
     "output_type": "execute_result"
    }
   ],
   "source": [
    "reviews.dtypes"
   ]
  },
  {
   "cell_type": "code",
   "execution_count": 527,
   "id": "2ebf31d0",
   "metadata": {},
   "outputs": [
    {
     "data": {
      "text/plain": [
       "Index(['review_id', 'book_id', 'review_text', 'rating', 'review_date',\n",
       "       'author'],\n",
       "      dtype='object')"
      ]
     },
     "execution_count": 527,
     "metadata": {},
     "output_type": "execute_result"
    }
   ],
   "source": [
    "reviews.columns"
   ]
  },
  {
   "cell_type": "code",
   "execution_count": 528,
   "id": "4f709831",
   "metadata": {},
   "outputs": [
    {
     "data": {
      "text/plain": [
       "' data preperation of the REVIEWS '"
      ]
     },
     "execution_count": 528,
     "metadata": {},
     "output_type": "execute_result"
    }
   ],
   "source": [
    "\"\"\" data preperation of the REVIEWS \"\"\""
   ]
  },
  {
   "cell_type": "code",
   "execution_count": 529,
   "id": "35a64295",
   "metadata": {},
   "outputs": [
    {
     "data": {
      "text/plain": [
       "review_id               int64\n",
       "book_id                object\n",
       "review_text            object\n",
       "rating                  int64\n",
       "review_date    datetime64[ns]\n",
       "author                 object\n",
       "dtype: object"
      ]
     },
     "execution_count": 529,
     "metadata": {},
     "output_type": "execute_result"
    }
   ],
   "source": [
    "convert_date(reviews,'review_date')"
   ]
  },
  {
   "cell_type": "code",
   "execution_count": 530,
   "id": "0170f9b4",
   "metadata": {},
   "outputs": [],
   "source": [
    "reviews['year'] = reviews['review_date'].dt.year\n",
    "reviews['month'] = reviews['review_date'].dt.month"
   ]
  },
  {
   "cell_type": "code",
   "execution_count": 531,
   "id": "ce5e7d66",
   "metadata": {},
   "outputs": [
    {
     "data": {
      "text/plain": [
       "review_id      0\n",
       "book_id        0\n",
       "review_text    0\n",
       "rating         0\n",
       "review_date    0\n",
       "author         0\n",
       "year           0\n",
       "month          0\n",
       "dtype: int64"
      ]
     },
     "execution_count": 531,
     "metadata": {},
     "output_type": "execute_result"
    }
   ],
   "source": [
    "reviews.isnull().sum()"
   ]
  },
  {
   "cell_type": "code",
   "execution_count": 532,
   "id": "8971741a",
   "metadata": {},
   "outputs": [
    {
     "data": {
      "text/html": [
       "<div>\n",
       "<style scoped>\n",
       "    .dataframe tbody tr th:only-of-type {\n",
       "        vertical-align: middle;\n",
       "    }\n",
       "\n",
       "    .dataframe tbody tr th {\n",
       "        vertical-align: top;\n",
       "    }\n",
       "\n",
       "    .dataframe thead th {\n",
       "        text-align: right;\n",
       "    }\n",
       "</style>\n",
       "<table border=\"1\" class=\"dataframe\">\n",
       "  <thead>\n",
       "    <tr style=\"text-align: right;\">\n",
       "      <th></th>\n",
       "      <th>review_id</th>\n",
       "      <th>book_id</th>\n",
       "      <th>review_text</th>\n",
       "      <th>rating</th>\n",
       "      <th>review_date</th>\n",
       "      <th>author</th>\n",
       "      <th>year</th>\n",
       "      <th>month</th>\n",
       "    </tr>\n",
       "  </thead>\n",
       "  <tbody>\n",
       "  </tbody>\n",
       "</table>\n",
       "</div>"
      ],
      "text/plain": [
       "Empty DataFrame\n",
       "Columns: [review_id, book_id, review_text, rating, review_date, author, year, month]\n",
       "Index: []"
      ]
     },
     "execution_count": 532,
     "metadata": {},
     "output_type": "execute_result"
    }
   ],
   "source": [
    "def_duplicated(reviews)"
   ]
  },
  {
   "cell_type": "code",
   "execution_count": 533,
   "id": "57387616",
   "metadata": {},
   "outputs": [
    {
     "data": {
      "text/plain": [
       "' REVIEWS feature understanding (Univariate analysis) '"
      ]
     },
     "execution_count": 533,
     "metadata": {},
     "output_type": "execute_result"
    }
   ],
   "source": [
    "\"\"\" REVIEWS feature understanding (Univariate analysis) \"\"\""
   ]
  },
  {
   "cell_type": "code",
   "execution_count": 534,
   "id": "5ac32339",
   "metadata": {},
   "outputs": [
    {
     "data": {
      "text/html": [
       "<div>\n",
       "<style scoped>\n",
       "    .dataframe tbody tr th:only-of-type {\n",
       "        vertical-align: middle;\n",
       "    }\n",
       "\n",
       "    .dataframe tbody tr th {\n",
       "        vertical-align: top;\n",
       "    }\n",
       "\n",
       "    .dataframe thead th {\n",
       "        text-align: right;\n",
       "    }\n",
       "</style>\n",
       "<table border=\"1\" class=\"dataframe\">\n",
       "  <thead>\n",
       "    <tr style=\"text-align: right;\">\n",
       "      <th></th>\n",
       "      <th>review_id</th>\n",
       "      <th>book_id</th>\n",
       "      <th>review_text</th>\n",
       "      <th>rating</th>\n",
       "      <th>review_date</th>\n",
       "      <th>author</th>\n",
       "      <th>year</th>\n",
       "      <th>month</th>\n",
       "    </tr>\n",
       "  </thead>\n",
       "  <tbody>\n",
       "    <tr>\n",
       "      <th>0</th>\n",
       "      <td>1</td>\n",
       "      <td>2597b5a345f45e1b</td>\n",
       "      <td>Change whether small trip another defense. C'é...</td>\n",
       "      <td>3</td>\n",
       "      <td>2022-10-13</td>\n",
       "      <td>James Shelton</td>\n",
       "      <td>2022</td>\n",
       "      <td>10</td>\n",
       "    </tr>\n",
       "    <tr>\n",
       "      <th>1</th>\n",
       "      <td>2</td>\n",
       "      <td>1dfe412b8ac00530</td>\n",
       "      <td>Or thank others population admit why group. C'...</td>\n",
       "      <td>3</td>\n",
       "      <td>2019-06-29</td>\n",
       "      <td>Dean Cunningham</td>\n",
       "      <td>2019</td>\n",
       "      <td>6</td>\n",
       "    </tr>\n",
       "    <tr>\n",
       "      <th>2</th>\n",
       "      <td>3</td>\n",
       "      <td>a897fe39b1053632</td>\n",
       "      <td>Without professor today family large appear se...</td>\n",
       "      <td>3</td>\n",
       "      <td>2018-05-19</td>\n",
       "      <td>Marvin Johnson</td>\n",
       "      <td>2018</td>\n",
       "      <td>5</td>\n",
       "    </tr>\n",
       "    <tr>\n",
       "      <th>3</th>\n",
       "      <td>4</td>\n",
       "      <td>e10e1e165dc8be4a</td>\n",
       "      <td>Piece daughter head reach answer even fast wea...</td>\n",
       "      <td>4</td>\n",
       "      <td>2019-02-23</td>\n",
       "      <td>Kurt Williams</td>\n",
       "      <td>2019</td>\n",
       "      <td>2</td>\n",
       "    </tr>\n",
       "    <tr>\n",
       "      <th>4</th>\n",
       "      <td>5</td>\n",
       "      <td>0312262ecafa5a40</td>\n",
       "      <td>Ever garden instead total husband trouble clos...</td>\n",
       "      <td>5</td>\n",
       "      <td>2024-06-02</td>\n",
       "      <td>Ethan Coleman</td>\n",
       "      <td>2024</td>\n",
       "      <td>6</td>\n",
       "    </tr>\n",
       "  </tbody>\n",
       "</table>\n",
       "</div>"
      ],
      "text/plain": [
       "   review_id           book_id  \\\n",
       "0          1  2597b5a345f45e1b   \n",
       "1          2  1dfe412b8ac00530   \n",
       "2          3  a897fe39b1053632   \n",
       "3          4  e10e1e165dc8be4a   \n",
       "4          5  0312262ecafa5a40   \n",
       "\n",
       "                                         review_text  rating review_date  \\\n",
       "0  Change whether small trip another defense. C'é...       3  2022-10-13   \n",
       "1  Or thank others population admit why group. C'...       3  2019-06-29   \n",
       "2  Without professor today family large appear se...       3  2018-05-19   \n",
       "3  Piece daughter head reach answer even fast wea...       4  2019-02-23   \n",
       "4  Ever garden instead total husband trouble clos...       5  2024-06-02   \n",
       "\n",
       "            author  year  month  \n",
       "0    James Shelton  2022     10  \n",
       "1  Dean Cunningham  2019      6  \n",
       "2   Marvin Johnson  2018      5  \n",
       "3    Kurt Williams  2019      2  \n",
       "4    Ethan Coleman  2024      6  "
      ]
     },
     "execution_count": 534,
     "metadata": {},
     "output_type": "execute_result"
    }
   ],
   "source": [
    "reviews.head()"
   ]
  },
  {
   "cell_type": "code",
   "execution_count": 535,
   "id": "dbc08b0d",
   "metadata": {},
   "outputs": [
    {
     "data": {
      "text/plain": [
       "<Axes: xlabel='book_id'>"
      ]
     },
     "execution_count": 535,
     "metadata": {},
     "output_type": "execute_result"
    },
    {
     "data": {
      "image/png": "[encoded data removed]",
      "text/plain": [
       "<Figure size 640x480 with 1 Axes>"
      ]
     },
     "metadata": {},
     "output_type": "display_data"
    }
   ],
   "source": [
    "\"\"\" rating per book / is there a book with a bad rating ?\"\"\"\n",
    "\n",
    "reviews.groupby('book_id')['rating'].mean().plot(kind='bar')\n",
    "\n",
    "# i will merge them with the names in a latter phase"
   ]
  },
  {
   "cell_type": "code",
   "execution_count": 536,
   "id": "caff0c3a",
   "metadata": {},
   "outputs": [
    {
     "data": {
      "text/html": [
       "<div>\n",
       "<style scoped>\n",
       "    .dataframe tbody tr th:only-of-type {\n",
       "        vertical-align: middle;\n",
       "    }\n",
       "\n",
       "    .dataframe tbody tr th {\n",
       "        vertical-align: top;\n",
       "    }\n",
       "\n",
       "    .dataframe thead th {\n",
       "        text-align: right;\n",
       "    }\n",
       "</style>\n",
       "<table border=\"1\" class=\"dataframe\">\n",
       "  <thead>\n",
       "    <tr style=\"text-align: right;\">\n",
       "      <th></th>\n",
       "      <th>review_id</th>\n",
       "      <th>book_id</th>\n",
       "      <th>review_text</th>\n",
       "      <th>rating_x</th>\n",
       "      <th>review_date</th>\n",
       "      <th>author_x</th>\n",
       "      <th>year</th>\n",
       "      <th>month</th>\n",
       "      <th>author_y</th>\n",
       "      <th>name</th>\n",
       "      <th>price</th>\n",
       "      <th>category</th>\n",
       "      <th>summary</th>\n",
       "      <th>rating_y</th>\n",
       "      <th>seller_id</th>\n",
       "    </tr>\n",
       "  </thead>\n",
       "  <tbody>\n",
       "    <tr>\n",
       "      <th>0</th>\n",
       "      <td>1</td>\n",
       "      <td>2597b5a345f45e1b</td>\n",
       "      <td>Change whether small trip another defense. C'é...</td>\n",
       "      <td>3</td>\n",
       "      <td>2022-10-13</td>\n",
       "      <td>James Shelton</td>\n",
       "      <td>2022</td>\n",
       "      <td>10</td>\n",
       "      <td>Stephen King</td>\n",
       "      <td>The Dirty Little Secrets of Getting Your Dream...</td>\n",
       "      <td>33.34</td>\n",
       "      <td>business</td>\n",
       "      <td>Drawing on his extensive experience evaluating...</td>\n",
       "      <td>four</td>\n",
       "      <td>8</td>\n",
       "    </tr>\n",
       "    <tr>\n",
       "      <th>1</th>\n",
       "      <td>2</td>\n",
       "      <td>1dfe412b8ac00530</td>\n",
       "      <td>Or thank others population admit why group. C'...</td>\n",
       "      <td>3</td>\n",
       "      <td>2019-06-29</td>\n",
       "      <td>Dean Cunningham</td>\n",
       "      <td>2019</td>\n",
       "      <td>6</td>\n",
       "      <td>Elena Ferrante</td>\n",
       "      <td>The Black Maria</td>\n",
       "      <td>52.15</td>\n",
       "      <td>poetry</td>\n",
       "      <td>Praise for Aracelis Girmay:\"[Girmay's] every l...</td>\n",
       "      <td>one</td>\n",
       "      <td>19</td>\n",
       "    </tr>\n",
       "    <tr>\n",
       "      <th>2</th>\n",
       "      <td>3</td>\n",
       "      <td>a897fe39b1053632</td>\n",
       "      <td>Without professor today family large appear se...</td>\n",
       "      <td>3</td>\n",
       "      <td>2018-05-19</td>\n",
       "      <td>Marvin Johnson</td>\n",
       "      <td>2018</td>\n",
       "      <td>5</td>\n",
       "      <td>Jane Austen</td>\n",
       "      <td>A Light in the Attic</td>\n",
       "      <td>51.77</td>\n",
       "      <td>poetry</td>\n",
       "      <td>It's hard to imagine a world without A Light i...</td>\n",
       "      <td>three</td>\n",
       "      <td>39</td>\n",
       "    </tr>\n",
       "    <tr>\n",
       "      <th>3</th>\n",
       "      <td>4</td>\n",
       "      <td>e10e1e165dc8be4a</td>\n",
       "      <td>Piece daughter head reach answer even fast wea...</td>\n",
       "      <td>4</td>\n",
       "      <td>2019-02-23</td>\n",
       "      <td>Kurt Williams</td>\n",
       "      <td>2019</td>\n",
       "      <td>2</td>\n",
       "      <td>Isaac Asimov</td>\n",
       "      <td>The Boys in the Boat: Nine Americans and Their...</td>\n",
       "      <td>22.60</td>\n",
       "      <td>default</td>\n",
       "      <td>For readers of Laura Hillenbrand's Seabiscuit ...</td>\n",
       "      <td>four</td>\n",
       "      <td>39</td>\n",
       "    </tr>\n",
       "    <tr>\n",
       "      <th>4</th>\n",
       "      <td>5</td>\n",
       "      <td>0312262ecafa5a40</td>\n",
       "      <td>Ever garden instead total husband trouble clos...</td>\n",
       "      <td>5</td>\n",
       "      <td>2024-06-02</td>\n",
       "      <td>Ethan Coleman</td>\n",
       "      <td>2024</td>\n",
       "      <td>6</td>\n",
       "      <td>Gabriel García Márquez</td>\n",
       "      <td>Starving Hearts (Triangular Trade Trilogy, #1)</td>\n",
       "      <td>13.99</td>\n",
       "      <td>default</td>\n",
       "      <td>Since her assault, Miss Annette Chetwynd has b...</td>\n",
       "      <td>two</td>\n",
       "      <td>23</td>\n",
       "    </tr>\n",
       "  </tbody>\n",
       "</table>\n",
       "</div>"
      ],
      "text/plain": [
       "   review_id           book_id  \\\n",
       "0          1  2597b5a345f45e1b   \n",
       "1          2  1dfe412b8ac00530   \n",
       "2          3  a897fe39b1053632   \n",
       "3          4  e10e1e165dc8be4a   \n",
       "4          5  0312262ecafa5a40   \n",
       "\n",
       "                                         review_text  rating_x review_date  \\\n",
       "0  Change whether small trip another defense. C'é...         3  2022-10-13   \n",
       "1  Or thank others population admit why group. C'...         3  2019-06-29   \n",
       "2  Without professor today family large appear se...         3  2018-05-19   \n",
       "3  Piece daughter head reach answer even fast wea...         4  2019-02-23   \n",
       "4  Ever garden instead total husband trouble clos...         5  2024-06-02   \n",
       "\n",
       "          author_x  year  month                author_y  \\\n",
       "0    James Shelton  2022     10            Stephen King   \n",
       "1  Dean Cunningham  2019      6          Elena Ferrante   \n",
       "2   Marvin Johnson  2018      5             Jane Austen   \n",
       "3    Kurt Williams  2019      2            Isaac Asimov   \n",
       "4    Ethan Coleman  2024      6  Gabriel García Márquez   \n",
       "\n",
       "                                                name  price  category  \\\n",
       "0  The Dirty Little Secrets of Getting Your Dream...  33.34  business   \n",
       "1                                    The Black Maria  52.15    poetry   \n",
       "2                               A Light in the Attic  51.77    poetry   \n",
       "3  The Boys in the Boat: Nine Americans and Their...  22.60   default   \n",
       "4     Starving Hearts (Triangular Trade Trilogy, #1)  13.99   default   \n",
       "\n",
       "                                             summary rating_y  seller_id  \n",
       "0  Drawing on his extensive experience evaluating...     four          8  \n",
       "1  Praise for Aracelis Girmay:\"[Girmay's] every l...      one         19  \n",
       "2  It's hard to imagine a world without A Light i...    three         39  \n",
       "3  For readers of Laura Hillenbrand's Seabiscuit ...     four         39  \n",
       "4  Since her assault, Miss Annette Chetwynd has b...      two         23  "
      ]
     },
     "execution_count": 536,
     "metadata": {},
     "output_type": "execute_result"
    }
   ],
   "source": [
    "# count_the_values(reviews['author'])\n",
    "\n",
    "# ChatGPT generated 1160 authors instead of 13, let's fix this\n",
    "\n",
    "# I randomly generated 13 authors on ChatGPT\n",
    "\n",
    "authors = pd.DataFrame({\n",
    "    'book_id':['a897fe39b1053632',\n",
    " '90fa61229261140a',\n",
    " '6957f44c3847a760',\n",
    " 'f77dbf2323deb740',\n",
    " '2597b5a345f45e1b',\n",
    " 'e72a5dfc7e9267b2',\n",
    " 'e10e1e165dc8be4a',\n",
    " '1dfe412b8ac00530',\n",
    " '0312262ecafa5a40',\n",
    " '30a7f60cd76ca58c',\n",
    " 'ce6396b0f23f6ecc',\n",
    " '3b1c02bac2a429e6',\n",
    " 'a34ba96d4081e6a4'],\n",
    " 'author':[\n",
    "    \"Jane Austen\",\n",
    "    \"George Orwell\",\n",
    "    \"Haruki Murakami\",\n",
    "    \"Chimamanda Ngozi Adichie\",\n",
    "    \"Stephen King\",\n",
    "    \"Toni Morrison\",\n",
    "    \"Isaac Asimov\",\n",
    "    \"Elena Ferrante\",\n",
    "    \"Gabriel García Márquez\",\n",
    "    \"Lena Blackthorn\",         \n",
    "    \"Arthur D. Nightfall\",     \n",
    "    \"Sophie Alveron\",          \n",
    "    \"Khaled Hosseini\"]\n",
    "})\n",
    "\n",
    "reviews = reviews.merge(authors, on='book_id', how='inner')\n",
    "reviews = reviews.merge(products, on='book_id', how='inner')\n",
    "\n",
    "reviews.head()"
   ]
  },
  {
   "cell_type": "code",
   "execution_count": 537,
   "id": "dbda926a",
   "metadata": {},
   "outputs": [],
   "source": [
    "reviews = reviews[['review_id', 'book_id','name', 'review_text', 'rating_x', 'review_date', 'year', 'month', 'author_y','category']].copy()"
   ]
  },
  {
   "cell_type": "code",
   "execution_count": 538,
   "id": "19c27c11",
   "metadata": {},
   "outputs": [
    {
     "data": {
      "text/html": [
       "<div>\n",
       "<style scoped>\n",
       "    .dataframe tbody tr th:only-of-type {\n",
       "        vertical-align: middle;\n",
       "    }\n",
       "\n",
       "    .dataframe tbody tr th {\n",
       "        vertical-align: top;\n",
       "    }\n",
       "\n",
       "    .dataframe thead th {\n",
       "        text-align: right;\n",
       "    }\n",
       "</style>\n",
       "<table border=\"1\" class=\"dataframe\">\n",
       "  <thead>\n",
       "    <tr style=\"text-align: right;\">\n",
       "      <th></th>\n",
       "      <th>review_id</th>\n",
       "      <th>book_id</th>\n",
       "      <th>name</th>\n",
       "      <th>review_text</th>\n",
       "      <th>rating</th>\n",
       "      <th>review_date</th>\n",
       "      <th>year</th>\n",
       "      <th>month</th>\n",
       "      <th>author</th>\n",
       "      <th>category</th>\n",
       "    </tr>\n",
       "  </thead>\n",
       "  <tbody>\n",
       "    <tr>\n",
       "      <th>0</th>\n",
       "      <td>1</td>\n",
       "      <td>2597b5a345f45e1b</td>\n",
       "      <td>The Dirty Little Secrets of Getting Your Dream...</td>\n",
       "      <td>Change whether small trip another defense. C'é...</td>\n",
       "      <td>3</td>\n",
       "      <td>2022-10-13</td>\n",
       "      <td>2022</td>\n",
       "      <td>10</td>\n",
       "      <td>Stephen King</td>\n",
       "      <td>business</td>\n",
       "    </tr>\n",
       "    <tr>\n",
       "      <th>1</th>\n",
       "      <td>2</td>\n",
       "      <td>1dfe412b8ac00530</td>\n",
       "      <td>The Black Maria</td>\n",
       "      <td>Or thank others population admit why group. C'...</td>\n",
       "      <td>3</td>\n",
       "      <td>2019-06-29</td>\n",
       "      <td>2019</td>\n",
       "      <td>6</td>\n",
       "      <td>Elena Ferrante</td>\n",
       "      <td>poetry</td>\n",
       "    </tr>\n",
       "    <tr>\n",
       "      <th>2</th>\n",
       "      <td>3</td>\n",
       "      <td>a897fe39b1053632</td>\n",
       "      <td>A Light in the Attic</td>\n",
       "      <td>Without professor today family large appear se...</td>\n",
       "      <td>3</td>\n",
       "      <td>2018-05-19</td>\n",
       "      <td>2018</td>\n",
       "      <td>5</td>\n",
       "      <td>Jane Austen</td>\n",
       "      <td>poetry</td>\n",
       "    </tr>\n",
       "    <tr>\n",
       "      <th>3</th>\n",
       "      <td>4</td>\n",
       "      <td>e10e1e165dc8be4a</td>\n",
       "      <td>The Boys in the Boat: Nine Americans and Their...</td>\n",
       "      <td>Piece daughter head reach answer even fast wea...</td>\n",
       "      <td>4</td>\n",
       "      <td>2019-02-23</td>\n",
       "      <td>2019</td>\n",
       "      <td>2</td>\n",
       "      <td>Isaac Asimov</td>\n",
       "      <td>default</td>\n",
       "    </tr>\n",
       "    <tr>\n",
       "      <th>4</th>\n",
       "      <td>5</td>\n",
       "      <td>0312262ecafa5a40</td>\n",
       "      <td>Starving Hearts (Triangular Trade Trilogy, #1)</td>\n",
       "      <td>Ever garden instead total husband trouble clos...</td>\n",
       "      <td>5</td>\n",
       "      <td>2024-06-02</td>\n",
       "      <td>2024</td>\n",
       "      <td>6</td>\n",
       "      <td>Gabriel García Márquez</td>\n",
       "      <td>default</td>\n",
       "    </tr>\n",
       "  </tbody>\n",
       "</table>\n",
       "</div>"
      ],
      "text/plain": [
       "   review_id           book_id  \\\n",
       "0          1  2597b5a345f45e1b   \n",
       "1          2  1dfe412b8ac00530   \n",
       "2          3  a897fe39b1053632   \n",
       "3          4  e10e1e165dc8be4a   \n",
       "4          5  0312262ecafa5a40   \n",
       "\n",
       "                                                name  \\\n",
       "0  The Dirty Little Secrets of Getting Your Dream...   \n",
       "1                                    The Black Maria   \n",
       "2                               A Light in the Attic   \n",
       "3  The Boys in the Boat: Nine Americans and Their...   \n",
       "4     Starving Hearts (Triangular Trade Trilogy, #1)   \n",
       "\n",
       "                                         review_text  rating review_date  \\\n",
       "0  Change whether small trip another defense. C'é...       3  2022-10-13   \n",
       "1  Or thank others population admit why group. C'...       3  2019-06-29   \n",
       "2  Without professor today family large appear se...       3  2018-05-19   \n",
       "3  Piece daughter head reach answer even fast wea...       4  2019-02-23   \n",
       "4  Ever garden instead total husband trouble clos...       5  2024-06-02   \n",
       "\n",
       "   year  month                  author  category  \n",
       "0  2022     10            Stephen King  business  \n",
       "1  2019      6          Elena Ferrante    poetry  \n",
       "2  2018      5             Jane Austen    poetry  \n",
       "3  2019      2            Isaac Asimov   default  \n",
       "4  2024      6  Gabriel García Márquez   default  "
      ]
     },
     "execution_count": 538,
     "metadata": {},
     "output_type": "execute_result"
    }
   ],
   "source": [
    "reviews = reviews.rename(columns={'rating_x':'rating','author_y':'author'})\n",
    "\n",
    "reviews.head()"
   ]
  },
  {
   "cell_type": "code",
   "execution_count": 539,
   "id": "a1b389c5",
   "metadata": {},
   "outputs": [
    {
     "name": "stderr",
     "output_type": "stream",
     "text": [
      "C:\\Users\\Houssain\\AppData\\Local\\Temp\\ipykernel_23464\\2017290950.py:4: UserWarning: Tight layout not applied. The left and right margins cannot be made large enough to accommodate all Axes decorations.\n",
      "  plt.tight_layout()\n"
     ]
    },
    {
     "data": {
      "image/png": "[encoded data removed]",
      "text/plain": [
       "<Figure size 640x480 with 1 Axes>"
      ]
     },
     "metadata": {},
     "output_type": "display_data"
    }
   ],
   "source": [
    "\"\"\" number of reviews per book \"\"\"\n",
    "\n",
    "reviews['name'].value_counts().plot(kind='barh')\n",
    "plt.tight_layout()\n",
    "plt.show()"
   ]
  },
  {
   "cell_type": "code",
   "execution_count": 540,
   "id": "e39daddc",
   "metadata": {},
   "outputs": [
    {
     "data": {
      "image/png": "[encoded data removed]",
      "text/plain": [
       "<Figure size 640x480 with 1 Axes>"
      ]
     },
     "metadata": {},
     "output_type": "display_data"
    }
   ],
   "source": [
    "\"\"\" visualizing the rating distribution \"\"\"\n",
    "\n",
    "reviews['rating'].plot(kind='kde')\n",
    "plt.show()"
   ]
  },
  {
   "cell_type": "code",
   "execution_count": 541,
   "id": "40258e41",
   "metadata": {},
   "outputs": [
    {
     "data": {
      "text/plain": [
       "' basic understanding of the SELLERS '"
      ]
     },
     "execution_count": 541,
     "metadata": {},
     "output_type": "execute_result"
    }
   ],
   "source": [
    "\"\"\" basic understanding of the SELLERS \"\"\""
   ]
  },
  {
   "cell_type": "code",
   "execution_count": 542,
   "id": "c01a5e4f",
   "metadata": {},
   "outputs": [
    {
     "data": {
      "text/plain": [
       "(50, 5)"
      ]
     },
     "execution_count": 542,
     "metadata": {},
     "output_type": "execute_result"
    }
   ],
   "source": [
    "sellers.shape"
   ]
  },
  {
   "cell_type": "code",
   "execution_count": 543,
   "id": "641afb7a",
   "metadata": {},
   "outputs": [
    {
     "data": {
      "text/html": [
       "<div>\n",
       "<style scoped>\n",
       "    .dataframe tbody tr th:only-of-type {\n",
       "        vertical-align: middle;\n",
       "    }\n",
       "\n",
       "    .dataframe tbody tr th {\n",
       "        vertical-align: top;\n",
       "    }\n",
       "\n",
       "    .dataframe thead th {\n",
       "        text-align: right;\n",
       "    }\n",
       "</style>\n",
       "<table border=\"1\" class=\"dataframe\">\n",
       "  <thead>\n",
       "    <tr style=\"text-align: right;\">\n",
       "      <th></th>\n",
       "      <th>seller_id</th>\n",
       "      <th>author_name</th>\n",
       "      <th>birthdate</th>\n",
       "      <th>country</th>\n",
       "      <th>seller_type</th>\n",
       "    </tr>\n",
       "  </thead>\n",
       "  <tbody>\n",
       "    <tr>\n",
       "      <th>0</th>\n",
       "      <td>1</td>\n",
       "      <td>Allison Hill</td>\n",
       "      <td>1959-09-15</td>\n",
       "      <td>Spain</td>\n",
       "      <td>indépendant</td>\n",
       "    </tr>\n",
       "    <tr>\n",
       "      <th>1</th>\n",
       "      <td>2</td>\n",
       "      <td>Brian Yang</td>\n",
       "      <td>1981-08-18</td>\n",
       "      <td>Spain</td>\n",
       "      <td>indépendant</td>\n",
       "    </tr>\n",
       "    <tr>\n",
       "      <th>2</th>\n",
       "      <td>3</td>\n",
       "      <td>Javier Johnson</td>\n",
       "      <td>1959-05-25</td>\n",
       "      <td>Germany</td>\n",
       "      <td>marketplace</td>\n",
       "    </tr>\n",
       "    <tr>\n",
       "      <th>3</th>\n",
       "      <td>4</td>\n",
       "      <td>Lance Hoffman</td>\n",
       "      <td>1993-03-29</td>\n",
       "      <td>France</td>\n",
       "      <td>marketplace</td>\n",
       "    </tr>\n",
       "    <tr>\n",
       "      <th>4</th>\n",
       "      <td>5</td>\n",
       "      <td>Kimberly Robinson</td>\n",
       "      <td>1984-08-13</td>\n",
       "      <td>Netherlands</td>\n",
       "      <td>indépendant</td>\n",
       "    </tr>\n",
       "  </tbody>\n",
       "</table>\n",
       "</div>"
      ],
      "text/plain": [
       "   seller_id        author_name   birthdate      country  seller_type\n",
       "0          1       Allison Hill  1959-09-15        Spain  indépendant\n",
       "1          2         Brian Yang  1981-08-18        Spain  indépendant\n",
       "2          3     Javier Johnson  1959-05-25      Germany  marketplace\n",
       "3          4      Lance Hoffman  1993-03-29       France  marketplace\n",
       "4          5  Kimberly Robinson  1984-08-13  Netherlands  indépendant"
      ]
     },
     "execution_count": 543,
     "metadata": {},
     "output_type": "execute_result"
    }
   ],
   "source": [
    "sellers.head()"
   ]
  },
  {
   "cell_type": "code",
   "execution_count": 544,
   "id": "292aae13",
   "metadata": {},
   "outputs": [
    {
     "data": {
      "text/plain": [
       "seller_id       int64\n",
       "author_name    object\n",
       "birthdate      object\n",
       "country        object\n",
       "seller_type    object\n",
       "dtype: object"
      ]
     },
     "execution_count": 544,
     "metadata": {},
     "output_type": "execute_result"
    }
   ],
   "source": [
    "sellers.dtypes"
   ]
  },
  {
   "cell_type": "code",
   "execution_count": 545,
   "id": "dd4fec3d",
   "metadata": {},
   "outputs": [
    {
     "data": {
      "text/plain": [
       "' data preperation of the SELLERS '"
      ]
     },
     "execution_count": 545,
     "metadata": {},
     "output_type": "execute_result"
    }
   ],
   "source": [
    "\"\"\" data preperation of the SELLERS \"\"\""
   ]
  },
  {
   "cell_type": "code",
   "execution_count": 546,
   "id": "7fe1f563",
   "metadata": {},
   "outputs": [
    {
     "data": {
      "text/plain": [
       "seller_id               int64\n",
       "author_name            object\n",
       "birthdate      datetime64[ns]\n",
       "country                object\n",
       "seller_type            object\n",
       "dtype: object"
      ]
     },
     "execution_count": 546,
     "metadata": {},
     "output_type": "execute_result"
    }
   ],
   "source": [
    "convert_date(sellers,'birthdate')"
   ]
  },
  {
   "cell_type": "code",
   "execution_count": 547,
   "id": "0844a478",
   "metadata": {},
   "outputs": [
    {
     "data": {
      "text/plain": [
       "seller_id      0\n",
       "author_name    0\n",
       "birthdate      0\n",
       "country        0\n",
       "seller_type    0\n",
       "dtype: int64"
      ]
     },
     "execution_count": 547,
     "metadata": {},
     "output_type": "execute_result"
    }
   ],
   "source": [
    "sellers.isnull().sum()"
   ]
  },
  {
   "cell_type": "code",
   "execution_count": 548,
   "id": "60570f61",
   "metadata": {},
   "outputs": [
    {
     "data": {
      "text/html": [
       "<div>\n",
       "<style scoped>\n",
       "    .dataframe tbody tr th:only-of-type {\n",
       "        vertical-align: middle;\n",
       "    }\n",
       "\n",
       "    .dataframe tbody tr th {\n",
       "        vertical-align: top;\n",
       "    }\n",
       "\n",
       "    .dataframe thead th {\n",
       "        text-align: right;\n",
       "    }\n",
       "</style>\n",
       "<table border=\"1\" class=\"dataframe\">\n",
       "  <thead>\n",
       "    <tr style=\"text-align: right;\">\n",
       "      <th></th>\n",
       "      <th>seller_id</th>\n",
       "      <th>author_name</th>\n",
       "      <th>birthdate</th>\n",
       "      <th>country</th>\n",
       "      <th>seller_type</th>\n",
       "    </tr>\n",
       "  </thead>\n",
       "  <tbody>\n",
       "  </tbody>\n",
       "</table>\n",
       "</div>"
      ],
      "text/plain": [
       "Empty DataFrame\n",
       "Columns: [seller_id, author_name, birthdate, country, seller_type]\n",
       "Index: []"
      ]
     },
     "execution_count": 548,
     "metadata": {},
     "output_type": "execute_result"
    }
   ],
   "source": [
    "def_duplicated(sellers)"
   ]
  },
  {
   "cell_type": "code",
   "execution_count": 549,
   "id": "8fdfa9e9",
   "metadata": {},
   "outputs": [],
   "source": [
    "\"\"\" translating data from French to English\"\"\"\n",
    "\n",
    "sellers['seller_type'] = sellers['seller_type'].replace('indépendant', 'independent')\n",
    "sellers['seller_type'] = sellers['seller_type'].replace(\"maison d'édition\", 'publishing house')"
   ]
  },
  {
   "cell_type": "code",
   "execution_count": 550,
   "id": "2b4f58fc",
   "metadata": {},
   "outputs": [],
   "source": [
    "sellers['age'] = ((pd.Timestamp.today() - sellers['birthdate']).dt.days / days_in_year).astype(int)"
   ]
  },
  {
   "cell_type": "code",
   "execution_count": 551,
   "id": "1ba3eda4",
   "metadata": {},
   "outputs": [
    {
     "data": {
      "text/plain": [
       "' SELLERS feature understanding (univariate analysis) '"
      ]
     },
     "execution_count": 551,
     "metadata": {},
     "output_type": "execute_result"
    }
   ],
   "source": [
    "\"\"\" SELLERS feature understanding (univariate analysis) \"\"\""
   ]
  },
  {
   "cell_type": "code",
   "execution_count": 552,
   "id": "296fad00",
   "metadata": {},
   "outputs": [
    {
     "data": {
      "image/png": "[encoded data removed]",
      "text/plain": [
       "<Figure size 640x480 with 1 Axes>"
      ]
     },
     "metadata": {},
     "output_type": "display_data"
    }
   ],
   "source": [
    "\"\"\" which country has the most sellers active on the store \"\"\"\n",
    "\n",
    "ax = sellers['country'].value_counts().plot(kind='bar', title='Sellers by Country')\n",
    "ax.set_xlabel('Country')\n",
    "ax.set_ylabel('Number of Sellers')\n",
    "ax.tick_params(axis='x', labelrotation=45)\n",
    "plt.show()"
   ]
  },
  {
   "cell_type": "code",
   "execution_count": 553,
   "id": "47ed226b",
   "metadata": {},
   "outputs": [
    {
     "data": {
      "text/plain": [
       "seller_type\n",
       "independent         18\n",
       "marketplace         17\n",
       "publishing house    15\n",
       "Name: count, dtype: int64"
      ]
     },
     "execution_count": 553,
     "metadata": {},
     "output_type": "execute_result"
    }
   ],
   "source": [
    "count_the_values(sellers['seller_type'])"
   ]
  },
  {
   "cell_type": "code",
   "execution_count": 554,
   "id": "92abc6c2",
   "metadata": {},
   "outputs": [
    {
     "data": {
      "text/plain": [
       "<Axes: ylabel='Frequency'>"
      ]
     },
     "execution_count": 554,
     "metadata": {},
     "output_type": "execute_result"
    },
    {
     "data": {
      "image/png": "[encoded data removed]",
      "text/plain": [
       "<Figure size 640x480 with 1 Axes>"
      ]
     },
     "metadata": {},
     "output_type": "display_data"
    }
   ],
   "source": [
    "\"\"\" age distribution of the sellers \"\"\"\n",
    "\n",
    "sellers['age'].plot(kind='hist', bins=15)"
   ]
  },
  {
   "cell_type": "code",
   "execution_count": 555,
   "id": "25af29be",
   "metadata": {},
   "outputs": [
    {
     "data": {
      "text/plain": [
       "' basic understanding of the TRANSACTIONS '"
      ]
     },
     "execution_count": 555,
     "metadata": {},
     "output_type": "execute_result"
    }
   ],
   "source": [
    "\"\"\" basic understanding of the TRANSACTIONS \"\"\""
   ]
  },
  {
   "cell_type": "code",
   "execution_count": 556,
   "id": "119fcf0e",
   "metadata": {},
   "outputs": [
    {
     "data": {
      "text/plain": [
       "(13988, 7)"
      ]
     },
     "execution_count": 556,
     "metadata": {},
     "output_type": "execute_result"
    }
   ],
   "source": [
    "transactions.shape"
   ]
  },
  {
   "cell_type": "code",
   "execution_count": 557,
   "id": "9eeaf8f8",
   "metadata": {},
   "outputs": [
    {
     "data": {
      "text/html": [
       "<div>\n",
       "<style scoped>\n",
       "    .dataframe tbody tr th:only-of-type {\n",
       "        vertical-align: middle;\n",
       "    }\n",
       "\n",
       "    .dataframe tbody tr th {\n",
       "        vertical-align: top;\n",
       "    }\n",
       "\n",
       "    .dataframe thead th {\n",
       "        text-align: right;\n",
       "    }\n",
       "</style>\n",
       "<table border=\"1\" class=\"dataframe\">\n",
       "  <thead>\n",
       "    <tr style=\"text-align: right;\">\n",
       "      <th></th>\n",
       "      <th>transaction_id</th>\n",
       "      <th>book_id</th>\n",
       "      <th>buyer_id</th>\n",
       "      <th>price</th>\n",
       "      <th>price_paid</th>\n",
       "      <th>discount_rate</th>\n",
       "      <th>date</th>\n",
       "    </tr>\n",
       "  </thead>\n",
       "  <tbody>\n",
       "    <tr>\n",
       "      <th>0</th>\n",
       "      <td>1</td>\n",
       "      <td>0312262ecafa5a40</td>\n",
       "      <td>1862</td>\n",
       "      <td>13.99</td>\n",
       "      <td>13.99</td>\n",
       "      <td>0.00</td>\n",
       "      <td>2026-11-13</td>\n",
       "    </tr>\n",
       "    <tr>\n",
       "      <th>1</th>\n",
       "      <td>2</td>\n",
       "      <td>a34ba96d4081e6a4</td>\n",
       "      <td>157</td>\n",
       "      <td>35.02</td>\n",
       "      <td>33.27</td>\n",
       "      <td>0.05</td>\n",
       "      <td>2019-04-17</td>\n",
       "    </tr>\n",
       "    <tr>\n",
       "      <th>2</th>\n",
       "      <td>3</td>\n",
       "      <td>30a7f60cd76ca58c</td>\n",
       "      <td>1925</td>\n",
       "      <td>20.66</td>\n",
       "      <td>18.59</td>\n",
       "      <td>0.10</td>\n",
       "      <td>2021-11-30</td>\n",
       "    </tr>\n",
       "    <tr>\n",
       "      <th>3</th>\n",
       "      <td>4</td>\n",
       "      <td>a897fe39b1053632</td>\n",
       "      <td>875</td>\n",
       "      <td>51.77</td>\n",
       "      <td>51.77</td>\n",
       "      <td>0.00</td>\n",
       "      <td>2020-05-30</td>\n",
       "    </tr>\n",
       "    <tr>\n",
       "      <th>4</th>\n",
       "      <td>5</td>\n",
       "      <td>0312262ecafa5a40</td>\n",
       "      <td>129</td>\n",
       "      <td>13.99</td>\n",
       "      <td>13.99</td>\n",
       "      <td>0.00</td>\n",
       "      <td>2022-01-17</td>\n",
       "    </tr>\n",
       "  </tbody>\n",
       "</table>\n",
       "</div>"
      ],
      "text/plain": [
       "   transaction_id           book_id  buyer_id  price  price_paid  \\\n",
       "0               1  0312262ecafa5a40      1862  13.99       13.99   \n",
       "1               2  a34ba96d4081e6a4       157  35.02       33.27   \n",
       "2               3  30a7f60cd76ca58c      1925  20.66       18.59   \n",
       "3               4  a897fe39b1053632       875  51.77       51.77   \n",
       "4               5  0312262ecafa5a40       129  13.99       13.99   \n",
       "\n",
       "   discount_rate        date  \n",
       "0           0.00  2026-11-13  \n",
       "1           0.05  2019-04-17  \n",
       "2           0.10  2021-11-30  \n",
       "3           0.00  2020-05-30  \n",
       "4           0.00  2022-01-17  "
      ]
     },
     "execution_count": 557,
     "metadata": {},
     "output_type": "execute_result"
    }
   ],
   "source": [
    "transactions.head()"
   ]
  },
  {
   "cell_type": "code",
   "execution_count": 558,
   "id": "964bf4ba",
   "metadata": {},
   "outputs": [
    {
     "data": {
      "text/plain": [
       "transaction_id      int64\n",
       "book_id            object\n",
       "buyer_id            int64\n",
       "price             float64\n",
       "price_paid        float64\n",
       "discount_rate     float64\n",
       "date               object\n",
       "dtype: object"
      ]
     },
     "execution_count": 558,
     "metadata": {},
     "output_type": "execute_result"
    }
   ],
   "source": [
    "transactions.dtypes"
   ]
  },
  {
   "cell_type": "code",
   "execution_count": 559,
   "id": "633c714a",
   "metadata": {},
   "outputs": [
    {
     "data": {
      "text/html": [
       "<div>\n",
       "<style scoped>\n",
       "    .dataframe tbody tr th:only-of-type {\n",
       "        vertical-align: middle;\n",
       "    }\n",
       "\n",
       "    .dataframe tbody tr th {\n",
       "        vertical-align: top;\n",
       "    }\n",
       "\n",
       "    .dataframe thead th {\n",
       "        text-align: right;\n",
       "    }\n",
       "</style>\n",
       "<table border=\"1\" class=\"dataframe\">\n",
       "  <thead>\n",
       "    <tr style=\"text-align: right;\">\n",
       "      <th></th>\n",
       "      <th>transaction_id</th>\n",
       "      <th>buyer_id</th>\n",
       "      <th>price</th>\n",
       "      <th>price_paid</th>\n",
       "      <th>discount_rate</th>\n",
       "    </tr>\n",
       "  </thead>\n",
       "  <tbody>\n",
       "    <tr>\n",
       "      <th>count</th>\n",
       "      <td>13988.000000</td>\n",
       "      <td>13988.000000</td>\n",
       "      <td>13988.000000</td>\n",
       "      <td>13988.000000</td>\n",
       "      <td>13988.000000</td>\n",
       "    </tr>\n",
       "    <tr>\n",
       "      <th>mean</th>\n",
       "      <td>7131.340578</td>\n",
       "      <td>1489.463540</td>\n",
       "      <td>34.004796</td>\n",
       "      <td>32.886480</td>\n",
       "      <td>0.033014</td>\n",
       "    </tr>\n",
       "    <tr>\n",
       "      <th>std</th>\n",
       "      <td>4120.855676</td>\n",
       "      <td>871.313954</td>\n",
       "      <td>15.209350</td>\n",
       "      <td>14.925804</td>\n",
       "      <td>0.067699</td>\n",
       "    </tr>\n",
       "    <tr>\n",
       "      <th>min</th>\n",
       "      <td>1.000000</td>\n",
       "      <td>1.000000</td>\n",
       "      <td>13.990000</td>\n",
       "      <td>10.490000</td>\n",
       "      <td>0.000000</td>\n",
       "    </tr>\n",
       "    <tr>\n",
       "      <th>25%</th>\n",
       "      <td>3562.750000</td>\n",
       "      <td>725.750000</td>\n",
       "      <td>20.660000</td>\n",
       "      <td>18.590000</td>\n",
       "      <td>0.000000</td>\n",
       "    </tr>\n",
       "    <tr>\n",
       "      <th>50%</th>\n",
       "      <td>7127.500000</td>\n",
       "      <td>1503.000000</td>\n",
       "      <td>33.340000</td>\n",
       "      <td>31.670000</td>\n",
       "      <td>0.000000</td>\n",
       "    </tr>\n",
       "    <tr>\n",
       "      <th>75%</th>\n",
       "      <td>10698.250000</td>\n",
       "      <td>2245.000000</td>\n",
       "      <td>51.770000</td>\n",
       "      <td>50.100000</td>\n",
       "      <td>0.000000</td>\n",
       "    </tr>\n",
       "    <tr>\n",
       "      <th>max</th>\n",
       "      <td>14280.000000</td>\n",
       "      <td>3000.000000</td>\n",
       "      <td>53.740000</td>\n",
       "      <td>53.740000</td>\n",
       "      <td>0.250000</td>\n",
       "    </tr>\n",
       "  </tbody>\n",
       "</table>\n",
       "</div>"
      ],
      "text/plain": [
       "       transaction_id      buyer_id         price    price_paid  discount_rate\n",
       "count    13988.000000  13988.000000  13988.000000  13988.000000   13988.000000\n",
       "mean      7131.340578   1489.463540     34.004796     32.886480       0.033014\n",
       "std       4120.855676    871.313954     15.209350     14.925804       0.067699\n",
       "min          1.000000      1.000000     13.990000     10.490000       0.000000\n",
       "25%       3562.750000    725.750000     20.660000     18.590000       0.000000\n",
       "50%       7127.500000   1503.000000     33.340000     31.670000       0.000000\n",
       "75%      10698.250000   2245.000000     51.770000     50.100000       0.000000\n",
       "max      14280.000000   3000.000000     53.740000     53.740000       0.250000"
      ]
     },
     "execution_count": 559,
     "metadata": {},
     "output_type": "execute_result"
    }
   ],
   "source": [
    "transactions.describe()"
   ]
  },
  {
   "cell_type": "code",
   "execution_count": 560,
   "id": "b9f28263",
   "metadata": {},
   "outputs": [
    {
     "data": {
      "text/plain": [
       "' data preperation of the TRANSACTIONS '"
      ]
     },
     "execution_count": 560,
     "metadata": {},
     "output_type": "execute_result"
    }
   ],
   "source": [
    "\"\"\" data preperation of the TRANSACTIONS \"\"\""
   ]
  },
  {
   "cell_type": "code",
   "execution_count": 561,
   "id": "d7e3dc9d",
   "metadata": {},
   "outputs": [
    {
     "data": {
      "text/plain": [
       "transaction_id             int64\n",
       "book_id                   object\n",
       "buyer_id                   int64\n",
       "price                    float64\n",
       "price_paid               float64\n",
       "discount_rate            float64\n",
       "date              datetime64[ns]\n",
       "dtype: object"
      ]
     },
     "execution_count": 561,
     "metadata": {},
     "output_type": "execute_result"
    }
   ],
   "source": [
    "convert_date(transactions,'date')"
   ]
  },
  {
   "cell_type": "code",
   "execution_count": 562,
   "id": "036ab3ef",
   "metadata": {},
   "outputs": [
    {
     "data": {
      "text/plain": [
       "transaction_id    0\n",
       "book_id           0\n",
       "buyer_id          0\n",
       "price             0\n",
       "price_paid        0\n",
       "discount_rate     0\n",
       "date              0\n",
       "dtype: int64"
      ]
     },
     "execution_count": 562,
     "metadata": {},
     "output_type": "execute_result"
    }
   ],
   "source": [
    "transactions.isnull().sum()"
   ]
  },
  {
   "cell_type": "code",
   "execution_count": 563,
   "id": "19773312",
   "metadata": {},
   "outputs": [],
   "source": [
    "\n",
    "transactions['year'] = transactions['date'].dt.year\n",
    "transactions['month'] = transactions['date'].dt.month"
   ]
  },
  {
   "cell_type": "code",
   "execution_count": 564,
   "id": "52528758",
   "metadata": {},
   "outputs": [],
   "source": [
    "transactions = transactions[transactions['year'] != 2026].copy()"
   ]
  },
  {
   "cell_type": "code",
   "execution_count": 565,
   "id": "e1ce7d28",
   "metadata": {},
   "outputs": [
    {
     "data": {
      "text/plain": [
       "' TRANSACTIONS feature understanding (univariate analysis) '"
      ]
     },
     "execution_count": 565,
     "metadata": {},
     "output_type": "execute_result"
    }
   ],
   "source": [
    "\"\"\" TRANSACTIONS feature understanding (univariate analysis) \"\"\""
   ]
  },
  {
   "cell_type": "code",
   "execution_count": 566,
   "id": "671c8caf",
   "metadata": {},
   "outputs": [
    {
     "data": {
      "text/html": [
       "<div>\n",
       "<style scoped>\n",
       "    .dataframe tbody tr th:only-of-type {\n",
       "        vertical-align: middle;\n",
       "    }\n",
       "\n",
       "    .dataframe tbody tr th {\n",
       "        vertical-align: top;\n",
       "    }\n",
       "\n",
       "    .dataframe thead th {\n",
       "        text-align: right;\n",
       "    }\n",
       "</style>\n",
       "<table border=\"1\" class=\"dataframe\">\n",
       "  <thead>\n",
       "    <tr style=\"text-align: right;\">\n",
       "      <th></th>\n",
       "      <th>transaction_id</th>\n",
       "      <th>book_id</th>\n",
       "      <th>buyer_id</th>\n",
       "      <th>price</th>\n",
       "      <th>price_paid</th>\n",
       "      <th>discount_rate</th>\n",
       "      <th>date</th>\n",
       "      <th>year</th>\n",
       "      <th>month</th>\n",
       "    </tr>\n",
       "  </thead>\n",
       "  <tbody>\n",
       "    <tr>\n",
       "      <th>1</th>\n",
       "      <td>2</td>\n",
       "      <td>a34ba96d4081e6a4</td>\n",
       "      <td>157</td>\n",
       "      <td>35.02</td>\n",
       "      <td>33.27</td>\n",
       "      <td>0.05</td>\n",
       "      <td>2019-04-17</td>\n",
       "      <td>2019</td>\n",
       "      <td>4</td>\n",
       "    </tr>\n",
       "    <tr>\n",
       "      <th>2</th>\n",
       "      <td>3</td>\n",
       "      <td>30a7f60cd76ca58c</td>\n",
       "      <td>1925</td>\n",
       "      <td>20.66</td>\n",
       "      <td>18.59</td>\n",
       "      <td>0.10</td>\n",
       "      <td>2021-11-30</td>\n",
       "      <td>2021</td>\n",
       "      <td>11</td>\n",
       "    </tr>\n",
       "    <tr>\n",
       "      <th>3</th>\n",
       "      <td>4</td>\n",
       "      <td>a897fe39b1053632</td>\n",
       "      <td>875</td>\n",
       "      <td>51.77</td>\n",
       "      <td>51.77</td>\n",
       "      <td>0.00</td>\n",
       "      <td>2020-05-30</td>\n",
       "      <td>2020</td>\n",
       "      <td>5</td>\n",
       "    </tr>\n",
       "    <tr>\n",
       "      <th>4</th>\n",
       "      <td>5</td>\n",
       "      <td>0312262ecafa5a40</td>\n",
       "      <td>129</td>\n",
       "      <td>13.99</td>\n",
       "      <td>13.99</td>\n",
       "      <td>0.00</td>\n",
       "      <td>2022-01-17</td>\n",
       "      <td>2022</td>\n",
       "      <td>1</td>\n",
       "    </tr>\n",
       "    <tr>\n",
       "      <th>5</th>\n",
       "      <td>6</td>\n",
       "      <td>2597b5a345f45e1b</td>\n",
       "      <td>2463</td>\n",
       "      <td>33.34</td>\n",
       "      <td>33.34</td>\n",
       "      <td>0.00</td>\n",
       "      <td>2017-03-30</td>\n",
       "      <td>2017</td>\n",
       "      <td>3</td>\n",
       "    </tr>\n",
       "  </tbody>\n",
       "</table>\n",
       "</div>"
      ],
      "text/plain": [
       "   transaction_id           book_id  buyer_id  price  price_paid  \\\n",
       "1               2  a34ba96d4081e6a4       157  35.02       33.27   \n",
       "2               3  30a7f60cd76ca58c      1925  20.66       18.59   \n",
       "3               4  a897fe39b1053632       875  51.77       51.77   \n",
       "4               5  0312262ecafa5a40       129  13.99       13.99   \n",
       "5               6  2597b5a345f45e1b      2463  33.34       33.34   \n",
       "\n",
       "   discount_rate       date  year  month  \n",
       "1           0.05 2019-04-17  2019      4  \n",
       "2           0.10 2021-11-30  2021     11  \n",
       "3           0.00 2020-05-30  2020      5  \n",
       "4           0.00 2022-01-17  2022      1  \n",
       "5           0.00 2017-03-30  2017      3  "
      ]
     },
     "execution_count": 566,
     "metadata": {},
     "output_type": "execute_result"
    }
   ],
   "source": [
    "transactions.head()"
   ]
  },
  {
   "cell_type": "code",
   "execution_count": 567,
   "id": "41ca3d7f",
   "metadata": {},
   "outputs": [
    {
     "name": "stdout",
     "output_type": "stream",
     "text": [
      "458770.71\n"
     ]
    }
   ],
   "source": [
    "print(round(transactions['price_paid'].sum(),2))"
   ]
  },
  {
   "cell_type": "code",
   "execution_count": 568,
   "id": "5386bf82",
   "metadata": {},
   "outputs": [
    {
     "data": {
      "text/plain": [
       "discount_rate\n",
       "0.00    10672\n",
       "0.10     1165\n",
       "0.15      934\n",
       "0.25      727\n",
       "0.05      451\n",
       "Name: count, dtype: int64"
      ]
     },
     "execution_count": 568,
     "metadata": {},
     "output_type": "execute_result"
    }
   ],
   "source": [
    "count_the_values(transactions['discount_rate'])"
   ]
  },
  {
   "cell_type": "code",
   "execution_count": 569,
   "id": "aaeeeef6",
   "metadata": {},
   "outputs": [
    {
     "data": {
      "image/png": "[encoded data removed]",
      "text/plain": [
       "<Figure size 640x480 with 1 Axes>"
      ]
     },
     "metadata": {},
     "output_type": "display_data"
    }
   ],
   "source": [
    "\"\"\" books sold by year \"\"\"\n",
    "\n",
    "ax = transactions['year'].value_counts().plot(kind='bar', title='Books sold per Year')\n",
    "ax.set_xlabel('Book')\n",
    "ax.set_ylabel('Amount sold')\n",
    "ax.tick_params(axis='x', labelrotation=45)\n",
    "\n",
    "for bar in ax.patches:\n",
    "    height = bar.get_height()\n",
    "    ax.annotate(\n",
    "        f'{int(height)}',\n",
    "        xy=(bar.get_x() + bar.get_width() / 2, height),\n",
    "        ha='center', va='bottom', fontsize=10\n",
    "    )\n",
    "\n",
    "plt.show()"
   ]
  },
  {
   "cell_type": "code",
   "execution_count": 570,
   "id": "70302011",
   "metadata": {},
   "outputs": [
    {
     "data": {
      "text/plain": [
       "<Axes: xlabel='year'>"
      ]
     },
     "execution_count": 570,
     "metadata": {},
     "output_type": "execute_result"
    },
    {
     "data": {
      "image/png": "[encoded data removed]",
      "text/plain": [
       "<Figure size 640x480 with 1 Axes>"
      ]
     },
     "metadata": {},
     "output_type": "display_data"
    }
   ],
   "source": [
    "\"\"\" turnover by year \"\"\"\n",
    "\n",
    "transactions.groupby('year')['price_paid'].sum().plot(kind='bar')"
   ]
  },
  {
   "cell_type": "code",
   "execution_count": 571,
   "id": "44106a8f",
   "metadata": {},
   "outputs": [
    {
     "data": {
      "text/plain": [
       "' TABLES feature relationships (Bivariate analysis) '"
      ]
     },
     "execution_count": 571,
     "metadata": {},
     "output_type": "execute_result"
    }
   ],
   "source": [
    "\"\"\" TABLES feature relationships (Bivariate analysis) \"\"\""
   ]
  },
  {
   "cell_type": "code",
   "execution_count": null,
   "id": "e6ca4fa5",
   "metadata": {},
   "outputs": [],
   "source": [
    "\"\"\" Does the customer's age have influence on the average price paid \"\"\"\n",
    "\n",
    "transactions_buyers_df = pd.merge(transactions, buyers, on='buyer_id', how='inner')"
   ]
  },
  {
   "cell_type": "code",
   "execution_count": 573,
   "id": "5d76d326",
   "metadata": {},
   "outputs": [
    {
     "name": "stdout",
     "output_type": "stream",
     "text": [
      "The correlation between age and price is: 0.24662617487759\n"
     ]
    }
   ],
   "source": [
    "turnover_per_age = transactions_buyers_df.groupby('age')['price_paid'].mean()\n",
    "\n",
    "age = pd.Series(turnover_per_age.index)\n",
    "price = pd.Series(turnover_per_age.values)\n",
    "\n",
    "correlation_age_price = age.corr(price)\n",
    "\n",
    "print(f'The correlation between age and price is: {correlation_age_price}')"
   ]
  },
  {
   "cell_type": "code",
   "execution_count": 574,
   "id": "e0289209",
   "metadata": {},
   "outputs": [
    {
     "data": {
      "image/png": "[encoded data removed]",
      "text/plain": [
       "<Figure size 640x480 with 1 Axes>"
      ]
     },
     "metadata": {},
     "output_type": "display_data"
    },
    {
     "data": {
      "text/plain": [
       "' There is a weak positive correlation. When one variable increases the other slightly increases too '"
      ]
     },
     "execution_count": 574,
     "metadata": {},
     "output_type": "execute_result"
    }
   ],
   "source": [
    "sns.scatterplot(x=age, y=price)\n",
    "sns.regplot(x=age, y=price)\n",
    "plt.title('Correlation between Age and Price paid')\n",
    "plt.xlabel('Price')\n",
    "plt.ylabel('Age')\n",
    "plt.show()\n",
    "\n",
    "\"\"\" There is a weak positive correlation. When one variable increases the other slightly increases too \"\"\""
   ]
  },
  {
   "cell_type": "code",
   "execution_count": null,
   "id": "6ce73ba6",
   "metadata": {},
   "outputs": [],
   "source": [
    "\"\"\" Are the books with a higher rating more expensive ? \"\"\"\n",
    "\n",
    "reviews_products_df = reviews.merge(products, on='book_id', how='inner')"
   ]
  },
  {
   "cell_type": "code",
   "execution_count": 576,
   "id": "cedf66a3",
   "metadata": {},
   "outputs": [],
   "source": [
    "rating_per_price = reviews_products_df.groupby(\"name_x\").agg({\n",
    "    'price':'mean',\n",
    "    'rating_x':'mean'\n",
    "})"
   ]
  },
  {
   "cell_type": "code",
   "execution_count": 577,
   "id": "bdaa1acd",
   "metadata": {},
   "outputs": [
    {
     "name": "stdout",
     "output_type": "stream",
     "text": [
      "The correlation between price and rating is: -0.36011433669869963\n"
     ]
    }
   ],
   "source": [
    "correlation_rating_price = rating_per_price['price'].corr(rating_per_price['rating_x'])\n",
    "print(f'The correlation between price and rating is: {correlation_rating_price}')"
   ]
  },
  {
   "cell_type": "code",
   "execution_count": 578,
   "id": "8dcb928a",
   "metadata": {},
   "outputs": [
    {
     "data": {
      "image/png": "[encoded data removed]",
      "text/plain": [
       "<Figure size 640x480 with 1 Axes>"
      ]
     },
     "metadata": {},
     "output_type": "display_data"
    },
    {
     "data": {
      "text/plain": [
       "' The correlation of -0.360 suggest a weak negative relationship, meaning that while one variable slightly decreases the other increases '"
      ]
     },
     "execution_count": 578,
     "metadata": {},
     "output_type": "execute_result"
    }
   ],
   "source": [
    "sns.regplot(x=rating_per_price['price'], y=rating_per_price['rating_x'])\n",
    "plt.title('Correlation between Rating and Price')\n",
    "plt.xlabel('Price')\n",
    "plt.ylabel('Rating')\n",
    "plt.show()\n",
    "\n",
    "\"\"\" The correlation of -0.360 suggest a weak negative relationship, meaning that while one variable slightly decreases the other increases \"\"\""
   ]
  },
  {
   "cell_type": "code",
   "execution_count": 579,
   "id": "dc4d4ab7",
   "metadata": {},
   "outputs": [
    {
     "data": {
      "text/plain": [
       "\" Is there a correlation between the buyer's age and the seller's age. Do the younger clients buy from authors in the same age group ? \""
      ]
     },
     "execution_count": 579,
     "metadata": {},
     "output_type": "execute_result"
    }
   ],
   "source": [
    "\"\"\" Is there a correlation between the buyer's age and the seller's age. Do the younger clients buy from authors in the same age group ? \"\"\""
   ]
  },
  {
   "cell_type": "code",
   "execution_count": 580,
   "id": "42e2222a",
   "metadata": {},
   "outputs": [],
   "source": [
    "products_sellers_df = products.merge(sellers, on='seller_id', how='inner')\n",
    "transactions_buyers_products_sellers_df = transactions_buyers_df.merge(products_sellers_df, on='book_id', how='inner')\n",
    "\n",
    "correlation_age_df = transactions_buyers_products_sellers_df[['buyer_id', 'name_x', 'age_x', 'seller_id', 'author_name', 'age_y']]\n",
    "correlation_age_df = correlation_age_df.rename(columns={\n",
    "    'age_y':'age_author',\n",
    "    'age_x':'age_buyer'\n",
    "})"
   ]
  },
  {
   "cell_type": "code",
   "execution_count": 581,
   "id": "8f776110",
   "metadata": {},
   "outputs": [
    {
     "name": "stdout",
     "output_type": "stream",
     "text": [
      "The correlation between the age of the author and the age of the customer is -0.0527289879338852\n",
      "The correlation between the two variables is very low (-0.05)\n"
     ]
    }
   ],
   "source": [
    "correlation_age_df = correlation_age_df.groupby('age_author')['age_buyer'].mean()\n",
    "\n",
    "age_author = pd.Series(correlation_age_df.index)\n",
    "age_seller = pd.Series(correlation_age_df.values)\n",
    "\n",
    "correlation_age = age_author.corr(age_seller)\n",
    "print(f'The correlation between the age of the author and the age of the customer is {correlation_age}')\n",
    "print('The correlation between the two variables is very low (-0.05)')"
   ]
  },
  {
   "cell_type": "code",
   "execution_count": 582,
   "id": "4f976ea8",
   "metadata": {},
   "outputs": [
    {
     "data": {
      "image/png": "[encoded data removed]",
      "text/plain": [
       "<Figure size 640x480 with 1 Axes>"
      ]
     },
     "metadata": {},
     "output_type": "display_data"
    },
    {
     "data": {
      "text/plain": [
       "' Category do play a role in the price of the books. Young adult & default are the cheapest in comparison with historical fiction and sequential art'"
      ]
     },
     "execution_count": 582,
     "metadata": {},
     "output_type": "execute_result"
    }
   ],
   "source": [
    "\"\"\" Comparison of price per category. Are books more expensive in one category than another ? \"\"\"\n",
    "\n",
    "sns.boxenplot(data=products, x=products['category'], y=products['price'])\n",
    "plt.xticks(rotation=45)\n",
    "plt.title('Price per category')\n",
    "plt.show()\n",
    "\n",
    "\"\"\" Category do play a role in the price of the books. Young adult & default are the cheapest in comparison with historical fiction and sequential art\"\"\""
   ]
  },
  {
   "cell_type": "code",
   "execution_count": 583,
   "id": "d7f3c3ab",
   "metadata": {},
   "outputs": [
    {
     "data": {
      "text/plain": [
       "' Theme based analysis '"
      ]
     },
     "execution_count": 583,
     "metadata": {},
     "output_type": "execute_result"
    }
   ],
   "source": [
    "\"\"\" Theme based analysis \"\"\""
   ]
  },
  {
   "cell_type": "code",
   "execution_count": 584,
   "id": "ff8ceab5",
   "metadata": {},
   "outputs": [
    {
     "data": {
      "text/plain": [
       "' Women and men are very similar when compared on the average basket. Even though, men score slightly better when we count the number of transactions and turnover generated '"
      ]
     },
     "execution_count": 584,
     "metadata": {},
     "output_type": "execute_result"
    }
   ],
   "source": [
    "\"\"\" Customers & Buying Behavior \"\"\"\n",
    "\"\"\" 1. What is the typical profile of our buyers? (Gender, country, age group, customer type) \"\"\"\n",
    "\n",
    "transactions_buyers_df.groupby('gender').agg({\n",
    "    'gender':'count',\n",
    "    'price_paid':'mean'\n",
    "})\n",
    "\n",
    "\"\"\" Women and men are very similar when compared on the average basket. Even though, men score slightly better when we count the number of transactions and turnover generated \"\"\""
   ]
  },
  {
   "cell_type": "code",
   "execution_count": 585,
   "id": "29290364",
   "metadata": {},
   "outputs": [
    {
     "data": {
      "image/png": "[encoded data removed]",
      "text/plain": [
       "<Figure size 640x480 with 1 Axes>"
      ]
     },
     "metadata": {},
     "output_type": "display_data"
    },
    {
     "data": {
      "text/plain": [
       "' Germany, France and Italy score the best in turnover generated over the years'"
      ]
     },
     "execution_count": 585,
     "metadata": {},
     "output_type": "execute_result"
    }
   ],
   "source": [
    "ax = transactions_buyers_df.groupby('country')['price_paid'].sum().sort_values().plot(kind='bar')\n",
    "ax.set_xlabel('Country')\n",
    "ax.set_ylabel('Turnover')\n",
    "plt.show()\n",
    "\n",
    "\"\"\" Germany, France and Italy score the best in turnover generated over the years\"\"\""
   ]
  },
  {
   "cell_type": "code",
   "execution_count": null,
   "id": "975e0f66",
   "metadata": {},
   "outputs": [
    {
     "name": "stderr",
     "output_type": "stream",
     "text": [
      "C:\\Users\\Houssain\\AppData\\Local\\Temp\\ipykernel_23464\\1624565350.py:10: FutureWarning: The default of observed=False is deprecated and will be changed to True in a future version of pandas. Pass observed=False to retain current behavior or observed=True to adopt the future default and silence this warning.\n",
      "  age_bins_turnover = transactions_buyers_df.groupby('age_bins')['price_paid'].sum()\n"
     ]
    },
    {
     "data": {
      "image/png": "[encoded data removed]",
      "text/plain": [
       "<Figure size 640x480 with 1 Axes>"
      ]
     },
     "metadata": {},
     "output_type": "display_data"
    },
    {
     "data": {
      "text/plain": [
       "' The correlation between age and turnover generated is strong and positive. It can also be explained because of the high number of elderly customers. The whole group is almost equivalent when comapred with their means '"
      ]
     },
     "execution_count": 586,
     "metadata": {},
     "output_type": "execute_result"
    }
   ],
   "source": [
    "buyers['age_bins'] = pd.cut(\n",
    "    buyers['age'],\n",
    "    bins=[0,17,25,35,45,55,65,75,85,100],\n",
    "    labels=['-17', '18-25', '26-35', '36-45', '46-55', '56-65', '66-75', '76-85', '86+']\n",
    ")\n",
    "\n",
    "transactions_buyers_df = pd.merge(transactions, buyers, on='buyer_id', how='inner')\n",
    "\n",
    "# age_bins_turnover = transactions_buyers_df.groupby('age_bins')['price_paid'].mean()\n",
    "age_bins_turnover = transactions_buyers_df.groupby('age_bins')['price_paid'].sum()\n",
    "\n",
    "sns.barplot(x=age_bins_turnover.index, y= age_bins_turnover.values)\n",
    "plt.show()\n",
    "\n",
    "\"\"\" The customers age ranges between 26-35 with 56 - 65 as the group with the most turnover generated\"\"\""
   ]
  },
  {
   "cell_type": "code",
   "execution_count": 587,
   "id": "ba99ddc6",
   "metadata": {},
   "outputs": [
    {
     "data": {
      "text/plain": [
       "customer_type\n",
       "vip        1321\n",
       "new        4273\n",
       "regular    8355\n",
       "Name: customer_type, dtype: int64"
      ]
     },
     "execution_count": 587,
     "metadata": {},
     "output_type": "execute_result"
    }
   ],
   "source": [
    "transactions_buyers_df.groupby('customer_type')['customer_type'].count().sort_values()"
   ]
  },
  {
   "cell_type": "code",
   "execution_count": 588,
   "id": "ac928218",
   "metadata": {},
   "outputs": [
    {
     "data": {
      "text/plain": [
       "' The buyer persona of the company is a man/woman that is 56+ years old from Germany. He/She is a regular customer of the shop '"
      ]
     },
     "execution_count": 588,
     "metadata": {},
     "output_type": "execute_result"
    }
   ],
   "source": [
    "\"\"\" The buyer persona of the company is a man/woman that is 56+ years old from Germany. He/She is a regular customer of the shop \"\"\""
   ]
  },
  {
   "cell_type": "code",
   "execution_count": null,
   "id": "bb1632e1",
   "metadata": {},
   "outputs": [
    {
     "data": {
      "text/plain": [
       "\" The three types have a similar average basket. But in terms of total turnover, the regular clients are far ahead. It's explained by the high number of regular customers \""
      ]
     },
     "execution_count": 589,
     "metadata": {},
     "output_type": "execute_result"
    }
   ],
   "source": [
    "\"\"\" Customers & Buying Behavior \"\"\"\n",
    "\"\"\" 2. Do regular customers spend more than new ones? (Average `price_paid` per customer type) \"\"\"\n",
    "\n",
    "transactions_buyers_df.groupby('customer_type').agg({\n",
    "    'price_paid': ['mean','sum']\n",
    "})\n",
    "\n",
    "\"\"\" The three types have a similar average basket. But in terms of total turnover, the regular clients are far ahead. It's explained by the high number of regular customers \"\"\""
   ]
  },
  {
   "cell_type": "code",
   "execution_count": 590,
   "id": "50facee7",
   "metadata": {},
   "outputs": [
    {
     "data": {
      "text/plain": [
       "\" There isn't a big difference in average basket when gender and countries are compared\""
      ]
     },
     "execution_count": 590,
     "metadata": {},
     "output_type": "execute_result"
    }
   ],
   "source": [
    "\"\"\" Customers & Buying Behavior \"\"\"\n",
    "\"\"\" 3. Is there a difference in average basket size based on gender or country? (Average `price_paid` by gender or country) \"\"\"\n",
    "\n",
    "transactions_buyers_df.groupby(\"gender\")[\"price_paid\"].mean()\n",
    "transactions_buyers_df.groupby(\"country\")[\"price_paid\"].mean().sort_values(ascending=False)\n",
    "\n",
    "\"\"\" There isn't a big difference in average basket when gender and countries are compared\"\"\"\n"
   ]
  },
  {
   "cell_type": "code",
   "execution_count": null,
   "id": "aeb66b5c",
   "metadata": {},
   "outputs": [
    {
     "data": {
      "text/plain": [
       "category\n",
       "music                  717\n",
       "business               761\n",
       "historical fiction     769\n",
       "sequential art         784\n",
       "fiction                815\n",
       "young adult           1566\n",
       "poetry                2310\n",
       "default               2407\n",
       "Name: category, dtype: int64"
      ]
     },
     "execution_count": 591,
     "metadata": {},
     "output_type": "execute_result"
    }
   ],
   "source": [
    "\"\"\" Customers & Buying Behavior \"\"\"\n",
    "\"\"\" 4. Do people born after 1990 buy different books than those born before? (Cross-analysis between `birthdate` and `category`) \"\"\"\n",
    "\n",
    "transactions_buyers_products_df = transactions_buyers_df.merge(products, on='book_id', how='inner')\n",
    "\n",
    "transactions_buyers_products_df.query('age > 35').groupby('category')['category'].count().sort_values() "
   ]
  },
  {
   "cell_type": "code",
   "execution_count": 592,
   "id": "b4c972b7",
   "metadata": {},
   "outputs": [
    {
     "data": {
      "text/plain": [
       "' Both age groupes are fan of the same categories of books'"
      ]
     },
     "execution_count": 592,
     "metadata": {},
     "output_type": "execute_result"
    }
   ],
   "source": [
    "transactions_buyers_products_df.query('age <= 35').groupby('category')['category'].count().sort_values() \n",
    "\n",
    "\"\"\" Both age groupes are fan of the same categories of books\"\"\""
   ]
  },
  {
   "cell_type": "code",
   "execution_count": 593,
   "id": "4dc791c0",
   "metadata": {},
   "outputs": [
    {
     "data": {
      "text/plain": [
       "' 3652 transactions '"
      ]
     },
     "execution_count": 593,
     "metadata": {},
     "output_type": "execute_result"
    }
   ],
   "source": [
    "\"\"\" Customers & Buying Behavior \"\"\"\n",
    "\"\"\" 5. How many transactions were made by German customers? \"\"\"\n",
    "\n",
    "transactions_buyers_df.query('country == \"Germany\"')['country'].value_counts()\n",
    "\n",
    "\"\"\" 3652 transactions \"\"\""
   ]
  },
  {
   "cell_type": "code",
   "execution_count": 594,
   "id": "5e25b4ed",
   "metadata": {},
   "outputs": [
    {
     "data": {
      "text/plain": [
       "\" Top 5 books by revenue are name_y\\nScott Pilgrim's Precious Little Life (Scott Pilgrim #1)    \\nTipping the Velvet                                         \\nSoumission                                                 \\nA Light in the Attic                                       \\nThe Black Maria                                            \\n \""
      ]
     },
     "execution_count": 594,
     "metadata": {},
     "output_type": "execute_result"
    }
   ],
   "source": [
    "\"\"\" Products & Sales \"\"\"\n",
    "\"\"\" 1. What are the top 5 best-selling books (by total revenue)? \"\"\"\n",
    "\n",
    "transactions_buyers_products_df.groupby('name_y')['price_paid'].sum().sort_values(ascending=False).head()\n",
    "\n",
    "\"\"\" Top 5 books by revenue are name_y\n",
    "Scott Pilgrim's Precious Little Life (Scott Pilgrim #1)    \n",
    "Tipping the Velvet                                         \n",
    "Soumission                                                 \n",
    "A Light in the Attic                                       \n",
    "The Black Maria                                            \n",
    " \"\"\""
   ]
  },
  {
   "cell_type": "code",
   "execution_count": null,
   "id": "b03d76f9",
   "metadata": {},
   "outputs": [
    {
     "name": "stdout",
     "output_type": "stream",
     "text": [
      " The most profitable category is poetry, and the least profitable category is business\n"
     ]
    }
   ],
   "source": [
    "\"\"\" Products & Sales \"\"\"\n",
    "\"\"\" 2. Which book categories are the most and least profitable? \"\"\"\n",
    "\n",
    "top = transactions_buyers_products_df.groupby('category')['price_paid'].sum().sort_values().idxmax()\n",
    "least = transactions_buyers_products_df.groupby('category')['price_paid'].sum().sort_values().idxmin()\n",
    "\n",
    "\"\"\" Most profitable is poetry and least is business \"\"\"\n",
    "\n",
    "print(f' The most profitable category is {top}, and the least profitable category is {least}')"
   ]
  },
  {
   "cell_type": "code",
   "execution_count": 596,
   "id": "c7b2dacf",
   "metadata": {},
   "outputs": [
    {
     "data": {
      "text/plain": [
       "' Default is selling more books than poetry. However, the books in the poetry category are more expensive. '"
      ]
     },
     "execution_count": 596,
     "metadata": {},
     "output_type": "execute_result"
    }
   ],
   "source": [
    "\"\"\" Products & Sales \"\"\"\n",
    "\"\"\" 3. What are the top 5 best-selling categories (by total revenue)? \"\"\"\n",
    "\n",
    "transactions_buyers_products_df.groupby('category')['price_paid'].agg(['sum', 'count']).sort_values(by='sum', ascending=False).head()\n",
    "\n",
    "\"\"\" Default is selling more books than poetry. However, the books in the poetry category are more expensive. \"\"\""
   ]
  },
  {
   "cell_type": "code",
   "execution_count": 597,
   "id": "cb605177",
   "metadata": {},
   "outputs": [
    {
     "data": {
      "text/plain": [
       "' The average discount rate goes from music (least: 0.131) and default (most: 0.144)'"
      ]
     },
     "execution_count": 597,
     "metadata": {},
     "output_type": "execute_result"
    }
   ],
   "source": [
    "\"\"\" Discounts & Promotions \"\"\"\n",
    "\"\"\" 1. What is the average discount applied per book category? \"\"\"\n",
    "\n",
    "transactions_buyers_products_df.query('discount_rate != 0.0').groupby('category')['discount_rate'].mean().sort_values()\n",
    "\n",
    "\"\"\" The average discount rate goes from music (least: 0.131) and default (most: 0.144)\"\"\""
   ]
  },
  {
   "cell_type": "code",
   "execution_count": 598,
   "id": "4c686d0b",
   "metadata": {},
   "outputs": [
    {
     "data": {
      "text/plain": [
       "\" Discount doesn't have any positive effect on the turnover \""
      ]
     },
     "execution_count": 598,
     "metadata": {},
     "output_type": "execute_result"
    }
   ],
   "source": [
    "\"\"\" Discounts & Promotions \"\"\"\n",
    "\"\"\" 2. Do customers buy more during high-discount periods? (Analyze correlation between `discount_rate` and monthly volume) \"\"\"\n",
    "\n",
    "transactions_buyers_df.query('year == 2024').groupby('month')[['discount_rate', 'price_paid']].agg({\n",
    "    'discount_rate': 'mean',\n",
    "    'price_paid': 'sum'\n",
    "})\n",
    "\n",
    "\"\"\" Discount doesn't have any positive effect on the turnover \"\"\""
   ]
  },
  {
   "cell_type": "code",
   "execution_count": 599,
   "id": "232ac066",
   "metadata": {},
   "outputs": [
    {
     "data": {
      "text/plain": [
       "' What we can notice is that over the years, the best sales months were most of the time between May and August '"
      ]
     },
     "execution_count": 599,
     "metadata": {},
     "output_type": "execute_result"
    }
   ],
   "source": [
    "\"\"\" Time-Based Trends  \"\"\"\n",
    "\"\"\" 1. What is the total monthly revenue over the last 5 years? \"\"\"\n",
    "\n",
    "transactions['year_month'] = transactions['year'].astype(str) + '-' + transactions['month'].astype(str).str.zfill(2)\n",
    "transactions.groupby('year_month')['price_paid'].sum().sort_index()\n",
    "\n",
    "\"\"\" What we can notice is that over the years, the best sales months were most of the time between May and August \"\"\""
   ]
  },
  {
   "cell_type": "code",
   "execution_count": 600,
   "id": "9d958bce",
   "metadata": {},
   "outputs": [
    {
     "data": {
      "text/plain": [
       "year_month\n",
       "2017-07    6139.89\n",
       "2021-07    5886.59\n",
       "2024-08    5850.96\n",
       "2018-07    5733.17\n",
       "2017-05    5680.11\n",
       "2018-08    5664.07\n",
       "2023-07    5602.21\n",
       "2020-06    5586.33\n",
       "2018-03    5563.16\n",
       "2017-10    5525.47\n",
       "Name: price_paid, dtype: float64"
      ]
     },
     "execution_count": 600,
     "metadata": {},
     "output_type": "execute_result"
    }
   ],
   "source": [
    "transactions.groupby('year_month')['price_paid'].sum().sort_values(ascending=False).head(10)"
   ]
  },
  {
   "cell_type": "code",
   "execution_count": 601,
   "id": "911602de",
   "metadata": {},
   "outputs": [
    {
     "data": {
      "text/plain": [
       "' Most of the peaks are during the summer '"
      ]
     },
     "execution_count": 601,
     "metadata": {},
     "output_type": "execute_result"
    },
    {
     "data": {
      "image/png": "[encoded data removed]",
      "text/plain": [
       "<Figure size 1200x600 with 8 Axes>"
      ]
     },
     "metadata": {},
     "output_type": "display_data"
    }
   ],
   "source": [
    "\"\"\" Time-Based Trends  \"\"\"\n",
    "\"\"\" 2. Are there seasonal sales peaks? (e.g. November, back-to-school) \"\"\"\n",
    "\n",
    "a1 = transactions.query('year == 2017').groupby('year_month')['price_paid'].sum().sort_index()\n",
    "a2 = transactions.query('year == 2018').groupby('year_month')['price_paid'].sum().sort_index()\n",
    "a3 = transactions.query('year == 2019').groupby('year_month')['price_paid'].sum().sort_index()\n",
    "a4 = transactions.query('year == 2020').groupby('year_month')['price_paid'].sum().sort_index()\n",
    "\n",
    "b1 = transactions.query('year == 2021').groupby('year_month')['price_paid'].sum().sort_index()\n",
    "b2 = transactions.query('year == 2022').groupby('year_month')['price_paid'].sum().sort_index()\n",
    "b3 = transactions.query('year == 2023').groupby('year_month')['price_paid'].sum().sort_index()\n",
    "b4 = transactions.query('year == 2024').groupby('year_month')['price_paid'].sum().sort_index()\n",
    "\n",
    "fig, axes = plt.subplots(nrows= 2, ncols=4, figsize=(12,6))\n",
    "\n",
    "axes[0,0].plot(a1.index, a1.values)\n",
    "axes[0,0].set_title('Year 2017')\n",
    "axes[0,0].tick_params(labelbottom=False)\n",
    "\n",
    "axes[0,1].plot(a2.index, a2.values)\n",
    "axes[0,1].set_title('Year 2018')\n",
    "axes[0,1].tick_params(labelbottom=False)\n",
    "\n",
    "axes[0,2].plot(a3.index, a3.values)\n",
    "axes[0,2].set_title('Year 2019')\n",
    "axes[0,2].tick_params(labelbottom=False)\n",
    "\n",
    "axes[0,3].plot(a4.index, a4.values)\n",
    "axes[0,3].set_title('Year 2020')\n",
    "axes[0,3].tick_params(labelbottom=False)\n",
    "\n",
    "axes[1,0].plot(b1.index, b1.values)\n",
    "axes[1,0].set_title('Year 2021')\n",
    "axes[1,0].tick_params(labelbottom=False)\n",
    "\n",
    "axes[1,1].plot(b2.index, b2.values)\n",
    "axes[1,1].set_title('Year 2022')\n",
    "axes[1,1].tick_params(labelbottom=False)\n",
    "\n",
    "axes[1,2].plot(b3.index, b3.values)\n",
    "axes[1,2].set_title('Year 2023')\n",
    "axes[1,2].tick_params(labelbottom=False)\n",
    "\n",
    "axes[1,3].plot(b4.index, b4.values)\n",
    "axes[1,3].set_title('Year 2024')\n",
    "axes[1,3].tick_params(labelbottom=False)\n",
    "\n",
    "\"\"\" Most of the peaks are during the summer \"\"\""
   ]
  },
  {
   "cell_type": "code",
   "execution_count": 602,
   "id": "dde22968",
   "metadata": {},
   "outputs": [
    {
     "data": {
      "text/plain": [
       "'\\nBeth Keller        \\nKevin Cox          \\nMelanie Herrera    \\nDaniel Adams       \\nCrystal Johnson    \\n'"
      ]
     },
     "execution_count": 602,
     "metadata": {},
     "output_type": "execute_result"
    }
   ],
   "source": [
    "\"\"\" Seller Performance  \"\"\"\n",
    "\"\"\" 1. Which sellers generate the most revenue? \"\"\"\n",
    "\n",
    "transactions_buyers_products_sellers_df.groupby('author_name')['price_paid'].sum().sort_values(ascending=False).head()\n",
    "\n",
    "\"\"\"\n",
    "Beth Keller        \n",
    "Kevin Cox          \n",
    "Melanie Herrera    \n",
    "Daniel Adams       \n",
    "Crystal Johnson    \n",
    "\"\"\""
   ]
  },
  {
   "cell_type": "code",
   "execution_count": 603,
   "id": "a58a50c5",
   "metadata": {},
   "outputs": [
    {
     "data": {
      "text/plain": [
       "' Publishing houses perform better in average basket and in total turnover '"
      ]
     },
     "execution_count": 603,
     "metadata": {},
     "output_type": "execute_result"
    }
   ],
   "source": [
    "\"\"\" Seller Performance  \"\"\"\n",
    "\"\"\" 2. Do independent sellers or publishing houses perform better? \"\"\"\n",
    "\n",
    "transactions_buyers_products_sellers_df.query('seller_type != \"marketplace\"').groupby('seller_type')['price_paid'].agg(['sum','mean'])\n",
    "\n",
    "\"\"\" Publishing houses perform better in average basket and in total turnover \"\"\"\n"
   ]
  },
  {
   "cell_type": "code",
   "execution_count": 604,
   "id": "891182ef",
   "metadata": {},
   "outputs": [
    {
     "data": {
      "text/plain": [
       "\"\\nTop 5 highest rated books:\\nSet Me Free                                                                                3.608696\\nShakespeare's Sonnets                                                                      3.606383\\nA Light in the Attic                                                                       3.511628\\nThe Coming Woman: A Novel Based on the Life of the Infamous Feminist, Victoria Woodhull    3.464286\\nRip it Up and Start Again                                                                  3.437500\\n\""
      ]
     },
     "execution_count": 604,
     "metadata": {},
     "output_type": "execute_result"
    }
   ],
   "source": [
    "\"\"\" Reading Behavior & Reviews  \"\"\"\n",
    "\"\"\" 1. Which books receive the most positive feedback? \"\"\"\n",
    "\n",
    "reviews_products_df.groupby('name_y')['rating_x'].mean().sort_values(ascending=False).head()\n",
    "\n",
    "\"\"\"\n",
    "Top 5 highest rated books:\n",
    "Set Me Free                                                                                3.608696\n",
    "Shakespeare's Sonnets                                                                      3.606383\n",
    "A Light in the Attic                                                                       3.511628\n",
    "The Coming Woman: A Novel Based on the Life of the Infamous Feminist, Victoria Woodhull    3.464286\n",
    "Rip it Up and Start Again                                                                  3.437500\n",
    "\"\"\""
   ]
  },
  {
   "cell_type": "code",
   "execution_count": null,
   "id": "86bb7726",
   "metadata": {},
   "outputs": [
    {
     "name": "stderr",
     "output_type": "stream",
     "text": [
      "C:\\Users\\Houssain\\AppData\\Local\\Temp\\ipykernel_23464\\1663197552.py:8: FutureWarning: The default of observed=False is deprecated and will be changed to True in a future version of pandas. Pass observed=False to retain current behavior or observed=True to adopt the future default and silence this warning.\n",
      "  age = df_discount.groupby('age_bins')['price_paid'].count().idxmax()\n"
     ]
    },
    {
     "data": {
      "text/html": [
       "<div>\n",
       "<style scoped>\n",
       "    .dataframe tbody tr th:only-of-type {\n",
       "        vertical-align: middle;\n",
       "    }\n",
       "\n",
       "    .dataframe tbody tr th {\n",
       "        vertical-align: top;\n",
       "    }\n",
       "\n",
       "    .dataframe thead th {\n",
       "        text-align: right;\n",
       "    }\n",
       "</style>\n",
       "<table border=\"1\" class=\"dataframe\">\n",
       "  <thead>\n",
       "    <tr style=\"text-align: right;\">\n",
       "      <th></th>\n",
       "      <th>age</th>\n",
       "      <th>gender</th>\n",
       "      <th>country</th>\n",
       "      <th>customer_type</th>\n",
       "    </tr>\n",
       "  </thead>\n",
       "  <tbody>\n",
       "    <tr>\n",
       "      <th>0</th>\n",
       "      <td>56-65</td>\n",
       "      <td>M</td>\n",
       "      <td>Germany</td>\n",
       "      <td>regular</td>\n",
       "    </tr>\n",
       "  </tbody>\n",
       "</table>\n",
       "</div>"
      ],
      "text/plain": [
       "     age gender  country customer_type\n",
       "0  56-65      M  Germany       regular"
      ]
     },
     "execution_count": 625,
     "metadata": {},
     "output_type": "execute_result"
    }
   ],
   "source": [
    "\"\"\" Reading Behavior & Reviews  \"\"\"\n",
    "\"\"\" 1. Which customer profiles are most responsive to promotions? \"\"\"\n",
    "\n",
    "df_discount = transactions.query('discount_rate != 0.0').copy()\n",
    "\n",
    "df_discount = df_discount.merge(buyers, on='buyer_id', how='inner')\n",
    "\n",
    "age = df_discount.groupby('age_bins')['price_paid'].count().idxmax() \n",
    "gender = df_discount.groupby('gender')['price_paid'].count().idxmax()\n",
    "country = df_discount.groupby('country')['price_paid'].count().idxmax()\n",
    "customer_type = df_discount.groupby('customer_type')['price_paid'].count().idxmax()\n",
    "\n",
    "df_discount_persona = pd.DataFrame({\n",
    "    'age': [age],\n",
    "    'gender': [gender],\n",
    "    'country': [country],\n",
    "    'customer_type': [customer_type]\n",
    "})\n",
    "\n",
    "df_discount_persona\n",
    "\n",
    "\n",
    "\"\"\" The discount buyer persona is a man who is between 56 - 65 years old with a regular client status from Germany \"\"\""
   ]
  }
 ],
 "metadata": {
  "kernelspec": {
   "display_name": "Python 3",
   "language": "python",
   "name": "python3"
  },
  "language_info": {
   "codemirror_mode": {
    "name": "ipython",
    "version": 3
   },
   "file_extension": ".py",
   "mimetype": "text/x-python",
   "name": "python",
   "nbconvert_exporter": "python",
   "pygments_lexer": "ipython3",
   "version": "3.12.5"
  }
 },
 "nbformat": 4,
 "nbformat_minor": 5
}
