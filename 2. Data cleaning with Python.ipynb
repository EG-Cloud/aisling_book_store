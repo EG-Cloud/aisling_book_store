{
 "cells": [
  {
   "cell_type": "code",
   "execution_count": null,
   "id": "165b7a09",
   "metadata": {},
   "outputs": [],
   "source": [
    "\"\"\" Data wrangling with Python for the 5 data tables that are part of the database \"\"\"\n",
    "\n",
    "import pandas as pd\n",
    "\n",
    "# importing the five CSVs\n",
    "\n",
    "missing_values = [\"-\", \"--\", \"n/a\", \"na\", \"NA\", \"N/A\", \"?\", \"None\", \"null\", \"NULL\", \"\"] \n",
    "\n",
    "buyers = pd.read_csv(r\"C:\\Users\\Desktop\\Data Sets\\(2)\\buyers.csv\", na_values=missing_values)\n",
    "products = pd.read_csv(r\"C:\\Users\\\\Desktop\\Data Sets\\(2)\\products.csv\", na_values=missing_values)\n",
    "reviews = pd.read_csv(r\"C:\\Users\\\\Desktop\\Data Sets\\(2)\\reviews.csv\", na_values=missing_values)\n",
    "sellers = pd.read_csv(r\"C:\\Users\\Desktop\\Data Sets\\(2)\\sellers.csv\", na_values=missing_values)\n",
    "transactions = pd.read_csv(r\"C:\\Users\\Desktop\\Data Sets\\(2)\\transactions.csv\", na_values=missing_values)"
   ]
  },
  {
   "cell_type": "code",
   "execution_count": 4,
   "id": "12c30c12",
   "metadata": {},
   "outputs": [
    {
     "data": {
      "text/html": [
       "<div>\n",
       "<style scoped>\n",
       "    .dataframe tbody tr th:only-of-type {\n",
       "        vertical-align: middle;\n",
       "    }\n",
       "\n",
       "    .dataframe tbody tr th {\n",
       "        vertical-align: top;\n",
       "    }\n",
       "\n",
       "    .dataframe thead th {\n",
       "        text-align: right;\n",
       "    }\n",
       "</style>\n",
       "<table border=\"1\" class=\"dataframe\">\n",
       "  <thead>\n",
       "    <tr style=\"text-align: right;\">\n",
       "      <th></th>\n",
       "      <th>buyer_id</th>\n",
       "      <th>name</th>\n",
       "      <th>gender</th>\n",
       "      <th>birthdate</th>\n",
       "      <th>country</th>\n",
       "      <th>customer_type</th>\n",
       "    </tr>\n",
       "  </thead>\n",
       "  <tbody>\n",
       "    <tr>\n",
       "      <th>0</th>\n",
       "      <td>1</td>\n",
       "      <td>Matthew Lucas</td>\n",
       "      <td>F</td>\n",
       "      <td>1948-08-22</td>\n",
       "      <td>Spain</td>\n",
       "      <td>régulier</td>\n",
       "    </tr>\n",
       "    <tr>\n",
       "      <th>1</th>\n",
       "      <td>2</td>\n",
       "      <td>Gerald Hensley</td>\n",
       "      <td>F</td>\n",
       "      <td>1961-06-09</td>\n",
       "      <td>Germany</td>\n",
       "      <td>nouveau</td>\n",
       "    </tr>\n",
       "    <tr>\n",
       "      <th>2</th>\n",
       "      <td>3</td>\n",
       "      <td>Joshua Taylor</td>\n",
       "      <td>M</td>\n",
       "      <td>1957-01-01</td>\n",
       "      <td>Italy</td>\n",
       "      <td>VIP</td>\n",
       "    </tr>\n",
       "    <tr>\n",
       "      <th>3</th>\n",
       "      <td>4</td>\n",
       "      <td>David Leblanc</td>\n",
       "      <td>M</td>\n",
       "      <td>1974-09-03</td>\n",
       "      <td>Netherlands</td>\n",
       "      <td>régulier</td>\n",
       "    </tr>\n",
       "    <tr>\n",
       "      <th>4</th>\n",
       "      <td>5</td>\n",
       "      <td>Savannah Garcia</td>\n",
       "      <td>M</td>\n",
       "      <td>1988-11-23</td>\n",
       "      <td>Belgium</td>\n",
       "      <td>régulier</td>\n",
       "    </tr>\n",
       "  </tbody>\n",
       "</table>\n",
       "</div>"
      ],
      "text/plain": [
       "   buyer_id             name gender   birthdate      country customer_type\n",
       "0         1    Matthew Lucas      F  1948-08-22        Spain      régulier\n",
       "1         2   Gerald Hensley      F  1961-06-09      Germany       nouveau\n",
       "2         3    Joshua Taylor      M  1957-01-01        Italy           VIP\n",
       "3         4    David Leblanc      M  1974-09-03  Netherlands      régulier\n",
       "4         5  Savannah Garcia      M  1988-11-23      Belgium      régulier"
      ]
     },
     "execution_count": 4,
     "metadata": {},
     "output_type": "execute_result"
    }
   ],
   "source": [
    "# Cleaning the BUYERS table\n",
    "\n",
    "buyers.head()"
   ]
  },
  {
   "cell_type": "code",
   "execution_count": 5,
   "id": "8cca7dfa",
   "metadata": {},
   "outputs": [
    {
     "data": {
      "text/html": [
       "<div>\n",
       "<style scoped>\n",
       "    .dataframe tbody tr th:only-of-type {\n",
       "        vertical-align: middle;\n",
       "    }\n",
       "\n",
       "    .dataframe tbody tr th {\n",
       "        vertical-align: top;\n",
       "    }\n",
       "\n",
       "    .dataframe thead th {\n",
       "        text-align: right;\n",
       "    }\n",
       "</style>\n",
       "<table border=\"1\" class=\"dataframe\">\n",
       "  <thead>\n",
       "    <tr style=\"text-align: right;\">\n",
       "      <th></th>\n",
       "      <th>buyer_id</th>\n",
       "      <th>name</th>\n",
       "      <th>gender</th>\n",
       "      <th>birthdate</th>\n",
       "      <th>country</th>\n",
       "      <th>customer_type</th>\n",
       "    </tr>\n",
       "  </thead>\n",
       "  <tbody>\n",
       "    <tr>\n",
       "      <th>2995</th>\n",
       "      <td>2996</td>\n",
       "      <td>Luis Watkins</td>\n",
       "      <td>F</td>\n",
       "      <td>1991-10-11</td>\n",
       "      <td>France</td>\n",
       "      <td>régulier</td>\n",
       "    </tr>\n",
       "    <tr>\n",
       "      <th>2996</th>\n",
       "      <td>2997</td>\n",
       "      <td>James Flowers</td>\n",
       "      <td>M</td>\n",
       "      <td>1961-09-14</td>\n",
       "      <td>Portugal</td>\n",
       "      <td>nouveau</td>\n",
       "    </tr>\n",
       "    <tr>\n",
       "      <th>2997</th>\n",
       "      <td>2998</td>\n",
       "      <td>Lindsay Olson</td>\n",
       "      <td>F</td>\n",
       "      <td>1971-10-25</td>\n",
       "      <td>France</td>\n",
       "      <td>régulier</td>\n",
       "    </tr>\n",
       "    <tr>\n",
       "      <th>2998</th>\n",
       "      <td>2999</td>\n",
       "      <td>Wesley Rich</td>\n",
       "      <td>F</td>\n",
       "      <td>1996-06-13</td>\n",
       "      <td>Germany</td>\n",
       "      <td>régulier</td>\n",
       "    </tr>\n",
       "    <tr>\n",
       "      <th>2999</th>\n",
       "      <td>3000</td>\n",
       "      <td>Tammy Rodriguez</td>\n",
       "      <td>M</td>\n",
       "      <td>1973-07-01</td>\n",
       "      <td>Spain</td>\n",
       "      <td>régulier</td>\n",
       "    </tr>\n",
       "  </tbody>\n",
       "</table>\n",
       "</div>"
      ],
      "text/plain": [
       "      buyer_id             name gender   birthdate   country customer_type\n",
       "2995      2996     Luis Watkins      F  1991-10-11    France      régulier\n",
       "2996      2997    James Flowers      M  1961-09-14  Portugal       nouveau\n",
       "2997      2998    Lindsay Olson      F  1971-10-25    France      régulier\n",
       "2998      2999      Wesley Rich      F  1996-06-13   Germany      régulier\n",
       "2999      3000  Tammy Rodriguez      M  1973-07-01     Spain      régulier"
      ]
     },
     "execution_count": 5,
     "metadata": {},
     "output_type": "execute_result"
    }
   ],
   "source": [
    "buyers.tail()"
   ]
  },
  {
   "cell_type": "code",
   "execution_count": 6,
   "id": "39c76dfb",
   "metadata": {},
   "outputs": [
    {
     "data": {
      "text/plain": [
       "(3000, 6)"
      ]
     },
     "execution_count": 6,
     "metadata": {},
     "output_type": "execute_result"
    }
   ],
   "source": [
    "buyers.shape"
   ]
  },
  {
   "cell_type": "code",
   "execution_count": 7,
   "id": "c661ac1e",
   "metadata": {},
   "outputs": [
    {
     "name": "stdout",
     "output_type": "stream",
     "text": [
      "<class 'pandas.core.frame.DataFrame'>\n",
      "RangeIndex: 3000 entries, 0 to 2999\n",
      "Data columns (total 6 columns):\n",
      " #   Column         Non-Null Count  Dtype \n",
      "---  ------         --------------  ----- \n",
      " 0   buyer_id       3000 non-null   int64 \n",
      " 1   name           3000 non-null   object\n",
      " 2   gender         3000 non-null   object\n",
      " 3   birthdate      3000 non-null   object\n",
      " 4   country        3000 non-null   object\n",
      " 5   customer_type  3000 non-null   object\n",
      "dtypes: int64(1), object(5)\n",
      "memory usage: 140.8+ KB\n"
     ]
    }
   ],
   "source": [
    "buyers.info()"
   ]
  },
  {
   "cell_type": "code",
   "execution_count": 8,
   "id": "ba2f6c4f",
   "metadata": {},
   "outputs": [
    {
     "data": {
      "text/plain": [
       "buyer_id          int64\n",
       "name             object\n",
       "gender           object\n",
       "birthdate        object\n",
       "country          object\n",
       "customer_type    object\n",
       "dtype: object"
      ]
     },
     "execution_count": 8,
     "metadata": {},
     "output_type": "execute_result"
    }
   ],
   "source": [
    "buyers.dtypes"
   ]
  },
  {
   "cell_type": "code",
   "execution_count": 9,
   "id": "20d22c1d",
   "metadata": {},
   "outputs": [],
   "source": [
    "buyers[\"birthdate\"] = pd.to_datetime(buyers[\"birthdate\"])\n",
    "buyers[\"gender\"] = buyers[\"gender\"].astype(\"category\")\n",
    "buyers[\"country\"] = buyers[\"country\"].astype(\"category\")\n",
    "buyers[\"customer_type\"] = buyers[\"customer_type\"].astype(\"category\")\n",
    "buyers[\"buyer_id\"] = buyers[\"buyer_id\"].astype(\"object\")\n",
    "\n",
    "def clean_buyers(df):\n",
    "    df[\"birthdate\"] = pd.to_datetime(df[\"birthdate\"])\n",
    "    df[\"gender\"] = df[\"gender\"].astype(\"category\")\n",
    "    df[\"country\"] = df[\"country\"].astype(\"category\")\n",
    "    df[\"customer_type\"] = df[\"customer_type\"].astype(\"category\")\n",
    "    df[\"buyer_id\"] = df[\"buyer_id\"].astype(\"object\")\n"
   ]
  },
  {
   "cell_type": "code",
   "execution_count": 10,
   "id": "39ae67f1",
   "metadata": {},
   "outputs": [
    {
     "name": "stdout",
     "output_type": "stream",
     "text": [
      "Series([], Name: count, dtype: int64)\n",
      "name\n",
      "Jeremy Martinez     4\n",
      "Jamie Johnson       3\n",
      "Matthew Wright      3\n",
      "Michael Harris      3\n",
      "Michael Taylor      3\n",
      "                   ..\n",
      "Mark Smith          2\n",
      "Lindsey Thompson    2\n",
      "Wendy Williams      2\n",
      "John Johnson        2\n",
      "John Lopez          2\n",
      "Name: count, Length: 66, dtype: int64\n",
      "gender\n",
      "M    1510\n",
      "F    1490\n",
      "Name: count, dtype: int64\n",
      "birthdate\n",
      "1967-02-03    3\n",
      "2005-06-15    3\n",
      "1963-04-26    3\n",
      "1958-08-12    3\n",
      "1958-11-09    3\n",
      "             ..\n",
      "1985-12-10    2\n",
      "1993-02-21    2\n",
      "1962-04-06    2\n",
      "1955-04-02    2\n",
      "1999-06-10    2\n",
      "Name: count, Length: 185, dtype: int64\n",
      "country\n",
      "Germany        759\n",
      "France         647\n",
      "Italy          443\n",
      "Spain          433\n",
      "Belgium        295\n",
      "Portugal       199\n",
      "Netherlands    142\n",
      "Luxembourg      82\n",
      "Name: count, dtype: int64\n",
      "customer_type\n",
      "régulier    1799\n",
      "nouveau      912\n",
      "VIP          289\n",
      "Name: count, dtype: int64\n"
     ]
    }
   ],
   "source": [
    "for x in buyers.columns:\n",
    "    value_count_buyers = buyers[x].value_counts()\n",
    "    duplicated_buyers = value_count_buyers[value_count_buyers > 1]\n",
    "    print(duplicated_buyers)"
   ]
  },
  {
   "cell_type": "code",
   "execution_count": 11,
   "id": "4de0000a",
   "metadata": {},
   "outputs": [
    {
     "data": {
      "text/html": [
       "<div>\n",
       "<style scoped>\n",
       "    .dataframe tbody tr th:only-of-type {\n",
       "        vertical-align: middle;\n",
       "    }\n",
       "\n",
       "    .dataframe tbody tr th {\n",
       "        vertical-align: top;\n",
       "    }\n",
       "\n",
       "    .dataframe thead th {\n",
       "        text-align: right;\n",
       "    }\n",
       "</style>\n",
       "<table border=\"1\" class=\"dataframe\">\n",
       "  <thead>\n",
       "    <tr style=\"text-align: right;\">\n",
       "      <th></th>\n",
       "      <th>buyer_id</th>\n",
       "      <th>name</th>\n",
       "      <th>gender</th>\n",
       "      <th>birthdate</th>\n",
       "      <th>country</th>\n",
       "      <th>customer_type</th>\n",
       "    </tr>\n",
       "  </thead>\n",
       "  <tbody>\n",
       "    <tr>\n",
       "      <th>337</th>\n",
       "      <td>338</td>\n",
       "      <td>Aaron Miller</td>\n",
       "      <td>M</td>\n",
       "      <td>1961-12-07</td>\n",
       "      <td>Italy</td>\n",
       "      <td>régulier</td>\n",
       "    </tr>\n",
       "    <tr>\n",
       "      <th>2939</th>\n",
       "      <td>2940</td>\n",
       "      <td>Aaron Miller</td>\n",
       "      <td>F</td>\n",
       "      <td>1948-01-26</td>\n",
       "      <td>Belgium</td>\n",
       "      <td>régulier</td>\n",
       "    </tr>\n",
       "    <tr>\n",
       "      <th>1662</th>\n",
       "      <td>1663</td>\n",
       "      <td>Adam Craig</td>\n",
       "      <td>F</td>\n",
       "      <td>1990-04-03</td>\n",
       "      <td>Belgium</td>\n",
       "      <td>régulier</td>\n",
       "    </tr>\n",
       "    <tr>\n",
       "      <th>1123</th>\n",
       "      <td>1124</td>\n",
       "      <td>Adam Craig</td>\n",
       "      <td>F</td>\n",
       "      <td>1970-05-03</td>\n",
       "      <td>France</td>\n",
       "      <td>régulier</td>\n",
       "    </tr>\n",
       "    <tr>\n",
       "      <th>2744</th>\n",
       "      <td>2745</td>\n",
       "      <td>Alison Brown</td>\n",
       "      <td>M</td>\n",
       "      <td>1997-02-28</td>\n",
       "      <td>Spain</td>\n",
       "      <td>VIP</td>\n",
       "    </tr>\n",
       "    <tr>\n",
       "      <th>...</th>\n",
       "      <td>...</td>\n",
       "      <td>...</td>\n",
       "      <td>...</td>\n",
       "      <td>...</td>\n",
       "      <td>...</td>\n",
       "      <td>...</td>\n",
       "    </tr>\n",
       "    <tr>\n",
       "      <th>489</th>\n",
       "      <td>490</td>\n",
       "      <td>Timothy Johnson</td>\n",
       "      <td>M</td>\n",
       "      <td>1972-05-04</td>\n",
       "      <td>Belgium</td>\n",
       "      <td>VIP</td>\n",
       "    </tr>\n",
       "    <tr>\n",
       "      <th>2478</th>\n",
       "      <td>2479</td>\n",
       "      <td>Wendy Williams</td>\n",
       "      <td>F</td>\n",
       "      <td>1988-05-01</td>\n",
       "      <td>Italy</td>\n",
       "      <td>régulier</td>\n",
       "    </tr>\n",
       "    <tr>\n",
       "      <th>2827</th>\n",
       "      <td>2828</td>\n",
       "      <td>Wendy Williams</td>\n",
       "      <td>M</td>\n",
       "      <td>1994-10-15</td>\n",
       "      <td>Germany</td>\n",
       "      <td>régulier</td>\n",
       "    </tr>\n",
       "    <tr>\n",
       "      <th>2530</th>\n",
       "      <td>2531</td>\n",
       "      <td>William Lee</td>\n",
       "      <td>M</td>\n",
       "      <td>1988-05-15</td>\n",
       "      <td>Germany</td>\n",
       "      <td>régulier</td>\n",
       "    </tr>\n",
       "    <tr>\n",
       "      <th>2365</th>\n",
       "      <td>2366</td>\n",
       "      <td>William Lee</td>\n",
       "      <td>M</td>\n",
       "      <td>1999-12-12</td>\n",
       "      <td>Germany</td>\n",
       "      <td>régulier</td>\n",
       "    </tr>\n",
       "  </tbody>\n",
       "</table>\n",
       "<p>140 rows × 6 columns</p>\n",
       "</div>"
      ],
      "text/plain": [
       "     buyer_id             name gender  birthdate  country customer_type\n",
       "337       338     Aaron Miller      M 1961-12-07    Italy      régulier\n",
       "2939     2940     Aaron Miller      F 1948-01-26  Belgium      régulier\n",
       "1662     1663       Adam Craig      F 1990-04-03  Belgium      régulier\n",
       "1123     1124       Adam Craig      F 1970-05-03   France      régulier\n",
       "2744     2745     Alison Brown      M 1997-02-28    Spain           VIP\n",
       "...       ...              ...    ...        ...      ...           ...\n",
       "489       490  Timothy Johnson      M 1972-05-04  Belgium           VIP\n",
       "2478     2479   Wendy Williams      F 1988-05-01    Italy      régulier\n",
       "2827     2828   Wendy Williams      M 1994-10-15  Germany      régulier\n",
       "2530     2531      William Lee      M 1988-05-15  Germany      régulier\n",
       "2365     2366      William Lee      M 1999-12-12  Germany      régulier\n",
       "\n",
       "[140 rows x 6 columns]"
      ]
     },
     "execution_count": 11,
     "metadata": {},
     "output_type": "execute_result"
    }
   ],
   "source": [
    "buyers[buyers.duplicated(subset=[\"name\"],keep=False)].sort_values(by=[\"name\"])\n",
    "\n",
    "# you can have an overview of every duplicate (inc the \"original\") by using keep=False\n",
    "# you can find duplicates by subsets"
   ]
  },
  {
   "cell_type": "code",
   "execution_count": 12,
   "id": "6b8a0d12",
   "metadata": {},
   "outputs": [
    {
     "data": {
      "text/plain": [
       "2176   1944-08-16\n",
       "1345   1944-08-16\n",
       "1980   1944-08-25\n",
       "935    1944-08-31\n",
       "2312   1944-09-01\n",
       "          ...    \n",
       "2031   2007-05-29\n",
       "945    2007-06-03\n",
       "1497   2007-06-14\n",
       "2515   2007-06-22\n",
       "1298   2007-06-29\n",
       "Name: birthdate, Length: 3000, dtype: datetime64[ns]"
      ]
     },
     "execution_count": 12,
     "metadata": {},
     "output_type": "execute_result"
    }
   ],
   "source": [
    "buyers[\"birthdate\"].sort_values() # Min: 1944 // Max: 2007"
   ]
  },
  {
   "cell_type": "code",
   "execution_count": 13,
   "id": "96c0ae09",
   "metadata": {},
   "outputs": [],
   "source": [
    "buyers[\"name\"] = buyers[\"name\"].str.title().str.strip()\n",
    "buyers[\"country\"] = buyers[\"country\"].str.title().str.strip()\n",
    "buyers[\"customer_type\"] = buyers[\"customer_type\"].str.lower().str.strip()"
   ]
  },
  {
   "cell_type": "code",
   "execution_count": 14,
   "id": "764da1a0",
   "metadata": {},
   "outputs": [
    {
     "name": "stdout",
     "output_type": "stream",
     "text": [
      "[1 2 3 ... 2998 2999 3000]\n",
      "['Matthew Lucas' 'Gerald Hensley' 'Joshua Taylor' ... 'Lindsay Olson'\n",
      " 'Wesley Rich' 'Tammy Rodriguez']\n",
      "['F', 'M']\n",
      "Categories (2, object): ['F', 'M']\n",
      "<DatetimeArray>\n",
      "['1948-08-22 00:00:00', '1961-06-09 00:00:00', '1957-01-01 00:00:00',\n",
      " '1974-09-03 00:00:00', '1988-11-23 00:00:00', '1955-11-01 00:00:00',\n",
      " '2005-12-05 00:00:00', '1962-07-25 00:00:00', '1991-12-02 00:00:00',\n",
      " '1993-05-28 00:00:00',\n",
      " ...\n",
      " '1952-05-12 00:00:00', '1976-04-24 00:00:00', '1984-07-22 00:00:00',\n",
      " '1968-12-09 00:00:00', '1968-11-17 00:00:00', '1945-12-30 00:00:00',\n",
      " '1991-10-11 00:00:00', '1961-09-14 00:00:00', '1971-10-25 00:00:00',\n",
      " '1973-07-01 00:00:00']\n",
      "Length: 2809, dtype: datetime64[ns]\n",
      "['Spain' 'Germany' 'Italy' 'Netherlands' 'Belgium' 'Luxembourg' 'France'\n",
      " 'Portugal']\n",
      "['régulier' 'nouveau' 'vip']\n"
     ]
    }
   ],
   "source": [
    "for col in buyers.columns:\n",
    "    unique_vals = buyers[col].unique()\n",
    "    print(unique_vals)"
   ]
  },
  {
   "cell_type": "code",
   "execution_count": 15,
   "id": "b515c904",
   "metadata": {},
   "outputs": [
    {
     "name": "stdout",
     "output_type": "stream",
     "text": [
      "<class 'pandas.core.series.Series'>\n",
      "RangeIndex: 3000 entries, 0 to 2999\n",
      "Series name: birthdate\n",
      "Non-Null Count  Dtype         \n",
      "--------------  -----         \n",
      "3000 non-null   datetime64[ns]\n",
      "dtypes: datetime64[ns](1)\n",
      "memory usage: 23.6 KB\n"
     ]
    }
   ],
   "source": [
    "buyers[\"birthdate\"] = pd.to_datetime(buyers[\"birthdate\"], errors=\"coerce\")\n",
    "buyers[buyers[\"birthdate\"].isnull()]\n",
    "\n",
    "# If 'coerce', then invalid parsing will be set as NaT\n",
    "# No errors were recorded when changing types\n",
    "\n",
    "buyers[\"birthdate\"].info()"
   ]
  },
  {
   "cell_type": "code",
   "execution_count": 16,
   "id": "fc1467c8",
   "metadata": {},
   "outputs": [
    {
     "name": "stdout",
     "output_type": "stream",
     "text": [
      "buyer_id 3000\n",
      "name 2926\n",
      "gender 2\n",
      "birthdate 2809\n",
      "country 8\n",
      "customer_type 3\n"
     ]
    }
   ],
   "source": [
    "for col in buyers.columns:\n",
    "    x = buyers[col].nunique()\n",
    "    print(col, x)"
   ]
  },
  {
   "cell_type": "code",
   "execution_count": 17,
   "id": "2968cd3e",
   "metadata": {},
   "outputs": [
    {
     "data": {
      "text/html": [
       "<div>\n",
       "<style scoped>\n",
       "    .dataframe tbody tr th:only-of-type {\n",
       "        vertical-align: middle;\n",
       "    }\n",
       "\n",
       "    .dataframe tbody tr th {\n",
       "        vertical-align: top;\n",
       "    }\n",
       "\n",
       "    .dataframe thead th {\n",
       "        text-align: right;\n",
       "    }\n",
       "</style>\n",
       "<table border=\"1\" class=\"dataframe\">\n",
       "  <thead>\n",
       "    <tr style=\"text-align: right;\">\n",
       "      <th></th>\n",
       "      <th>book ID</th>\n",
       "      <th>name</th>\n",
       "      <th>price</th>\n",
       "      <th>category</th>\n",
       "      <th>summary</th>\n",
       "      <th>rating</th>\n",
       "      <th>seller_id</th>\n",
       "    </tr>\n",
       "  </thead>\n",
       "  <tbody>\n",
       "    <tr>\n",
       "      <th>0</th>\n",
       "      <td>a897fe39b1053632</td>\n",
       "      <td>A Light in the Attic</td>\n",
       "      <td>51.77</td>\n",
       "      <td>Poetry</td>\n",
       "      <td>It's hard to imagine a world without A Light i...</td>\n",
       "      <td>Three</td>\n",
       "      <td>39</td>\n",
       "    </tr>\n",
       "    <tr>\n",
       "      <th>1</th>\n",
       "      <td>90fa61229261140a</td>\n",
       "      <td>Tipping the Velvet</td>\n",
       "      <td>53.74</td>\n",
       "      <td>Historical Fiction</td>\n",
       "      <td>\"Erotic and absorbing...Written with starling ...</td>\n",
       "      <td>One</td>\n",
       "      <td>29</td>\n",
       "    </tr>\n",
       "    <tr>\n",
       "      <th>2</th>\n",
       "      <td>6957f44c3847a760</td>\n",
       "      <td>Soumission</td>\n",
       "      <td>50.10</td>\n",
       "      <td>Fiction</td>\n",
       "      <td>Dans une France assez proche de la nÃ´tre, un ...</td>\n",
       "      <td>One</td>\n",
       "      <td>15</td>\n",
       "    </tr>\n",
       "    <tr>\n",
       "      <th>3</th>\n",
       "      <td>f77dbf2323deb740</td>\n",
       "      <td>The Requiem Red</td>\n",
       "      <td>22.65</td>\n",
       "      <td>Young Adult</td>\n",
       "      <td>Patient Twenty-nine.A monster roams the halls ...</td>\n",
       "      <td>One</td>\n",
       "      <td>43</td>\n",
       "    </tr>\n",
       "    <tr>\n",
       "      <th>4</th>\n",
       "      <td>2597b5a345f45e1b</td>\n",
       "      <td>The Dirty Little Secrets of Getting Your Dream...</td>\n",
       "      <td>33.34</td>\n",
       "      <td>Business</td>\n",
       "      <td>Drawing on his extensive experience evaluating...</td>\n",
       "      <td>Four</td>\n",
       "      <td>8</td>\n",
       "    </tr>\n",
       "  </tbody>\n",
       "</table>\n",
       "</div>"
      ],
      "text/plain": [
       "            book ID                                               name  price  \\\n",
       "0  a897fe39b1053632                               A Light in the Attic  51.77   \n",
       "1  90fa61229261140a                                 Tipping the Velvet  53.74   \n",
       "2  6957f44c3847a760                                         Soumission  50.10   \n",
       "3  f77dbf2323deb740                                    The Requiem Red  22.65   \n",
       "4  2597b5a345f45e1b  The Dirty Little Secrets of Getting Your Dream...  33.34   \n",
       "\n",
       "             category                                            summary  \\\n",
       "0              Poetry  It's hard to imagine a world without A Light i...   \n",
       "1  Historical Fiction  \"Erotic and absorbing...Written with starling ...   \n",
       "2             Fiction  Dans une France assez proche de la nÃ´tre, un ...   \n",
       "3         Young Adult  Patient Twenty-nine.A monster roams the halls ...   \n",
       "4            Business  Drawing on his extensive experience evaluating...   \n",
       "\n",
       "  rating  seller_id  \n",
       "0  Three         39  \n",
       "1    One         29  \n",
       "2    One         15  \n",
       "3    One         43  \n",
       "4   Four          8  "
      ]
     },
     "execution_count": 17,
     "metadata": {},
     "output_type": "execute_result"
    }
   ],
   "source": [
    "# Cleaning the PRODUCTS table\n",
    "\n",
    "products.head()"
   ]
  },
  {
   "cell_type": "code",
   "execution_count": 18,
   "id": "a1dd743c",
   "metadata": {},
   "outputs": [],
   "source": [
    "products = products.rename(columns={\"book ID\": \"book_id\"})"
   ]
  },
  {
   "cell_type": "code",
   "execution_count": 19,
   "id": "4dbcc6cc",
   "metadata": {},
   "outputs": [
    {
     "data": {
      "text/html": [
       "<div>\n",
       "<style scoped>\n",
       "    .dataframe tbody tr th:only-of-type {\n",
       "        vertical-align: middle;\n",
       "    }\n",
       "\n",
       "    .dataframe tbody tr th {\n",
       "        vertical-align: top;\n",
       "    }\n",
       "\n",
       "    .dataframe thead th {\n",
       "        text-align: right;\n",
       "    }\n",
       "</style>\n",
       "<table border=\"1\" class=\"dataframe\">\n",
       "  <thead>\n",
       "    <tr style=\"text-align: right;\">\n",
       "      <th></th>\n",
       "      <th>book_id</th>\n",
       "      <th>name</th>\n",
       "      <th>price</th>\n",
       "      <th>category</th>\n",
       "      <th>summary</th>\n",
       "      <th>rating</th>\n",
       "      <th>seller_id</th>\n",
       "    </tr>\n",
       "  </thead>\n",
       "  <tbody>\n",
       "    <tr>\n",
       "      <th>8</th>\n",
       "      <td>0312262ecafa5a40</td>\n",
       "      <td>Starving Hearts (Triangular Trade Trilogy, #1)</td>\n",
       "      <td>13.99</td>\n",
       "      <td>Default</td>\n",
       "      <td>Since her assault, Miss Annette Chetwynd has b...</td>\n",
       "      <td>Two</td>\n",
       "      <td>23</td>\n",
       "    </tr>\n",
       "    <tr>\n",
       "      <th>9</th>\n",
       "      <td>30a7f60cd76ca58c</td>\n",
       "      <td>Shakespeare's Sonnets</td>\n",
       "      <td>20.66</td>\n",
       "      <td>Poetry</td>\n",
       "      <td>This book is an important and complete collect...</td>\n",
       "      <td>Four</td>\n",
       "      <td>11</td>\n",
       "    </tr>\n",
       "    <tr>\n",
       "      <th>10</th>\n",
       "      <td>ce6396b0f23f6ecc</td>\n",
       "      <td>Set Me Free</td>\n",
       "      <td>17.46</td>\n",
       "      <td>Young Adult</td>\n",
       "      <td>Aaron Ledbetterâs future had been planned ou...</td>\n",
       "      <td>Five</td>\n",
       "      <td>11</td>\n",
       "    </tr>\n",
       "    <tr>\n",
       "      <th>11</th>\n",
       "      <td>3b1c02bac2a429e6</td>\n",
       "      <td>Scott Pilgrim's Precious Little Life (Scott Pi...</td>\n",
       "      <td>52.29</td>\n",
       "      <td>Sequential Art</td>\n",
       "      <td>Scott Pilgrim's life is totally sweet. He's 23...</td>\n",
       "      <td>Five</td>\n",
       "      <td>24</td>\n",
       "    </tr>\n",
       "    <tr>\n",
       "      <th>12</th>\n",
       "      <td>a34ba96d4081e6a4</td>\n",
       "      <td>Rip it Up and Start Again</td>\n",
       "      <td>35.02</td>\n",
       "      <td>Music</td>\n",
       "      <td>Punk's raw power rejuvenated rock, but by the ...</td>\n",
       "      <td>Five</td>\n",
       "      <td>36</td>\n",
       "    </tr>\n",
       "  </tbody>\n",
       "</table>\n",
       "</div>"
      ],
      "text/plain": [
       "             book_id                                               name  \\\n",
       "8   0312262ecafa5a40     Starving Hearts (Triangular Trade Trilogy, #1)   \n",
       "9   30a7f60cd76ca58c                              Shakespeare's Sonnets   \n",
       "10  ce6396b0f23f6ecc                                        Set Me Free   \n",
       "11  3b1c02bac2a429e6  Scott Pilgrim's Precious Little Life (Scott Pi...   \n",
       "12  a34ba96d4081e6a4                          Rip it Up and Start Again   \n",
       "\n",
       "    price        category                                            summary  \\\n",
       "8   13.99         Default  Since her assault, Miss Annette Chetwynd has b...   \n",
       "9   20.66          Poetry  This book is an important and complete collect...   \n",
       "10  17.46     Young Adult  Aaron Ledbetterâs future had been planned ou...   \n",
       "11  52.29  Sequential Art  Scott Pilgrim's life is totally sweet. He's 23...   \n",
       "12  35.02           Music  Punk's raw power rejuvenated rock, but by the ...   \n",
       "\n",
       "   rating  seller_id  \n",
       "8     Two         23  \n",
       "9    Four         11  \n",
       "10   Five         11  \n",
       "11   Five         24  \n",
       "12   Five         36  "
      ]
     },
     "execution_count": 19,
     "metadata": {},
     "output_type": "execute_result"
    }
   ],
   "source": [
    "products.tail()"
   ]
  },
  {
   "cell_type": "code",
   "execution_count": 20,
   "id": "f5a94241",
   "metadata": {},
   "outputs": [
    {
     "data": {
      "text/plain": [
       "(13, 7)"
      ]
     },
     "execution_count": 20,
     "metadata": {},
     "output_type": "execute_result"
    }
   ],
   "source": [
    "products.shape"
   ]
  },
  {
   "cell_type": "code",
   "execution_count": 21,
   "id": "f57a5173",
   "metadata": {},
   "outputs": [
    {
     "name": "stdout",
     "output_type": "stream",
     "text": [
      "<class 'pandas.core.frame.DataFrame'>\n",
      "RangeIndex: 13 entries, 0 to 12\n",
      "Data columns (total 7 columns):\n",
      " #   Column     Non-Null Count  Dtype  \n",
      "---  ------     --------------  -----  \n",
      " 0   book_id    13 non-null     object \n",
      " 1   name       13 non-null     object \n",
      " 2   price      13 non-null     float64\n",
      " 3   category   13 non-null     object \n",
      " 4   summary    13 non-null     object \n",
      " 5   rating     13 non-null     object \n",
      " 6   seller_id  13 non-null     int64  \n",
      "dtypes: float64(1), int64(1), object(5)\n",
      "memory usage: 860.0+ bytes\n"
     ]
    }
   ],
   "source": [
    "products.info()"
   ]
  },
  {
   "cell_type": "code",
   "execution_count": 22,
   "id": "66bfab62",
   "metadata": {},
   "outputs": [
    {
     "data": {
      "text/html": [
       "<div>\n",
       "<style scoped>\n",
       "    .dataframe tbody tr th:only-of-type {\n",
       "        vertical-align: middle;\n",
       "    }\n",
       "\n",
       "    .dataframe tbody tr th {\n",
       "        vertical-align: top;\n",
       "    }\n",
       "\n",
       "    .dataframe thead th {\n",
       "        text-align: right;\n",
       "    }\n",
       "</style>\n",
       "<table border=\"1\" class=\"dataframe\">\n",
       "  <thead>\n",
       "    <tr style=\"text-align: right;\">\n",
       "      <th></th>\n",
       "      <th>price</th>\n",
       "      <th>seller_id</th>\n",
       "    </tr>\n",
       "  </thead>\n",
       "  <tbody>\n",
       "    <tr>\n",
       "      <th>count</th>\n",
       "      <td>13.000000</td>\n",
       "      <td>13.000000</td>\n",
       "    </tr>\n",
       "    <tr>\n",
       "      <th>mean</th>\n",
       "      <td>34.130769</td>\n",
       "      <td>24.461538</td>\n",
       "    </tr>\n",
       "    <tr>\n",
       "      <th>std</th>\n",
       "      <td>15.808240</td>\n",
       "      <td>11.857595</td>\n",
       "    </tr>\n",
       "    <tr>\n",
       "      <th>min</th>\n",
       "      <td>13.990000</td>\n",
       "      <td>8.000000</td>\n",
       "    </tr>\n",
       "    <tr>\n",
       "      <th>25%</th>\n",
       "      <td>20.660000</td>\n",
       "      <td>15.000000</td>\n",
       "    </tr>\n",
       "    <tr>\n",
       "      <th>50%</th>\n",
       "      <td>33.340000</td>\n",
       "      <td>23.000000</td>\n",
       "    </tr>\n",
       "    <tr>\n",
       "      <th>75%</th>\n",
       "      <td>51.770000</td>\n",
       "      <td>36.000000</td>\n",
       "    </tr>\n",
       "    <tr>\n",
       "      <th>max</th>\n",
       "      <td>53.740000</td>\n",
       "      <td>43.000000</td>\n",
       "    </tr>\n",
       "  </tbody>\n",
       "</table>\n",
       "</div>"
      ],
      "text/plain": [
       "           price  seller_id\n",
       "count  13.000000  13.000000\n",
       "mean   34.130769  24.461538\n",
       "std    15.808240  11.857595\n",
       "min    13.990000   8.000000\n",
       "25%    20.660000  15.000000\n",
       "50%    33.340000  23.000000\n",
       "75%    51.770000  36.000000\n",
       "max    53.740000  43.000000"
      ]
     },
     "execution_count": 22,
     "metadata": {},
     "output_type": "execute_result"
    }
   ],
   "source": [
    "products.describe()"
   ]
  },
  {
   "cell_type": "code",
   "execution_count": 23,
   "id": "745863c8",
   "metadata": {},
   "outputs": [],
   "source": [
    "products[\"category\"] = products[\"category\"].str.lower().str.strip()\n",
    "products[\"rating\"] = products[\"rating\"].str.lower().str.strip()"
   ]
  },
  {
   "cell_type": "code",
   "execution_count": 24,
   "id": "f0cd30af",
   "metadata": {},
   "outputs": [],
   "source": [
    "products[\"category\"] = products[\"category\"].astype(\"category\")\n",
    "products[\"rating\"] = products[\"rating\"].astype(\"category\")"
   ]
  },
  {
   "cell_type": "code",
   "execution_count": 25,
   "id": "02599c37",
   "metadata": {},
   "outputs": [
    {
     "data": {
      "text/plain": [
       "book_id        object\n",
       "name           object\n",
       "price         float64\n",
       "category     category\n",
       "summary        object\n",
       "rating       category\n",
       "seller_id       int64\n",
       "dtype: object"
      ]
     },
     "execution_count": 25,
     "metadata": {},
     "output_type": "execute_result"
    }
   ],
   "source": [
    "products.dtypes"
   ]
  },
  {
   "cell_type": "code",
   "execution_count": 26,
   "id": "bb82c02e",
   "metadata": {},
   "outputs": [
    {
     "name": "stdout",
     "output_type": "stream",
     "text": [
      "Series([], Name: count, dtype: int64)\n",
      "Series([], Name: count, dtype: int64)\n",
      "Series([], Name: count, dtype: int64)\n",
      "category\n",
      "default        3\n",
      "poetry         3\n",
      "young adult    2\n",
      "Name: count, dtype: int64\n",
      "Series([], Name: count, dtype: int64)\n",
      "rating\n",
      "one      4\n",
      "five     3\n",
      "four     3\n",
      "three    2\n",
      "Name: count, dtype: int64\n",
      "seller_id\n",
      "39    2\n",
      "11    2\n",
      "Name: count, dtype: int64\n"
     ]
    }
   ],
   "source": [
    "for x in products.columns:\n",
    "    value_count_products = products[x].value_counts()\n",
    "    duplicated_products = value_count_products[value_count_products > 1]\n",
    "    print(duplicated_products)"
   ]
  },
  {
   "cell_type": "code",
   "execution_count": 27,
   "id": "ed3fbd46",
   "metadata": {},
   "outputs": [
    {
     "name": "stdout",
     "output_type": "stream",
     "text": [
      "category\n",
      "default               3\n",
      "poetry                3\n",
      "young adult           2\n",
      "business              1\n",
      "historical fiction    1\n",
      "fiction               1\n",
      "music                 1\n",
      "sequential art        1\n",
      "Name: count, dtype: int64\n"
     ]
    }
   ],
   "source": [
    "print(products[\"category\"].value_counts(dropna=False))"
   ]
  },
  {
   "cell_type": "code",
   "execution_count": 28,
   "id": "05e0a6fd",
   "metadata": {},
   "outputs": [
    {
     "name": "stdout",
     "output_type": "stream",
     "text": [
      "rating\n",
      "one      4\n",
      "five     3\n",
      "four     3\n",
      "three    2\n",
      "two      1\n",
      "Name: count, dtype: int64\n"
     ]
    }
   ],
   "source": [
    "print(products[\"rating\"].value_counts(dropna=False))"
   ]
  },
  {
   "cell_type": "code",
   "execution_count": 29,
   "id": "a928645e",
   "metadata": {},
   "outputs": [
    {
     "data": {
      "text/html": [
       "<div>\n",
       "<style scoped>\n",
       "    .dataframe tbody tr th:only-of-type {\n",
       "        vertical-align: middle;\n",
       "    }\n",
       "\n",
       "    .dataframe tbody tr th {\n",
       "        vertical-align: top;\n",
       "    }\n",
       "\n",
       "    .dataframe thead th {\n",
       "        text-align: right;\n",
       "    }\n",
       "</style>\n",
       "<table border=\"1\" class=\"dataframe\">\n",
       "  <thead>\n",
       "    <tr style=\"text-align: right;\">\n",
       "      <th></th>\n",
       "      <th>book_id</th>\n",
       "      <th>name</th>\n",
       "      <th>price</th>\n",
       "      <th>category</th>\n",
       "      <th>summary</th>\n",
       "      <th>rating</th>\n",
       "      <th>seller_id</th>\n",
       "    </tr>\n",
       "  </thead>\n",
       "  <tbody>\n",
       "    <tr>\n",
       "      <th>0</th>\n",
       "      <td>a897fe39b1053632</td>\n",
       "      <td>A Light in the Attic</td>\n",
       "      <td>51.77</td>\n",
       "      <td>poetry</td>\n",
       "      <td>It's hard to imagine a world without A Light i...</td>\n",
       "      <td>three</td>\n",
       "      <td>39</td>\n",
       "    </tr>\n",
       "    <tr>\n",
       "      <th>6</th>\n",
       "      <td>e10e1e165dc8be4a</td>\n",
       "      <td>The Boys in the Boat: Nine Americans and Their...</td>\n",
       "      <td>22.60</td>\n",
       "      <td>default</td>\n",
       "      <td>For readers of Laura Hillenbrand's Seabiscuit ...</td>\n",
       "      <td>four</td>\n",
       "      <td>39</td>\n",
       "    </tr>\n",
       "  </tbody>\n",
       "</table>\n",
       "</div>"
      ],
      "text/plain": [
       "            book_id                                               name  price  \\\n",
       "0  a897fe39b1053632                               A Light in the Attic  51.77   \n",
       "6  e10e1e165dc8be4a  The Boys in the Boat: Nine Americans and Their...  22.60   \n",
       "\n",
       "  category                                            summary rating  \\\n",
       "0   poetry  It's hard to imagine a world without A Light i...  three   \n",
       "6  default  For readers of Laura Hillenbrand's Seabiscuit ...   four   \n",
       "\n",
       "   seller_id  \n",
       "0         39  \n",
       "6         39  "
      ]
     },
     "execution_count": 29,
     "metadata": {},
     "output_type": "execute_result"
    }
   ],
   "source": [
    "products[products[\"seller_id\"] == 39]"
   ]
  },
  {
   "cell_type": "code",
   "execution_count": 30,
   "id": "2f02c2c4",
   "metadata": {},
   "outputs": [
    {
     "data": {
      "text/plain": [
       "8     13.99\n",
       "10    17.46\n",
       "5     17.93\n",
       "9     20.66\n",
       "6     22.60\n",
       "3     22.65\n",
       "4     33.34\n",
       "12    35.02\n",
       "2     50.10\n",
       "0     51.77\n",
       "7     52.15\n",
       "11    52.29\n",
       "1     53.74\n",
       "Name: price, dtype: float64"
      ]
     },
     "execution_count": 30,
     "metadata": {},
     "output_type": "execute_result"
    }
   ],
   "source": [
    "products[\"price\"].sort_values()"
   ]
  },
  {
   "cell_type": "code",
   "execution_count": 31,
   "id": "e4fba700",
   "metadata": {},
   "outputs": [
    {
     "data": {
      "text/html": [
       "<div>\n",
       "<style scoped>\n",
       "    .dataframe tbody tr th:only-of-type {\n",
       "        vertical-align: middle;\n",
       "    }\n",
       "\n",
       "    .dataframe tbody tr th {\n",
       "        vertical-align: top;\n",
       "    }\n",
       "\n",
       "    .dataframe thead th {\n",
       "        text-align: right;\n",
       "    }\n",
       "</style>\n",
       "<table border=\"1\" class=\"dataframe\">\n",
       "  <thead>\n",
       "    <tr style=\"text-align: right;\">\n",
       "      <th></th>\n",
       "      <th>book_id</th>\n",
       "      <th>name</th>\n",
       "      <th>price</th>\n",
       "      <th>category</th>\n",
       "      <th>summary</th>\n",
       "      <th>rating</th>\n",
       "      <th>seller_id</th>\n",
       "    </tr>\n",
       "  </thead>\n",
       "  <tbody>\n",
       "    <tr>\n",
       "      <th>0</th>\n",
       "      <td>a897fe39b1053632</td>\n",
       "      <td>A Light in the Attic</td>\n",
       "      <td>51.77</td>\n",
       "      <td>poetry</td>\n",
       "      <td>It's hard to imagine a world without A Light i...</td>\n",
       "      <td>three</td>\n",
       "      <td>39</td>\n",
       "    </tr>\n",
       "    <tr>\n",
       "      <th>1</th>\n",
       "      <td>90fa61229261140a</td>\n",
       "      <td>Tipping the Velvet</td>\n",
       "      <td>53.74</td>\n",
       "      <td>historical fiction</td>\n",
       "      <td>\"Erotic and absorbing...Written with starling ...</td>\n",
       "      <td>one</td>\n",
       "      <td>29</td>\n",
       "    </tr>\n",
       "    <tr>\n",
       "      <th>2</th>\n",
       "      <td>6957f44c3847a760</td>\n",
       "      <td>Soumission</td>\n",
       "      <td>50.10</td>\n",
       "      <td>fiction</td>\n",
       "      <td>Dans une France assez proche de la nÃ´tre, un ...</td>\n",
       "      <td>one</td>\n",
       "      <td>15</td>\n",
       "    </tr>\n",
       "    <tr>\n",
       "      <th>3</th>\n",
       "      <td>f77dbf2323deb740</td>\n",
       "      <td>The Requiem Red</td>\n",
       "      <td>22.65</td>\n",
       "      <td>young adult</td>\n",
       "      <td>Patient Twenty-nine.A monster roams the halls ...</td>\n",
       "      <td>one</td>\n",
       "      <td>43</td>\n",
       "    </tr>\n",
       "    <tr>\n",
       "      <th>4</th>\n",
       "      <td>2597b5a345f45e1b</td>\n",
       "      <td>The Dirty Little Secrets of Getting Your Dream...</td>\n",
       "      <td>33.34</td>\n",
       "      <td>business</td>\n",
       "      <td>Drawing on his extensive experience evaluating...</td>\n",
       "      <td>four</td>\n",
       "      <td>8</td>\n",
       "    </tr>\n",
       "  </tbody>\n",
       "</table>\n",
       "</div>"
      ],
      "text/plain": [
       "            book_id                                               name  price  \\\n",
       "0  a897fe39b1053632                               A Light in the Attic  51.77   \n",
       "1  90fa61229261140a                                 Tipping the Velvet  53.74   \n",
       "2  6957f44c3847a760                                         Soumission  50.10   \n",
       "3  f77dbf2323deb740                                    The Requiem Red  22.65   \n",
       "4  2597b5a345f45e1b  The Dirty Little Secrets of Getting Your Dream...  33.34   \n",
       "\n",
       "             category                                            summary  \\\n",
       "0              poetry  It's hard to imagine a world without A Light i...   \n",
       "1  historical fiction  \"Erotic and absorbing...Written with starling ...   \n",
       "2             fiction  Dans une France assez proche de la nÃ´tre, un ...   \n",
       "3         young adult  Patient Twenty-nine.A monster roams the halls ...   \n",
       "4            business  Drawing on his extensive experience evaluating...   \n",
       "\n",
       "  rating  seller_id  \n",
       "0  three         39  \n",
       "1    one         29  \n",
       "2    one         15  \n",
       "3    one         43  \n",
       "4   four          8  "
      ]
     },
     "execution_count": 31,
     "metadata": {},
     "output_type": "execute_result"
    }
   ],
   "source": [
    "products.head()"
   ]
  },
  {
   "cell_type": "code",
   "execution_count": 32,
   "id": "ad57190b",
   "metadata": {},
   "outputs": [
    {
     "data": {
      "text/html": [
       "<div>\n",
       "<style scoped>\n",
       "    .dataframe tbody tr th:only-of-type {\n",
       "        vertical-align: middle;\n",
       "    }\n",
       "\n",
       "    .dataframe tbody tr th {\n",
       "        vertical-align: top;\n",
       "    }\n",
       "\n",
       "    .dataframe thead th {\n",
       "        text-align: right;\n",
       "    }\n",
       "</style>\n",
       "<table border=\"1\" class=\"dataframe\">\n",
       "  <thead>\n",
       "    <tr style=\"text-align: right;\">\n",
       "      <th></th>\n",
       "      <th>review_id</th>\n",
       "      <th>book_id</th>\n",
       "      <th>review_text</th>\n",
       "      <th>rating</th>\n",
       "      <th>review_date</th>\n",
       "      <th>author</th>\n",
       "    </tr>\n",
       "  </thead>\n",
       "  <tbody>\n",
       "    <tr>\n",
       "      <th>0</th>\n",
       "      <td>1</td>\n",
       "      <td>2597b5a345f45e1b</td>\n",
       "      <td>Change whether small trip another defense. C'é...</td>\n",
       "      <td>3</td>\n",
       "      <td>2022-10-13</td>\n",
       "      <td>James Shelton</td>\n",
       "    </tr>\n",
       "    <tr>\n",
       "      <th>1</th>\n",
       "      <td>2</td>\n",
       "      <td>1dfe412b8ac00530</td>\n",
       "      <td>Or thank others population admit why group. C'...</td>\n",
       "      <td>3</td>\n",
       "      <td>2019-06-29</td>\n",
       "      <td>Dean Cunningham</td>\n",
       "    </tr>\n",
       "    <tr>\n",
       "      <th>2</th>\n",
       "      <td>3</td>\n",
       "      <td>a897fe39b1053632</td>\n",
       "      <td>Without professor today family large appear se...</td>\n",
       "      <td>3</td>\n",
       "      <td>2018-05-19</td>\n",
       "      <td>Marvin Johnson</td>\n",
       "    </tr>\n",
       "    <tr>\n",
       "      <th>3</th>\n",
       "      <td>4</td>\n",
       "      <td>e10e1e165dc8be4a</td>\n",
       "      <td>Piece daughter head reach answer even fast wea...</td>\n",
       "      <td>4</td>\n",
       "      <td>2019-02-23</td>\n",
       "      <td>Kurt Williams</td>\n",
       "    </tr>\n",
       "    <tr>\n",
       "      <th>4</th>\n",
       "      <td>5</td>\n",
       "      <td>0312262ecafa5a40</td>\n",
       "      <td>Ever garden instead total husband trouble clos...</td>\n",
       "      <td>5</td>\n",
       "      <td>2024-06-02</td>\n",
       "      <td>Ethan Coleman</td>\n",
       "    </tr>\n",
       "  </tbody>\n",
       "</table>\n",
       "</div>"
      ],
      "text/plain": [
       "   review_id           book_id  \\\n",
       "0          1  2597b5a345f45e1b   \n",
       "1          2  1dfe412b8ac00530   \n",
       "2          3  a897fe39b1053632   \n",
       "3          4  e10e1e165dc8be4a   \n",
       "4          5  0312262ecafa5a40   \n",
       "\n",
       "                                         review_text rating review_date  \\\n",
       "0  Change whether small trip another defense. C'é...      3  2022-10-13   \n",
       "1  Or thank others population admit why group. C'...      3  2019-06-29   \n",
       "2  Without professor today family large appear se...      3  2018-05-19   \n",
       "3  Piece daughter head reach answer even fast wea...      4  2019-02-23   \n",
       "4  Ever garden instead total husband trouble clos...      5  2024-06-02   \n",
       "\n",
       "            author  \n",
       "0    James Shelton  \n",
       "1  Dean Cunningham  \n",
       "2   Marvin Johnson  \n",
       "3    Kurt Williams  \n",
       "4    Ethan Coleman  "
      ]
     },
     "execution_count": 32,
     "metadata": {},
     "output_type": "execute_result"
    }
   ],
   "source": [
    "# Cleaning the REVIEWS table\n",
    "\n",
    "reviews.head()"
   ]
  },
  {
   "cell_type": "code",
   "execution_count": 33,
   "id": "9d672517",
   "metadata": {},
   "outputs": [
    {
     "data": {
      "text/html": [
       "<div>\n",
       "<style scoped>\n",
       "    .dataframe tbody tr th:only-of-type {\n",
       "        vertical-align: middle;\n",
       "    }\n",
       "\n",
       "    .dataframe tbody tr th {\n",
       "        vertical-align: top;\n",
       "    }\n",
       "\n",
       "    .dataframe thead th {\n",
       "        text-align: right;\n",
       "    }\n",
       "</style>\n",
       "<table border=\"1\" class=\"dataframe\">\n",
       "  <thead>\n",
       "    <tr style=\"text-align: right;\">\n",
       "      <th></th>\n",
       "      <th>review_id</th>\n",
       "      <th>book_id</th>\n",
       "      <th>review_text</th>\n",
       "      <th>rating</th>\n",
       "      <th>review_date</th>\n",
       "      <th>author</th>\n",
       "    </tr>\n",
       "  </thead>\n",
       "  <tbody>\n",
       "    <tr>\n",
       "      <th>1168</th>\n",
       "      <td>1169</td>\n",
       "      <td>a34ba96d4081e6a4</td>\n",
       "      <td>Catch suddenly their natural build spring indi...</td>\n",
       "      <td>5</td>\n",
       "      <td>2023-04-08</td>\n",
       "      <td>Micheal Ramirez</td>\n",
       "    </tr>\n",
       "    <tr>\n",
       "      <th>1169</th>\n",
       "      <td>1170</td>\n",
       "      <td>f77dbf2323deb740</td>\n",
       "      <td>As thought far approach stand read collection ...</td>\n",
       "      <td>3</td>\n",
       "      <td>2019-01-15</td>\n",
       "      <td>Katie Campbell</td>\n",
       "    </tr>\n",
       "    <tr>\n",
       "      <th>1170</th>\n",
       "      <td>1171</td>\n",
       "      <td>e10e1e165dc8be4a</td>\n",
       "      <td>Serve use win quickly discussion politics. C'é...</td>\n",
       "      <td>3</td>\n",
       "      <td>2020-01-08</td>\n",
       "      <td>Kyle Vargas</td>\n",
       "    </tr>\n",
       "    <tr>\n",
       "      <th>1171</th>\n",
       "      <td>1172</td>\n",
       "      <td>e10e1e165dc8be4a</td>\n",
       "      <td>Successful no ground modern course world missi...</td>\n",
       "      <td>4</td>\n",
       "      <td>2019-06-13</td>\n",
       "      <td>Mary Gallegos</td>\n",
       "    </tr>\n",
       "    <tr>\n",
       "      <th>1172</th>\n",
       "      <td>1173</td>\n",
       "      <td>30a7f60cd76ca58c</td>\n",
       "      <td>Power middle speech four arm stop visit memory...</td>\n",
       "      <td>5</td>\n",
       "      <td>2017-11-22</td>\n",
       "      <td>Anthony King</td>\n",
       "    </tr>\n",
       "  </tbody>\n",
       "</table>\n",
       "</div>"
      ],
      "text/plain": [
       "      review_id           book_id  \\\n",
       "1168       1169  a34ba96d4081e6a4   \n",
       "1169       1170  f77dbf2323deb740   \n",
       "1170       1171  e10e1e165dc8be4a   \n",
       "1171       1172  e10e1e165dc8be4a   \n",
       "1172       1173  30a7f60cd76ca58c   \n",
       "\n",
       "                                            review_text rating review_date  \\\n",
       "1168  Catch suddenly their natural build spring indi...      5  2023-04-08   \n",
       "1169  As thought far approach stand read collection ...      3  2019-01-15   \n",
       "1170  Serve use win quickly discussion politics. C'é...      3  2020-01-08   \n",
       "1171  Successful no ground modern course world missi...      4  2019-06-13   \n",
       "1172  Power middle speech four arm stop visit memory...      5  2017-11-22   \n",
       "\n",
       "               author  \n",
       "1168  Micheal Ramirez  \n",
       "1169   Katie Campbell  \n",
       "1170      Kyle Vargas  \n",
       "1171    Mary Gallegos  \n",
       "1172     Anthony King  "
      ]
     },
     "execution_count": 33,
     "metadata": {},
     "output_type": "execute_result"
    }
   ],
   "source": [
    "reviews.tail()"
   ]
  },
  {
   "cell_type": "code",
   "execution_count": 34,
   "id": "217dddad",
   "metadata": {},
   "outputs": [
    {
     "data": {
      "text/plain": [
       "(1173, 6)"
      ]
     },
     "execution_count": 34,
     "metadata": {},
     "output_type": "execute_result"
    }
   ],
   "source": [
    "reviews.shape"
   ]
  },
  {
   "cell_type": "code",
   "execution_count": 35,
   "id": "76f30e90",
   "metadata": {},
   "outputs": [
    {
     "name": "stdout",
     "output_type": "stream",
     "text": [
      "<class 'pandas.core.frame.DataFrame'>\n",
      "RangeIndex: 1173 entries, 0 to 1172\n",
      "Data columns (total 6 columns):\n",
      " #   Column       Non-Null Count  Dtype \n",
      "---  ------       --------------  ----- \n",
      " 0   review_id    1173 non-null   int64 \n",
      " 1   book_id      1173 non-null   object\n",
      " 2   review_text  1167 non-null   object\n",
      " 3   rating       1173 non-null   object\n",
      " 4   review_date  1173 non-null   object\n",
      " 5   author       1173 non-null   object\n",
      "dtypes: int64(1), object(5)\n",
      "memory usage: 55.1+ KB\n"
     ]
    }
   ],
   "source": [
    "reviews.info()\n",
    "\n",
    "# null values in review_text that need to be cleaned"
   ]
  },
  {
   "cell_type": "code",
   "execution_count": 36,
   "id": "9dfddb20",
   "metadata": {},
   "outputs": [
    {
     "data": {
      "text/plain": [
       "review_id       int64\n",
       "book_id        object\n",
       "review_text    object\n",
       "rating         object\n",
       "review_date    object\n",
       "author         object\n",
       "dtype: object"
      ]
     },
     "execution_count": 36,
     "metadata": {},
     "output_type": "execute_result"
    }
   ],
   "source": [
    "reviews.dtypes"
   ]
  },
  {
   "cell_type": "code",
   "execution_count": 37,
   "id": "494e68d2",
   "metadata": {},
   "outputs": [
    {
     "name": "stdout",
     "output_type": "stream",
     "text": [
      "<class 'pandas.core.series.Series'>\n",
      "RangeIndex: 1173 entries, 0 to 1172\n",
      "Series name: review_date\n",
      "Non-Null Count  Dtype         \n",
      "--------------  -----         \n",
      "1173 non-null   datetime64[ns]\n",
      "dtypes: datetime64[ns](1)\n",
      "memory usage: 9.3 KB\n"
     ]
    }
   ],
   "source": [
    "reviews[\"review_date\"] = pd.to_datetime(reviews[\"review_date\"], errors=\"coerce\")\n",
    "reviews[\"review_id\"] = reviews[\"review_id\"].astype(\"object\")\n",
    "\n",
    "# some values cannot be converted to integer, let's take care of these values first\n",
    "\n",
    "reviews[\"rating\"].unique()\n",
    "reviews[\"rating\"] = reviews[\"rating\"].str.replace(\"Three\", \"3\")\n",
    "reviews[\"rating\"] = reviews[\"rating\"].str.replace(\"Bad\", \"1\")\n",
    "reviews[\"rating\"].unique()\n",
    "\n",
    "reviews[\"rating\"] = reviews[\"rating\"].astype(int)\n",
    "\n",
    "reviews[\"review_date\"].info()"
   ]
  },
  {
   "cell_type": "code",
   "execution_count": 38,
   "id": "4a24422a",
   "metadata": {},
   "outputs": [
    {
     "name": "stdout",
     "output_type": "stream",
     "text": [
      "review_id 0\n",
      "book_id 0\n",
      "review_text 6\n",
      "rating 0\n",
      "review_date 0\n",
      "author 0\n"
     ]
    }
   ],
   "source": [
    "for x in reviews.columns:\n",
    "    print(x, reviews[x].isnull().sum())"
   ]
  },
  {
   "cell_type": "code",
   "execution_count": 39,
   "id": "db589864",
   "metadata": {},
   "outputs": [],
   "source": [
    "reviews[reviews[\"review_text\"].isnull()]\n",
    "reviews[\"review_text\"] = reviews[\"review_text\"].fillna(\"No review submitted\")"
   ]
  },
  {
   "cell_type": "code",
   "execution_count": 40,
   "id": "6e1bbb23",
   "metadata": {},
   "outputs": [
    {
     "name": "stdout",
     "output_type": "stream",
     "text": [
      "Series([], Name: count, dtype: int64)\n",
      "book_id\n",
      "e72a5dfc7e9267b2    112\n",
      "1dfe412b8ac00530     97\n",
      "a34ba96d4081e6a4     96\n",
      "30a7f60cd76ca58c     94\n",
      "ce6396b0f23f6ecc     92\n",
      "e10e1e165dc8be4a     91\n",
      "6957f44c3847a760     87\n",
      "2597b5a345f45e1b     87\n",
      "a897fe39b1053632     86\n",
      "f77dbf2323deb740     85\n",
      "3b1c02bac2a429e6     83\n",
      "0312262ecafa5a40     82\n",
      "90fa61229261140a     81\n",
      "Name: count, dtype: int64\n",
      "review_text\n",
      "No review submitted           6\n",
      "Incroyable, chef d'œuvre !    2\n",
      "Name: count, dtype: int64\n",
      "rating\n",
      "4    348\n",
      "3    312\n",
      "5    246\n",
      "2    169\n",
      "1     98\n",
      "Name: count, dtype: int64\n",
      "review_date\n",
      "2018-11-23    4\n",
      "2018-03-11    3\n",
      "2020-12-04    3\n",
      "2024-08-03    3\n",
      "2021-02-10    3\n",
      "             ..\n",
      "2023-05-08    2\n",
      "2017-03-21    2\n",
      "2020-06-20    2\n",
      "2022-05-24    2\n",
      "2019-06-29    2\n",
      "Name: count, Length: 173, dtype: int64\n",
      "author\n",
      "Eric Johnson       3\n",
      "Robert Johnson     2\n",
      "Tony Johnson       2\n",
      "Daniel Brown       2\n",
      "Jennifer Taylor    2\n",
      "Joshua Miller      2\n",
      "Benjamin Brown     2\n",
      "John Jones         2\n",
      "John Reilly        2\n",
      "Craig Tate         2\n",
      "Jason Johnson      2\n",
      "Kara Brown         2\n",
      "Name: count, dtype: int64\n"
     ]
    }
   ],
   "source": [
    "for x in reviews.columns:\n",
    "    value_count_reviews = reviews[x].value_counts()\n",
    "    duplicated_reviews = value_count_reviews[value_count_reviews > 1]\n",
    "    print(duplicated_reviews)"
   ]
  },
  {
   "cell_type": "code",
   "execution_count": 41,
   "id": "5bd2bd09",
   "metadata": {},
   "outputs": [
    {
     "data": {
      "text/plain": [
       "1160"
      ]
     },
     "execution_count": 41,
     "metadata": {},
     "output_type": "execute_result"
    }
   ],
   "source": [
    "reviews[\"book_id\"].nunique() # 13\n",
    "reviews[\"author\"].nunique() # Too many authors generated by ChatGPT "
   ]
  },
  {
   "cell_type": "code",
   "execution_count": 42,
   "id": "b9171a30",
   "metadata": {},
   "outputs": [
    {
     "data": {
      "text/html": [
       "<div>\n",
       "<style scoped>\n",
       "    .dataframe tbody tr th:only-of-type {\n",
       "        vertical-align: middle;\n",
       "    }\n",
       "\n",
       "    .dataframe tbody tr th {\n",
       "        vertical-align: top;\n",
       "    }\n",
       "\n",
       "    .dataframe thead th {\n",
       "        text-align: right;\n",
       "    }\n",
       "</style>\n",
       "<table border=\"1\" class=\"dataframe\">\n",
       "  <thead>\n",
       "    <tr style=\"text-align: right;\">\n",
       "      <th></th>\n",
       "      <th>seller_id</th>\n",
       "      <th>author_name</th>\n",
       "      <th>birthdate</th>\n",
       "      <th>country</th>\n",
       "      <th>seller_type</th>\n",
       "    </tr>\n",
       "  </thead>\n",
       "  <tbody>\n",
       "    <tr>\n",
       "      <th>0</th>\n",
       "      <td>1</td>\n",
       "      <td>Allison Hill</td>\n",
       "      <td>1959-09-15</td>\n",
       "      <td>Spain</td>\n",
       "      <td>Indépendant</td>\n",
       "    </tr>\n",
       "    <tr>\n",
       "      <th>1</th>\n",
       "      <td>2</td>\n",
       "      <td>Brian Yang</td>\n",
       "      <td>1981-08-18</td>\n",
       "      <td>Spain</td>\n",
       "      <td>Indépendant</td>\n",
       "    </tr>\n",
       "    <tr>\n",
       "      <th>2</th>\n",
       "      <td>3</td>\n",
       "      <td>Javier Johnson</td>\n",
       "      <td>1959-05-25</td>\n",
       "      <td>Germany</td>\n",
       "      <td>Marketplace</td>\n",
       "    </tr>\n",
       "    <tr>\n",
       "      <th>3</th>\n",
       "      <td>4</td>\n",
       "      <td>Lance Hoffman</td>\n",
       "      <td>1993-03-29</td>\n",
       "      <td>France</td>\n",
       "      <td>Marketplace</td>\n",
       "    </tr>\n",
       "    <tr>\n",
       "      <th>4</th>\n",
       "      <td>5</td>\n",
       "      <td>Kimberly Robinson</td>\n",
       "      <td>1984-08-13</td>\n",
       "      <td>Netherlands</td>\n",
       "      <td>Indépendant</td>\n",
       "    </tr>\n",
       "  </tbody>\n",
       "</table>\n",
       "</div>"
      ],
      "text/plain": [
       "   seller_id        author_name   birthdate      country  seller_type\n",
       "0          1       Allison Hill  1959-09-15        Spain  Indépendant\n",
       "1          2         Brian Yang  1981-08-18        Spain  Indépendant\n",
       "2          3     Javier Johnson  1959-05-25      Germany  Marketplace\n",
       "3          4      Lance Hoffman  1993-03-29       France  Marketplace\n",
       "4          5  Kimberly Robinson  1984-08-13  Netherlands  Indépendant"
      ]
     },
     "execution_count": 42,
     "metadata": {},
     "output_type": "execute_result"
    }
   ],
   "source": [
    "# Cleaning the SELLERS table\n",
    "\n",
    "sellers.head()"
   ]
  },
  {
   "cell_type": "code",
   "execution_count": 43,
   "id": "613d2ef6",
   "metadata": {},
   "outputs": [
    {
     "data": {
      "text/html": [
       "<div>\n",
       "<style scoped>\n",
       "    .dataframe tbody tr th:only-of-type {\n",
       "        vertical-align: middle;\n",
       "    }\n",
       "\n",
       "    .dataframe tbody tr th {\n",
       "        vertical-align: top;\n",
       "    }\n",
       "\n",
       "    .dataframe thead th {\n",
       "        text-align: right;\n",
       "    }\n",
       "</style>\n",
       "<table border=\"1\" class=\"dataframe\">\n",
       "  <thead>\n",
       "    <tr style=\"text-align: right;\">\n",
       "      <th></th>\n",
       "      <th>seller_id</th>\n",
       "      <th>author_name</th>\n",
       "      <th>birthdate</th>\n",
       "      <th>country</th>\n",
       "      <th>seller_type</th>\n",
       "    </tr>\n",
       "  </thead>\n",
       "  <tbody>\n",
       "    <tr>\n",
       "      <th>45</th>\n",
       "      <td>46</td>\n",
       "      <td>Shannon Jones</td>\n",
       "      <td>1960-09-17</td>\n",
       "      <td>Netherlands</td>\n",
       "      <td>Maison d'édition</td>\n",
       "    </tr>\n",
       "    <tr>\n",
       "      <th>46</th>\n",
       "      <td>47</td>\n",
       "      <td>John Ryan</td>\n",
       "      <td>1993-09-28</td>\n",
       "      <td>Germany</td>\n",
       "      <td>Maison d'édition</td>\n",
       "    </tr>\n",
       "    <tr>\n",
       "      <th>47</th>\n",
       "      <td>48</td>\n",
       "      <td>Laura Kennedy</td>\n",
       "      <td>1997-11-28</td>\n",
       "      <td>Germany</td>\n",
       "      <td>Marketplace</td>\n",
       "    </tr>\n",
       "    <tr>\n",
       "      <th>48</th>\n",
       "      <td>49</td>\n",
       "      <td>Jason Davis</td>\n",
       "      <td>1989-05-12</td>\n",
       "      <td>Italy</td>\n",
       "      <td>Maison d'édition</td>\n",
       "    </tr>\n",
       "    <tr>\n",
       "      <th>49</th>\n",
       "      <td>50</td>\n",
       "      <td>Jeff Owens</td>\n",
       "      <td>1994-02-17</td>\n",
       "      <td>France</td>\n",
       "      <td>Marketplace</td>\n",
       "    </tr>\n",
       "  </tbody>\n",
       "</table>\n",
       "</div>"
      ],
      "text/plain": [
       "    seller_id    author_name   birthdate      country       seller_type\n",
       "45         46  Shannon Jones  1960-09-17  Netherlands  Maison d'édition\n",
       "46         47      John Ryan  1993-09-28      Germany  Maison d'édition\n",
       "47         48  Laura Kennedy  1997-11-28      Germany       Marketplace\n",
       "48         49    Jason Davis  1989-05-12        Italy  Maison d'édition\n",
       "49         50     Jeff Owens  1994-02-17       France       Marketplace"
      ]
     },
     "execution_count": 43,
     "metadata": {},
     "output_type": "execute_result"
    }
   ],
   "source": [
    "sellers.tail()"
   ]
  },
  {
   "cell_type": "code",
   "execution_count": 44,
   "id": "490f55b8",
   "metadata": {},
   "outputs": [
    {
     "data": {
      "text/plain": [
       "(50, 5)"
      ]
     },
     "execution_count": 44,
     "metadata": {},
     "output_type": "execute_result"
    }
   ],
   "source": [
    "sellers.shape"
   ]
  },
  {
   "cell_type": "code",
   "execution_count": 45,
   "id": "2c38ca00",
   "metadata": {},
   "outputs": [
    {
     "name": "stdout",
     "output_type": "stream",
     "text": [
      "<class 'pandas.core.frame.DataFrame'>\n",
      "RangeIndex: 50 entries, 0 to 49\n",
      "Data columns (total 5 columns):\n",
      " #   Column       Non-Null Count  Dtype \n",
      "---  ------       --------------  ----- \n",
      " 0   seller_id    50 non-null     int64 \n",
      " 1   author_name  50 non-null     object\n",
      " 2   birthdate    50 non-null     object\n",
      " 3   country      50 non-null     object\n",
      " 4   seller_type  50 non-null     object\n",
      "dtypes: int64(1), object(4)\n",
      "memory usage: 2.1+ KB\n"
     ]
    }
   ],
   "source": [
    "sellers.info()"
   ]
  },
  {
   "cell_type": "code",
   "execution_count": 46,
   "id": "772ee10f",
   "metadata": {},
   "outputs": [
    {
     "data": {
      "text/plain": [
       "seller_id       int64\n",
       "author_name    object\n",
       "birthdate      object\n",
       "country        object\n",
       "seller_type    object\n",
       "dtype: object"
      ]
     },
     "execution_count": 46,
     "metadata": {},
     "output_type": "execute_result"
    }
   ],
   "source": [
    "sellers.dtypes"
   ]
  },
  {
   "cell_type": "code",
   "execution_count": 47,
   "id": "201490f6",
   "metadata": {},
   "outputs": [],
   "source": [
    "sellers[\"author_name\"] = sellers[\"author_name\"].str.title().str.strip()\n",
    "sellers[\"country\"] = sellers[\"country\"].str.title().str.strip()\n",
    "sellers[\"seller_type\"] = sellers[\"seller_type\"].str.lower().str.strip()"
   ]
  },
  {
   "cell_type": "code",
   "execution_count": 48,
   "id": "8bcbc71c",
   "metadata": {},
   "outputs": [
    {
     "name": "stdout",
     "output_type": "stream",
     "text": [
      "<class 'pandas.core.series.Series'>\n",
      "RangeIndex: 50 entries, 0 to 49\n",
      "Series name: birthdate\n",
      "Non-Null Count  Dtype         \n",
      "--------------  -----         \n",
      "50 non-null     datetime64[ns]\n",
      "dtypes: datetime64[ns](1)\n",
      "memory usage: 532.0 bytes\n"
     ]
    }
   ],
   "source": [
    "sellers[\"seller_id\"] = sellers[\"seller_id\"].astype(\"object\")\n",
    "sellers[\"birthdate\"] = pd.to_datetime(sellers[\"birthdate\"], errors=\"coerce\")\n",
    "sellers[\"country\"] = sellers[\"country\"].astype(\"category\")\n",
    "sellers[\"seller_type\"] = sellers[\"seller_type\"].astype(\"category\")\n",
    "\n",
    "sellers[\"birthdate\"].info()"
   ]
  },
  {
   "cell_type": "code",
   "execution_count": 49,
   "id": "124951c8",
   "metadata": {},
   "outputs": [
    {
     "name": "stdout",
     "output_type": "stream",
     "text": [
      "Series([], Name: count, dtype: int64)\n",
      "Series([], Name: count, dtype: int64)\n",
      "Series([], Name: count, dtype: int64)\n",
      "country\n",
      "Germany        13\n",
      "France         11\n",
      "Spain           9\n",
      "Belgium         5\n",
      "Italy           4\n",
      "Netherlands     4\n",
      "Portugal        3\n",
      "Name: count, dtype: int64\n",
      "seller_type\n",
      "indépendant         18\n",
      "marketplace         17\n",
      "maison d'édition    15\n",
      "Name: count, dtype: int64\n"
     ]
    }
   ],
   "source": [
    "for x in sellers.columns:\n",
    "    value_count_sellers = sellers[x].value_counts()\n",
    "    duplicated_sellers = value_count_sellers[value_count_sellers > 1]\n",
    "    print(duplicated_sellers)"
   ]
  },
  {
   "cell_type": "code",
   "execution_count": 50,
   "id": "fca7c9b8",
   "metadata": {},
   "outputs": [
    {
     "data": {
      "text/plain": [
       "['Spain', 'Germany', 'France', 'Netherlands', 'Italy', 'Belgium', 'Portugal', 'Luxembourg']\n",
       "Categories (8, object): ['Belgium', 'France', 'Germany', 'Italy', 'Luxembourg', 'Netherlands', 'Portugal', 'Spain']"
      ]
     },
     "execution_count": 50,
     "metadata": {},
     "output_type": "execute_result"
    }
   ],
   "source": [
    "sellers[\"country\"].unique()"
   ]
  },
  {
   "cell_type": "code",
   "execution_count": 51,
   "id": "597532de",
   "metadata": {},
   "outputs": [
    {
     "data": {
      "text/plain": [
       "['indépendant', 'marketplace', 'maison d'édition']\n",
       "Categories (3, object): ['indépendant', 'maison d'édition', 'marketplace']"
      ]
     },
     "execution_count": 51,
     "metadata": {},
     "output_type": "execute_result"
    }
   ],
   "source": [
    "sellers[\"seller_type\"].unique()"
   ]
  },
  {
   "cell_type": "code",
   "execution_count": 52,
   "id": "556ad79e",
   "metadata": {},
   "outputs": [
    {
     "data": {
      "text/html": [
       "<div>\n",
       "<style scoped>\n",
       "    .dataframe tbody tr th:only-of-type {\n",
       "        vertical-align: middle;\n",
       "    }\n",
       "\n",
       "    .dataframe tbody tr th {\n",
       "        vertical-align: top;\n",
       "    }\n",
       "\n",
       "    .dataframe thead th {\n",
       "        text-align: right;\n",
       "    }\n",
       "</style>\n",
       "<table border=\"1\" class=\"dataframe\">\n",
       "  <thead>\n",
       "    <tr style=\"text-align: right;\">\n",
       "      <th></th>\n",
       "      <th>transaction_id</th>\n",
       "      <th>book_id</th>\n",
       "      <th>buyer_id</th>\n",
       "      <th>price_paid</th>\n",
       "      <th>discount_rate</th>\n",
       "      <th>date</th>\n",
       "    </tr>\n",
       "  </thead>\n",
       "  <tbody>\n",
       "    <tr>\n",
       "      <th>0</th>\n",
       "      <td>1</td>\n",
       "      <td>0312262ecafa5a40</td>\n",
       "      <td>1862</td>\n",
       "      <td>13.99</td>\n",
       "      <td>0.00</td>\n",
       "      <td>2026-11-13</td>\n",
       "    </tr>\n",
       "    <tr>\n",
       "      <th>1</th>\n",
       "      <td>2</td>\n",
       "      <td>a34ba96d4081e6a4</td>\n",
       "      <td>157</td>\n",
       "      <td>33.27</td>\n",
       "      <td>0.05</td>\n",
       "      <td>2019-04-17</td>\n",
       "    </tr>\n",
       "    <tr>\n",
       "      <th>2</th>\n",
       "      <td>3</td>\n",
       "      <td>30a7f60cd76ca58c</td>\n",
       "      <td>1925</td>\n",
       "      <td>18.59</td>\n",
       "      <td>0.10</td>\n",
       "      <td>2021-11-30</td>\n",
       "    </tr>\n",
       "    <tr>\n",
       "      <th>3</th>\n",
       "      <td>4</td>\n",
       "      <td>a897fe39b1053632</td>\n",
       "      <td>875</td>\n",
       "      <td>51.77</td>\n",
       "      <td>0.00</td>\n",
       "      <td>2020-05-30</td>\n",
       "    </tr>\n",
       "    <tr>\n",
       "      <th>4</th>\n",
       "      <td>5</td>\n",
       "      <td>0312262ecafa5a40</td>\n",
       "      <td>129</td>\n",
       "      <td>13.99</td>\n",
       "      <td>0.00</td>\n",
       "      <td>2022-01-17</td>\n",
       "    </tr>\n",
       "  </tbody>\n",
       "</table>\n",
       "</div>"
      ],
      "text/plain": [
       "   transaction_id           book_id  buyer_id  price_paid  discount_rate  \\\n",
       "0               1  0312262ecafa5a40      1862       13.99           0.00   \n",
       "1               2  a34ba96d4081e6a4       157       33.27           0.05   \n",
       "2               3  30a7f60cd76ca58c      1925       18.59           0.10   \n",
       "3               4  a897fe39b1053632       875       51.77           0.00   \n",
       "4               5  0312262ecafa5a40       129       13.99           0.00   \n",
       "\n",
       "         date  \n",
       "0  2026-11-13  \n",
       "1  2019-04-17  \n",
       "2  2021-11-30  \n",
       "3  2020-05-30  \n",
       "4  2022-01-17  "
      ]
     },
     "execution_count": 52,
     "metadata": {},
     "output_type": "execute_result"
    }
   ],
   "source": [
    "# Cleaning the TRANSACTIONS table\n",
    "\n",
    "transactions.head()"
   ]
  },
  {
   "cell_type": "code",
   "execution_count": 53,
   "id": "c529d2f6",
   "metadata": {},
   "outputs": [
    {
     "data": {
      "text/html": [
       "<div>\n",
       "<style scoped>\n",
       "    .dataframe tbody tr th:only-of-type {\n",
       "        vertical-align: middle;\n",
       "    }\n",
       "\n",
       "    .dataframe tbody tr th {\n",
       "        vertical-align: top;\n",
       "    }\n",
       "\n",
       "    .dataframe thead th {\n",
       "        text-align: right;\n",
       "    }\n",
       "</style>\n",
       "<table border=\"1\" class=\"dataframe\">\n",
       "  <thead>\n",
       "    <tr style=\"text-align: right;\">\n",
       "      <th></th>\n",
       "      <th>transaction_id</th>\n",
       "      <th>book_id</th>\n",
       "      <th>buyer_id</th>\n",
       "      <th>price_paid</th>\n",
       "      <th>discount_rate</th>\n",
       "      <th>date</th>\n",
       "    </tr>\n",
       "  </thead>\n",
       "  <tbody>\n",
       "    <tr>\n",
       "      <th>14275</th>\n",
       "      <td>14276</td>\n",
       "      <td>AkxZFWNVpOJVzIdx</td>\n",
       "      <td>1603</td>\n",
       "      <td>51.77</td>\n",
       "      <td>0.0</td>\n",
       "      <td>2021-07-17</td>\n",
       "    </tr>\n",
       "    <tr>\n",
       "      <th>14276</th>\n",
       "      <td>14277</td>\n",
       "      <td>ce6396b0f23f6ecc</td>\n",
       "      <td>2721</td>\n",
       "      <td>NaN</td>\n",
       "      <td>0.0</td>\n",
       "      <td>2017-03-28</td>\n",
       "    </tr>\n",
       "    <tr>\n",
       "      <th>14277</th>\n",
       "      <td>14278</td>\n",
       "      <td>ce6396b0f23f6ecc</td>\n",
       "      <td>204</td>\n",
       "      <td>17.46</td>\n",
       "      <td>0.0</td>\n",
       "      <td>2019-04-05</td>\n",
       "    </tr>\n",
       "    <tr>\n",
       "      <th>14278</th>\n",
       "      <td>14279</td>\n",
       "      <td>1dfe412b8ac00530</td>\n",
       "      <td>2731</td>\n",
       "      <td>52.15</td>\n",
       "      <td>0.0</td>\n",
       "      <td>2019-06-21</td>\n",
       "    </tr>\n",
       "    <tr>\n",
       "      <th>14279</th>\n",
       "      <td>14280</td>\n",
       "      <td>3b1c02bac2a429e6</td>\n",
       "      <td>1545</td>\n",
       "      <td>52.29</td>\n",
       "      <td>0.0</td>\n",
       "      <td>2019-09-09</td>\n",
       "    </tr>\n",
       "  </tbody>\n",
       "</table>\n",
       "</div>"
      ],
      "text/plain": [
       "       transaction_id           book_id  buyer_id  price_paid  discount_rate  \\\n",
       "14275           14276  AkxZFWNVpOJVzIdx      1603       51.77            0.0   \n",
       "14276           14277  ce6396b0f23f6ecc      2721         NaN            0.0   \n",
       "14277           14278  ce6396b0f23f6ecc       204       17.46            0.0   \n",
       "14278           14279  1dfe412b8ac00530      2731       52.15            0.0   \n",
       "14279           14280  3b1c02bac2a429e6      1545       52.29            0.0   \n",
       "\n",
       "             date  \n",
       "14275  2021-07-17  \n",
       "14276  2017-03-28  \n",
       "14277  2019-04-05  \n",
       "14278  2019-06-21  \n",
       "14279  2019-09-09  "
      ]
     },
     "execution_count": 53,
     "metadata": {},
     "output_type": "execute_result"
    }
   ],
   "source": [
    "transactions.tail()"
   ]
  },
  {
   "cell_type": "code",
   "execution_count": 54,
   "id": "ee90132a",
   "metadata": {},
   "outputs": [
    {
     "data": {
      "text/plain": [
       "(14280, 6)"
      ]
     },
     "execution_count": 54,
     "metadata": {},
     "output_type": "execute_result"
    }
   ],
   "source": [
    "transactions.shape"
   ]
  },
  {
   "cell_type": "code",
   "execution_count": 55,
   "id": "c41cfced",
   "metadata": {},
   "outputs": [
    {
     "name": "stdout",
     "output_type": "stream",
     "text": [
      "<class 'pandas.core.frame.DataFrame'>\n",
      "RangeIndex: 14280 entries, 0 to 14279\n",
      "Data columns (total 6 columns):\n",
      " #   Column          Non-Null Count  Dtype  \n",
      "---  ------          --------------  -----  \n",
      " 0   transaction_id  14280 non-null  int64  \n",
      " 1   book_id         14280 non-null  object \n",
      " 2   buyer_id        14280 non-null  int64  \n",
      " 3   price_paid      14177 non-null  float64\n",
      " 4   discount_rate   14280 non-null  float64\n",
      " 5   date            14280 non-null  object \n",
      "dtypes: float64(2), int64(2), object(2)\n",
      "memory usage: 669.5+ KB\n"
     ]
    }
   ],
   "source": [
    "transactions.info()\n",
    "\n",
    "# price_paid has null values !"
   ]
  },
  {
   "cell_type": "code",
   "execution_count": 56,
   "id": "cc23b7a9",
   "metadata": {},
   "outputs": [
    {
     "data": {
      "text/html": [
       "<div>\n",
       "<style scoped>\n",
       "    .dataframe tbody tr th:only-of-type {\n",
       "        vertical-align: middle;\n",
       "    }\n",
       "\n",
       "    .dataframe tbody tr th {\n",
       "        vertical-align: top;\n",
       "    }\n",
       "\n",
       "    .dataframe thead th {\n",
       "        text-align: right;\n",
       "    }\n",
       "</style>\n",
       "<table border=\"1\" class=\"dataframe\">\n",
       "  <thead>\n",
       "    <tr style=\"text-align: right;\">\n",
       "      <th></th>\n",
       "      <th>transaction_id</th>\n",
       "      <th>buyer_id</th>\n",
       "      <th>price_paid</th>\n",
       "      <th>discount_rate</th>\n",
       "    </tr>\n",
       "  </thead>\n",
       "  <tbody>\n",
       "    <tr>\n",
       "      <th>count</th>\n",
       "      <td>14280.000000</td>\n",
       "      <td>14280.000000</td>\n",
       "      <td>14177.000000</td>\n",
       "      <td>14280.000000</td>\n",
       "    </tr>\n",
       "    <tr>\n",
       "      <th>mean</th>\n",
       "      <td>7140.500000</td>\n",
       "      <td>1489.743978</td>\n",
       "      <td>32.437048</td>\n",
       "      <td>0.032829</td>\n",
       "    </tr>\n",
       "    <tr>\n",
       "      <th>std</th>\n",
       "      <td>4122.425257</td>\n",
       "      <td>870.932181</td>\n",
       "      <td>15.911298</td>\n",
       "      <td>0.067498</td>\n",
       "    </tr>\n",
       "    <tr>\n",
       "      <th>min</th>\n",
       "      <td>1.000000</td>\n",
       "      <td>1.000000</td>\n",
       "      <td>-53.740000</td>\n",
       "      <td>0.000000</td>\n",
       "    </tr>\n",
       "    <tr>\n",
       "      <th>25%</th>\n",
       "      <td>3570.750000</td>\n",
       "      <td>725.750000</td>\n",
       "      <td>17.930000</td>\n",
       "      <td>0.000000</td>\n",
       "    </tr>\n",
       "    <tr>\n",
       "      <th>50%</th>\n",
       "      <td>7140.500000</td>\n",
       "      <td>1504.000000</td>\n",
       "      <td>31.520000</td>\n",
       "      <td>0.000000</td>\n",
       "    </tr>\n",
       "    <tr>\n",
       "      <th>75%</th>\n",
       "      <td>10710.250000</td>\n",
       "      <td>2245.000000</td>\n",
       "      <td>50.100000</td>\n",
       "      <td>0.000000</td>\n",
       "    </tr>\n",
       "    <tr>\n",
       "      <th>max</th>\n",
       "      <td>14280.000000</td>\n",
       "      <td>3000.000000</td>\n",
       "      <td>53.740000</td>\n",
       "      <td>0.250000</td>\n",
       "    </tr>\n",
       "  </tbody>\n",
       "</table>\n",
       "</div>"
      ],
      "text/plain": [
       "       transaction_id      buyer_id    price_paid  discount_rate\n",
       "count    14280.000000  14280.000000  14177.000000   14280.000000\n",
       "mean      7140.500000   1489.743978     32.437048       0.032829\n",
       "std       4122.425257    870.932181     15.911298       0.067498\n",
       "min          1.000000      1.000000    -53.740000       0.000000\n",
       "25%       3570.750000    725.750000     17.930000       0.000000\n",
       "50%       7140.500000   1504.000000     31.520000       0.000000\n",
       "75%      10710.250000   2245.000000     50.100000       0.000000\n",
       "max      14280.000000   3000.000000     53.740000       0.250000"
      ]
     },
     "execution_count": 56,
     "metadata": {},
     "output_type": "execute_result"
    }
   ],
   "source": [
    "transactions.describe()\n",
    "\n",
    "# price_paid has negative values (credit note ?)"
   ]
  },
  {
   "cell_type": "code",
   "execution_count": 57,
   "id": "1b46f134",
   "metadata": {},
   "outputs": [
    {
     "data": {
      "text/plain": [
       "transaction_id      int64\n",
       "book_id            object\n",
       "buyer_id            int64\n",
       "price_paid        float64\n",
       "discount_rate     float64\n",
       "date               object\n",
       "dtype: object"
      ]
     },
     "execution_count": 57,
     "metadata": {},
     "output_type": "execute_result"
    }
   ],
   "source": [
    "transactions.dtypes"
   ]
  },
  {
   "cell_type": "code",
   "execution_count": 58,
   "id": "d44a86fb",
   "metadata": {},
   "outputs": [
    {
     "name": "stdout",
     "output_type": "stream",
     "text": [
      "<class 'pandas.core.series.Series'>\n",
      "RangeIndex: 14280 entries, 0 to 14279\n",
      "Series name: date\n",
      "Non-Null Count  Dtype         \n",
      "--------------  -----         \n",
      "14280 non-null  datetime64[ns]\n",
      "dtypes: datetime64[ns](1)\n",
      "memory usage: 111.7 KB\n"
     ]
    }
   ],
   "source": [
    "transactions[\"transaction_id\"] = transactions[\"transaction_id\"].astype(\"object\")\n",
    "transactions[\"buyer_id\"] = transactions[\"buyer_id\"].astype(\"object\")\n",
    "transactions[\"date\"] = pd.to_datetime(transactions[\"date\"], errors=\"coerce\")\n",
    "\n",
    "transactions[\"date\"].info()"
   ]
  },
  {
   "cell_type": "code",
   "execution_count": 59,
   "id": "8d4ab1bb",
   "metadata": {},
   "outputs": [
    {
     "name": "stdout",
     "output_type": "stream",
     "text": [
      "transaction_id 14280\n",
      "book_id 103\n",
      "buyer_id 2985\n",
      "price_paid 94\n",
      "discount_rate 5\n",
      "date 2971\n"
     ]
    }
   ],
   "source": [
    "for x in transactions.columns:\n",
    "    print(x, transactions[x].nunique())"
   ]
  },
  {
   "cell_type": "code",
   "execution_count": 60,
   "id": "b3090e53",
   "metadata": {},
   "outputs": [
    {
     "name": "stdout",
     "output_type": "stream",
     "text": [
      "transaction_id 0\n",
      "book_id 0\n",
      "buyer_id 0\n",
      "price_paid 103\n",
      "discount_rate 0\n",
      "date 0\n"
     ]
    }
   ],
   "source": [
    "for x in transactions.columns:\n",
    "    print(x, transactions[x].isnull().sum())\n",
    "\n",
    "# 103 records in the column price_parid are null values"
   ]
  },
  {
   "cell_type": "code",
   "execution_count": 61,
   "id": "7ce11beb",
   "metadata": {},
   "outputs": [
    {
     "data": {
      "text/html": [
       "<div>\n",
       "<style scoped>\n",
       "    .dataframe tbody tr th:only-of-type {\n",
       "        vertical-align: middle;\n",
       "    }\n",
       "\n",
       "    .dataframe tbody tr th {\n",
       "        vertical-align: top;\n",
       "    }\n",
       "\n",
       "    .dataframe thead th {\n",
       "        text-align: right;\n",
       "    }\n",
       "</style>\n",
       "<table border=\"1\" class=\"dataframe\">\n",
       "  <thead>\n",
       "    <tr style=\"text-align: right;\">\n",
       "      <th></th>\n",
       "      <th>transaction_id</th>\n",
       "      <th>book_id</th>\n",
       "      <th>buyer_id</th>\n",
       "      <th>price_paid</th>\n",
       "      <th>discount_rate</th>\n",
       "      <th>date</th>\n",
       "    </tr>\n",
       "  </thead>\n",
       "  <tbody>\n",
       "    <tr>\n",
       "      <th>0</th>\n",
       "      <td>1</td>\n",
       "      <td>0312262ecafa5a40</td>\n",
       "      <td>1862</td>\n",
       "      <td>13.99</td>\n",
       "      <td>0.00</td>\n",
       "      <td>2026-11-13</td>\n",
       "    </tr>\n",
       "    <tr>\n",
       "      <th>1</th>\n",
       "      <td>2</td>\n",
       "      <td>a34ba96d4081e6a4</td>\n",
       "      <td>157</td>\n",
       "      <td>33.27</td>\n",
       "      <td>0.05</td>\n",
       "      <td>2019-04-17</td>\n",
       "    </tr>\n",
       "    <tr>\n",
       "      <th>2</th>\n",
       "      <td>3</td>\n",
       "      <td>30a7f60cd76ca58c</td>\n",
       "      <td>1925</td>\n",
       "      <td>18.59</td>\n",
       "      <td>0.10</td>\n",
       "      <td>2021-11-30</td>\n",
       "    </tr>\n",
       "    <tr>\n",
       "      <th>3</th>\n",
       "      <td>4</td>\n",
       "      <td>a897fe39b1053632</td>\n",
       "      <td>875</td>\n",
       "      <td>51.77</td>\n",
       "      <td>0.00</td>\n",
       "      <td>2020-05-30</td>\n",
       "    </tr>\n",
       "    <tr>\n",
       "      <th>4</th>\n",
       "      <td>5</td>\n",
       "      <td>0312262ecafa5a40</td>\n",
       "      <td>129</td>\n",
       "      <td>13.99</td>\n",
       "      <td>0.00</td>\n",
       "      <td>2022-01-17</td>\n",
       "    </tr>\n",
       "  </tbody>\n",
       "</table>\n",
       "</div>"
      ],
      "text/plain": [
       "  transaction_id           book_id buyer_id  price_paid  discount_rate  \\\n",
       "0              1  0312262ecafa5a40     1862       13.99           0.00   \n",
       "1              2  a34ba96d4081e6a4      157       33.27           0.05   \n",
       "2              3  30a7f60cd76ca58c     1925       18.59           0.10   \n",
       "3              4  a897fe39b1053632      875       51.77           0.00   \n",
       "4              5  0312262ecafa5a40      129       13.99           0.00   \n",
       "\n",
       "        date  \n",
       "0 2026-11-13  \n",
       "1 2019-04-17  \n",
       "2 2021-11-30  \n",
       "3 2020-05-30  \n",
       "4 2022-01-17  "
      ]
     },
     "execution_count": 61,
     "metadata": {},
     "output_type": "execute_result"
    }
   ],
   "source": [
    "transactions.head()"
   ]
  },
  {
   "cell_type": "code",
   "execution_count": 62,
   "id": "87f8e65b",
   "metadata": {},
   "outputs": [
    {
     "data": {
      "text/plain": [
       "array([13.99, 33.27, 18.59, 51.77, 33.34, 52.29, 16.14, 53.74, 17.46,\n",
       "       52.15, 48.37, 50.1 , 20.66, 17.93, 39.22, 13.1 , 46.59, 44.45,\n",
       "       25.01, 35.02, 15.24, 22.6 , 49.54, 31.52, 22.65, 46.94, 38.83,\n",
       "       29.77, 13.45, 44.33, 45.68, 19.21, 42.58, 11.89, 20.34, 14.84,\n",
       "       45.09, 19.25, 10.49, 13.29, 47.06, 15.71, 49.68, 40.3 , 20.38,\n",
       "       37.58, 16.99, 19.63, 47.6 , 49.18, 15.5 , 12.59, 16.59, 28.34,\n",
       "       17.56, 44.  , 39.11, 30.01, 31.67, 16.95, 26.26, 17.03, 21.52,\n",
       "       51.05, 21.47])"
      ]
     },
     "execution_count": 62,
     "metadata": {},
     "output_type": "execute_result"
    }
   ],
   "source": [
    "transactions = transactions[transactions[\"price_paid\"] > 0]\n",
    "transactions[\"price_paid\"].unique()"
   ]
  },
  {
   "cell_type": "code",
   "execution_count": 63,
   "id": "5ec9d0e8",
   "metadata": {},
   "outputs": [],
   "source": [
    "# deleting all the irrelevant transactions that aren't related to the list of my books\n",
    "\n",
    "transactions = transactions.merge(products, how=\"inner\", left_on=\"book_id\", right_on=\"book_id\")"
   ]
  },
  {
   "cell_type": "code",
   "execution_count": 64,
   "id": "98b7e6ea",
   "metadata": {},
   "outputs": [
    {
     "data": {
      "text/plain": [
       "array(['0312262ecafa5a40', 'a34ba96d4081e6a4', '30a7f60cd76ca58c',\n",
       "       'a897fe39b1053632', '2597b5a345f45e1b', '3b1c02bac2a429e6',\n",
       "       'e72a5dfc7e9267b2', '90fa61229261140a', 'ce6396b0f23f6ecc',\n",
       "       '1dfe412b8ac00530', '6957f44c3847a760', 'e10e1e165dc8be4a',\n",
       "       'f77dbf2323deb740'], dtype=object)"
      ]
     },
     "execution_count": 64,
     "metadata": {},
     "output_type": "execute_result"
    }
   ],
   "source": [
    "transactions[\"book_id\"].unique()"
   ]
  },
  {
   "cell_type": "code",
   "execution_count": 65,
   "id": "c0cc699a",
   "metadata": {},
   "outputs": [
    {
     "data": {
      "text/plain": [
       "(13988, 12)"
      ]
     },
     "execution_count": 65,
     "metadata": {},
     "output_type": "execute_result"
    }
   ],
   "source": [
    "transactions.shape"
   ]
  },
  {
   "cell_type": "code",
   "execution_count": 66,
   "id": "d1300e4e",
   "metadata": {},
   "outputs": [
    {
     "name": "stdout",
     "output_type": "stream",
     "text": [
      "<class 'pandas.core.frame.DataFrame'>\n",
      "RangeIndex: 13988 entries, 0 to 13987\n",
      "Data columns (total 12 columns):\n",
      " #   Column          Non-Null Count  Dtype         \n",
      "---  ------          --------------  -----         \n",
      " 0   transaction_id  13988 non-null  object        \n",
      " 1   book_id         13988 non-null  object        \n",
      " 2   buyer_id        13988 non-null  object        \n",
      " 3   price_paid      13988 non-null  float64       \n",
      " 4   discount_rate   13988 non-null  float64       \n",
      " 5   date            13988 non-null  datetime64[ns]\n",
      " 6   name            13988 non-null  object        \n",
      " 7   price           13988 non-null  float64       \n",
      " 8   category        13988 non-null  category      \n",
      " 9   summary         13988 non-null  object        \n",
      " 10  rating          13988 non-null  category      \n",
      " 11  seller_id       13988 non-null  int64         \n",
      "dtypes: category(2), datetime64[ns](1), float64(3), int64(1), object(5)\n",
      "memory usage: 1.1+ MB\n"
     ]
    }
   ],
   "source": [
    "transactions.info()"
   ]
  },
  {
   "cell_type": "code",
   "execution_count": 67,
   "id": "5e957878",
   "metadata": {},
   "outputs": [],
   "source": [
    "transactions[\"price_paid\"] = transactions[\"price\"]"
   ]
  },
  {
   "cell_type": "code",
   "execution_count": 68,
   "id": "90700533",
   "metadata": {},
   "outputs": [],
   "source": [
    "list = [\"name\", \"price\", \"category\", \"summary\", \"rating\", \"seller_id\"]\n",
    "\n",
    "for x in list:\n",
    "    transactions = transactions.drop(x, axis=1)"
   ]
  },
  {
   "cell_type": "code",
   "execution_count": 69,
   "id": "8d66be49",
   "metadata": {},
   "outputs": [],
   "source": [
    "transactions = transactions.rename(columns={\"price_paid\":\"price\"})"
   ]
  },
  {
   "cell_type": "code",
   "execution_count": 70,
   "id": "e02be9d6",
   "metadata": {},
   "outputs": [],
   "source": [
    "transactions.insert(4, \"price_paid\", transactions[\"price\"] - (transactions[\"price\"] * transactions[\"discount_rate\"]))\n",
    "transactions[\"price_paid\"] = transactions[\"price_paid\"].round(2)"
   ]
  },
  {
   "cell_type": "code",
   "execution_count": 71,
   "id": "b90ce409",
   "metadata": {},
   "outputs": [
    {
     "data": {
      "text/html": [
       "<div>\n",
       "<style scoped>\n",
       "    .dataframe tbody tr th:only-of-type {\n",
       "        vertical-align: middle;\n",
       "    }\n",
       "\n",
       "    .dataframe tbody tr th {\n",
       "        vertical-align: top;\n",
       "    }\n",
       "\n",
       "    .dataframe thead th {\n",
       "        text-align: right;\n",
       "    }\n",
       "</style>\n",
       "<table border=\"1\" class=\"dataframe\">\n",
       "  <thead>\n",
       "    <tr style=\"text-align: right;\">\n",
       "      <th></th>\n",
       "      <th>transaction_id</th>\n",
       "      <th>book_id</th>\n",
       "      <th>buyer_id</th>\n",
       "      <th>price</th>\n",
       "      <th>price_paid</th>\n",
       "      <th>discount_rate</th>\n",
       "      <th>date</th>\n",
       "    </tr>\n",
       "  </thead>\n",
       "  <tbody>\n",
       "    <tr>\n",
       "      <th>0</th>\n",
       "      <td>1</td>\n",
       "      <td>0312262ecafa5a40</td>\n",
       "      <td>1862</td>\n",
       "      <td>13.99</td>\n",
       "      <td>13.99</td>\n",
       "      <td>0.00</td>\n",
       "      <td>2026-11-13</td>\n",
       "    </tr>\n",
       "    <tr>\n",
       "      <th>1</th>\n",
       "      <td>2</td>\n",
       "      <td>a34ba96d4081e6a4</td>\n",
       "      <td>157</td>\n",
       "      <td>35.02</td>\n",
       "      <td>33.27</td>\n",
       "      <td>0.05</td>\n",
       "      <td>2019-04-17</td>\n",
       "    </tr>\n",
       "    <tr>\n",
       "      <th>2</th>\n",
       "      <td>3</td>\n",
       "      <td>30a7f60cd76ca58c</td>\n",
       "      <td>1925</td>\n",
       "      <td>20.66</td>\n",
       "      <td>18.59</td>\n",
       "      <td>0.10</td>\n",
       "      <td>2021-11-30</td>\n",
       "    </tr>\n",
       "    <tr>\n",
       "      <th>3</th>\n",
       "      <td>4</td>\n",
       "      <td>a897fe39b1053632</td>\n",
       "      <td>875</td>\n",
       "      <td>51.77</td>\n",
       "      <td>51.77</td>\n",
       "      <td>0.00</td>\n",
       "      <td>2020-05-30</td>\n",
       "    </tr>\n",
       "    <tr>\n",
       "      <th>4</th>\n",
       "      <td>5</td>\n",
       "      <td>0312262ecafa5a40</td>\n",
       "      <td>129</td>\n",
       "      <td>13.99</td>\n",
       "      <td>13.99</td>\n",
       "      <td>0.00</td>\n",
       "      <td>2022-01-17</td>\n",
       "    </tr>\n",
       "  </tbody>\n",
       "</table>\n",
       "</div>"
      ],
      "text/plain": [
       "  transaction_id           book_id buyer_id  price  price_paid  discount_rate  \\\n",
       "0              1  0312262ecafa5a40     1862  13.99       13.99           0.00   \n",
       "1              2  a34ba96d4081e6a4      157  35.02       33.27           0.05   \n",
       "2              3  30a7f60cd76ca58c     1925  20.66       18.59           0.10   \n",
       "3              4  a897fe39b1053632      875  51.77       51.77           0.00   \n",
       "4              5  0312262ecafa5a40      129  13.99       13.99           0.00   \n",
       "\n",
       "        date  \n",
       "0 2026-11-13  \n",
       "1 2019-04-17  \n",
       "2 2021-11-30  \n",
       "3 2020-05-30  \n",
       "4 2022-01-17  "
      ]
     },
     "execution_count": 71,
     "metadata": {},
     "output_type": "execute_result"
    }
   ],
   "source": [
    "transactions.head()"
   ]
  },
  {
   "cell_type": "code",
   "execution_count": 72,
   "id": "bbf1f0a2",
   "metadata": {},
   "outputs": [
    {
     "name": "stdout",
     "output_type": "stream",
     "text": [
      "<class 'pandas.core.frame.DataFrame'>\n",
      "RangeIndex: 13988 entries, 0 to 13987\n",
      "Data columns (total 7 columns):\n",
      " #   Column          Non-Null Count  Dtype         \n",
      "---  ------          --------------  -----         \n",
      " 0   transaction_id  13988 non-null  object        \n",
      " 1   book_id         13988 non-null  object        \n",
      " 2   buyer_id        13988 non-null  object        \n",
      " 3   price           13988 non-null  float64       \n",
      " 4   price_paid      13988 non-null  float64       \n",
      " 5   discount_rate   13988 non-null  float64       \n",
      " 6   date            13988 non-null  datetime64[ns]\n",
      "dtypes: datetime64[ns](1), float64(3), object(3)\n",
      "memory usage: 765.1+ KB\n"
     ]
    }
   ],
   "source": [
    "transactions.info()"
   ]
  },
  {
   "cell_type": "code",
   "execution_count": 73,
   "id": "6a98bb6c",
   "metadata": {},
   "outputs": [
    {
     "name": "stdout",
     "output_type": "stream",
     "text": [
      "buyer_id : True\n",
      "book_id : True\n",
      "review_id : True\n",
      "seller_id : True\n",
      "transaction_id : True\n"
     ]
    }
   ],
   "source": [
    "is_unique_buyer_id = buyers[\"buyer_id\"].is_unique\n",
    "print(\"buyer_id :\", is_unique_buyer_id) \n",
    "is_unique_book_id = products[\"book_id\"].is_unique\n",
    "print(\"book_id :\", is_unique_book_id)\n",
    "is_unique_review_id = reviews[\"review_id\"].is_unique\n",
    "print(\"review_id :\", is_unique_review_id)\n",
    "is_unique_seller_id = sellers[\"seller_id\"].is_unique\n",
    "print(\"seller_id :\", is_unique_seller_id)\n",
    "is_unique_transaction_id = transactions[\"transaction_id\"].is_unique\n",
    "print(\"transaction_id :\", is_unique_transaction_id)\n"
   ]
  },
  {
   "cell_type": "code",
   "execution_count": null,
   "id": "2a1018b4",
   "metadata": {},
   "outputs": [],
   "source": []
  },
  {
   "cell_type": "code",
   "execution_count": null,
   "id": "c1f6ae8f",
   "metadata": {},
   "outputs": [
    {
     "name": "stdout",
     "output_type": "stream",
     "text": [
      "FK book_id missing in transactions: 0\n",
      "FK buyer_id missing in transactions: 0\n",
      "FK book_id missing in reviews: 0\n"
     ]
    }
   ],
   "source": [
    "missing_values_transactions_book_id_fkey = transactions[~transactions[\"book_id\"].isin(products[\"book_id\"])]\n",
    "print(f\"FK book_id missing in transactions: {len(missing_values_transactions_book_id_fkey)}\")\n",
    "missing_values_transactions_buyer_id_fkey = transactions[~transactions[\"buyer_id\"].isin(buyers[\"buyer_id\"])]\n",
    "print(f\"FK buyer_id missing in transactions: {len(missing_values_transactions_buyer_id_fkey)}\")\n",
    "missin_values_reviews_book_id_fkey2 = reviews[~reviews[\"book_id\"].isin(products[\"book_id\"])]\n",
    "print(f\"FK book_id missing in reviews: {len(missin_values_reviews_book_id_fkey2)}\")\n"
   ]
  },
  {
   "cell_type": "code",
   "execution_count": 79,
   "id": "34fdf45a",
   "metadata": {},
   "outputs": [
    {
     "data": {
      "text/html": [
       "<div>\n",
       "<style scoped>\n",
       "    .dataframe tbody tr th:only-of-type {\n",
       "        vertical-align: middle;\n",
       "    }\n",
       "\n",
       "    .dataframe tbody tr th {\n",
       "        vertical-align: top;\n",
       "    }\n",
       "\n",
       "    .dataframe thead th {\n",
       "        text-align: right;\n",
       "    }\n",
       "</style>\n",
       "<table border=\"1\" class=\"dataframe\">\n",
       "  <thead>\n",
       "    <tr style=\"text-align: right;\">\n",
       "      <th></th>\n",
       "      <th>transaction_id</th>\n",
       "      <th>book_id</th>\n",
       "      <th>buyer_id</th>\n",
       "      <th>price_x</th>\n",
       "      <th>price_paid</th>\n",
       "      <th>discount_rate</th>\n",
       "      <th>date</th>\n",
       "      <th>name</th>\n",
       "      <th>price_y</th>\n",
       "      <th>category</th>\n",
       "      <th>summary</th>\n",
       "      <th>rating</th>\n",
       "      <th>seller_id</th>\n",
       "      <th>_merge</th>\n",
       "    </tr>\n",
       "  </thead>\n",
       "  <tbody>\n",
       "  </tbody>\n",
       "</table>\n",
       "</div>"
      ],
      "text/plain": [
       "Empty DataFrame\n",
       "Columns: [transaction_id, book_id, buyer_id, price_x, price_paid, discount_rate, date, name, price_y, category, summary, rating, seller_id, _merge]\n",
       "Index: []"
      ]
     },
     "execution_count": 79,
     "metadata": {},
     "output_type": "execute_result"
    }
   ],
   "source": [
    "# both = match in both tables \n",
    "# left_only = exists in transactions but not in products (foreign key absent)\n",
    "# right_only = exists in products but not in transactions\n",
    "\n",
    "merged = transactions.merge(products, how=\"left\", on=\"book_id\", indicator=True)\n",
    "merged[merged[\"_merge\"] == \"left_only\"]"
   ]
  },
  {
   "cell_type": "code",
   "execution_count": 80,
   "id": "87f0035e",
   "metadata": {},
   "outputs": [
    {
     "data": {
      "text/html": [
       "<div>\n",
       "<style scoped>\n",
       "    .dataframe tbody tr th:only-of-type {\n",
       "        vertical-align: middle;\n",
       "    }\n",
       "\n",
       "    .dataframe tbody tr th {\n",
       "        vertical-align: top;\n",
       "    }\n",
       "\n",
       "    .dataframe thead th {\n",
       "        text-align: right;\n",
       "    }\n",
       "</style>\n",
       "<table border=\"1\" class=\"dataframe\">\n",
       "  <thead>\n",
       "    <tr style=\"text-align: right;\">\n",
       "      <th></th>\n",
       "      <th>transaction_id</th>\n",
       "      <th>book_id</th>\n",
       "      <th>buyer_id</th>\n",
       "      <th>price</th>\n",
       "      <th>price_paid</th>\n",
       "      <th>discount_rate</th>\n",
       "      <th>date</th>\n",
       "      <th>name</th>\n",
       "      <th>gender</th>\n",
       "      <th>birthdate</th>\n",
       "      <th>country</th>\n",
       "      <th>customer_type</th>\n",
       "      <th>_merge</th>\n",
       "    </tr>\n",
       "  </thead>\n",
       "  <tbody>\n",
       "  </tbody>\n",
       "</table>\n",
       "</div>"
      ],
      "text/plain": [
       "Empty DataFrame\n",
       "Columns: [transaction_id, book_id, buyer_id, price, price_paid, discount_rate, date, name, gender, birthdate, country, customer_type, _merge]\n",
       "Index: []"
      ]
     },
     "execution_count": 80,
     "metadata": {},
     "output_type": "execute_result"
    }
   ],
   "source": [
    "merged = transactions.merge(buyers, how=\"left\", on=\"buyer_id\", indicator=True)\n",
    "merged[merged[\"_merge\"] == \"left_only\"]"
   ]
  },
  {
   "cell_type": "code",
   "execution_count": 81,
   "id": "8d783a6b",
   "metadata": {},
   "outputs": [
    {
     "data": {
      "text/html": [
       "<div>\n",
       "<style scoped>\n",
       "    .dataframe tbody tr th:only-of-type {\n",
       "        vertical-align: middle;\n",
       "    }\n",
       "\n",
       "    .dataframe tbody tr th {\n",
       "        vertical-align: top;\n",
       "    }\n",
       "\n",
       "    .dataframe thead th {\n",
       "        text-align: right;\n",
       "    }\n",
       "</style>\n",
       "<table border=\"1\" class=\"dataframe\">\n",
       "  <thead>\n",
       "    <tr style=\"text-align: right;\">\n",
       "      <th></th>\n",
       "      <th>review_id</th>\n",
       "      <th>book_id</th>\n",
       "      <th>review_text</th>\n",
       "      <th>rating_x</th>\n",
       "      <th>review_date</th>\n",
       "      <th>author</th>\n",
       "      <th>name</th>\n",
       "      <th>price</th>\n",
       "      <th>category</th>\n",
       "      <th>summary</th>\n",
       "      <th>rating_y</th>\n",
       "      <th>seller_id</th>\n",
       "      <th>_merge</th>\n",
       "    </tr>\n",
       "  </thead>\n",
       "  <tbody>\n",
       "  </tbody>\n",
       "</table>\n",
       "</div>"
      ],
      "text/plain": [
       "Empty DataFrame\n",
       "Columns: [review_id, book_id, review_text, rating_x, review_date, author, name, price, category, summary, rating_y, seller_id, _merge]\n",
       "Index: []"
      ]
     },
     "execution_count": 81,
     "metadata": {},
     "output_type": "execute_result"
    }
   ],
   "source": [
    "merged = reviews.merge(products, how=\"left\", on=\"book_id\", indicator=True)\n",
    "merged[merged[\"_merge\"] == \"left_only\"]"
   ]
  },
  {
   "cell_type": "code",
   "execution_count": null,
   "id": "cdf8030f",
   "metadata": {},
   "outputs": [],
   "source": [
    "buyers.to_csv(\"results_python/buyers.csv\", index=False)\n",
    "products.to_csv(\"results_python/products.csv\", index=False)\n",
    "reviews.to_csv(\"results_python/reviews.csv\", index=False)\n",
    "sellers.to_csv(\"results_python/sellers.csv\", index=False)\n",
    "transactions.to_csv(\"results_python/transactions.csv\", index=False)"
   ]
  }
 ],
 "metadata": {
  "kernelspec": {
   "display_name": "Python 3",
   "language": "python",
   "name": "python3"
  },
  "language_info": {
   "codemirror_mode": {
    "name": "ipython",
    "version": 3
   },
   "file_extension": ".py",
   "mimetype": "text/x-python",
   "name": "python",
   "nbconvert_exporter": "python",
   "pygments_lexer": "ipython3",
   "version": "3.12.5"
  }
 },
 "nbformat": 4,
 "nbformat_minor": 5
}
